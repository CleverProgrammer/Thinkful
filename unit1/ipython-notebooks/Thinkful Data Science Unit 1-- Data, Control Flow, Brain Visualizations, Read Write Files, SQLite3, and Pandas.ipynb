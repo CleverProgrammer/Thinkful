{
 "cells": [
  {
   "cell_type": "markdown",
   "metadata": {},
   "source": [
    "# Easily Compare Data Types"
   ]
  },
  {
   "cell_type": "code",
   "execution_count": 1,
   "metadata": {
    "collapsed": false
   },
   "outputs": [
    {
     "name": "stdout",
     "output_type": "stream",
     "text": [
      "hello is NOT bool\n"
     ]
    }
   ],
   "source": [
    "def bool_or_not(t):\n",
    "    if type(t) == bool:\n",
    "        print(' %s is bool' %t)\n",
    "    else:\n",
    "        print('%s is NOT bool' %t)\n",
    "\n",
    "bool_or_not('hello')"
   ]
  },
  {
   "cell_type": "code",
   "execution_count": 23,
   "metadata": {
    "collapsed": true
   },
   "outputs": [],
   "source": [
    "from IPython.display import Image"
   ]
  },
  {
   "cell_type": "code",
   "execution_count": 24,
   "metadata": {
    "collapsed": false
   },
   "outputs": [
    {
     "data": {
      "text/html": [
       "<img src=\"https://tf-curricula-prod.s3.amazonaws.com/curricula/b04b6f653b9d364d5612ac767527458a/DATA-001/v2/assets2/1.1.3_Get_To_Know_Pythons_Data_Types/Data_types_2.png\"/>"
      ],
      "text/plain": [
       "<IPython.core.display.Image object>"
      ]
     },
     "execution_count": 24,
     "metadata": {},
     "output_type": "execute_result"
    }
   ],
   "source": [
    "Image(url='https://tf-curricula-prod.s3.amazonaws.com/curricula/b04b6f653b9d364d5612ac767527458a/DATA-001/v2/assets2/1.1.3_Get_To_Know_Pythons_Data_Types/Data_types_2.png')"
   ]
  },
  {
   "cell_type": "markdown",
   "metadata": {},
   "source": [
    "# String Formatting"
   ]
  },
  {
   "cell_type": "markdown",
   "metadata": {},
   "source": [
    "<li>{}.format()\n",
    "<li>%s - represent literal\n",
    "<li>%d - represent digit"
   ]
  },
  {
   "cell_type": "code",
   "execution_count": 30,
   "metadata": {
    "collapsed": false
   },
   "outputs": [
    {
     "data": {
      "text/plain": [
       "'Yo what is up breh? I am just chilling'"
      ]
     },
     "execution_count": 30,
     "metadata": {},
     "output_type": "execute_result"
    }
   ],
   "source": [
    "\"{0} what is up {1}? I am just {2}\".format('Yo','breh',\n",
    "                                          'chilling')"
   ]
  },
  {
   "cell_type": "code",
   "execution_count": 45,
   "metadata": {
    "collapsed": false
   },
   "outputs": [
    {
     "name": "stdout",
     "output_type": "stream",
     "text": [
      "Reversed: [5, 4, 3, 2, 1]\n",
      "Deleted index 2: [1, 2, 4, 5]\n",
      "1 in li: True\n",
      "Stepping by 2: [0, 2, 4, 6, 8, 10, 12, 14, 16, 18]\n"
     ]
    }
   ],
   "source": [
    "x = [1,2,3,4,5]\n",
    "print( \"Reversed: %s\" %x[::-1])\n",
    "\n",
    "del x[2]\n",
    "print( \"Deleted index 2: %s\" %x)\n",
    "\n",
    "print (\"1 in li: %s\" %(1 in x))\n",
    "\n",
    "q = list(range(0,20,2))\n",
    "print (\"Stepping by 2: %s\" %(q))"
   ]
  },
  {
   "cell_type": "markdown",
   "metadata": {},
   "source": [
    "# Sets\n",
    "<li> &   -- Return similarities between sets\n",
    "<li> |   -- Return joint sets (set1 + set2)"
   ]
  },
  {
   "cell_type": "code",
   "execution_count": 46,
   "metadata": {
    "collapsed": false
   },
   "outputs": [
    {
     "data": {
      "text/plain": [
       "{1, 2, 3, 4, 5, 6, 7}"
      ]
     },
     "execution_count": 46,
     "metadata": {},
     "output_type": "execute_result"
    }
   ],
   "source": [
    "my_set = {1,2,2,3,4,5,6,7}\n",
    "my_set"
   ]
  },
  {
   "cell_type": "code",
   "execution_count": 47,
   "metadata": {
    "collapsed": false
   },
   "outputs": [
    {
     "data": {
      "text/plain": [
       "{6, 7, 8, 9, 10}"
      ]
     },
     "execution_count": 47,
     "metadata": {},
     "output_type": "execute_result"
    }
   ],
   "source": [
    "your_set = {6,7,8,9,10}\n",
    "your_set"
   ]
  },
  {
   "cell_type": "code",
   "execution_count": 48,
   "metadata": {
    "collapsed": false
   },
   "outputs": [
    {
     "data": {
      "text/plain": [
       "{6, 7}"
      ]
     },
     "execution_count": 48,
     "metadata": {},
     "output_type": "execute_result"
    }
   ],
   "source": [
    "# & command\n",
    "# Return similar values between sets\n",
    "my_set & your_set"
   ]
  },
  {
   "cell_type": "code",
   "execution_count": 49,
   "metadata": {
    "collapsed": false
   },
   "outputs": [
    {
     "data": {
      "text/plain": [
       "{1, 2, 3, 4, 5, 6, 7, 8, 9, 10}"
      ]
     },
     "execution_count": 49,
     "metadata": {},
     "output_type": "execute_result"
    }
   ],
   "source": [
    "# | return joint sets\n",
    "my_set | your_set"
   ]
  },
  {
   "cell_type": "code",
   "execution_count": 53,
   "metadata": {
    "collapsed": false
   },
   "outputs": [
    {
     "data": {
      "text/html": [
       "<img src=\"http://s29.postimg.org/86323s15j/Python_Data_Types.png\"/>"
      ],
      "text/plain": [
       "<IPython.core.display.Image object>"
      ]
     },
     "execution_count": 53,
     "metadata": {},
     "output_type": "execute_result"
    }
   ],
   "source": [
    "Image(url='http://s29.postimg.org/86323s15j/Python_Data_Types.png')"
   ]
  },
  {
   "cell_type": "code",
   "execution_count": 55,
   "metadata": {
    "collapsed": true
   },
   "outputs": [],
   "source": [
    "actors = {\n",
    "    \"Kyle MacLachlan\": \"Dale Cooper\",\n",
    "    \"Sheryl Lee\": \"Laura Palmer\",\n",
    "    \"Lara Flynn Boyle\": \"Donna Hayward\",\n",
    "    \"Sherilyn Fenn\" : \"Audrey Horne\"\n",
    "}"
   ]
  },
  {
   "cell_type": "code",
   "execution_count": 56,
   "metadata": {
    "collapsed": false
   },
   "outputs": [
    {
     "name": "stdout",
     "output_type": "stream",
     "text": [
      "Actor: Lara Flynn Boyle\n",
      "Role: Donna Hayward\n",
      "\n",
      "Actor: Sherilyn Fenn\n",
      "Role: Audrey Horne\n",
      "\n",
      "Actor: Kyle MacLachlan\n",
      "Role: Dale Cooper\n",
      "\n",
      "Actor: Sheryl Lee\n",
      "Role: Laura Palmer\n",
      "\n"
     ]
    }
   ],
   "source": [
    "for i in actors:\n",
    "    print (\"Actor: %s\" %i)\n",
    "    print (\"Role: %s\\n\" %actors[i])\n",
    "    \n",
    "# i will print the name of the actors\n",
    "# actors[i] will return the role of the actor."
   ]
  },
  {
   "cell_type": "markdown",
   "metadata": {},
   "source": [
    "**Use a while loop to solve the following problem: A slow, but determined, walker sets off from Leicester to cover the 102 miles to London at 2 miles per hour. Another walker sets off from London heading to Leicester going at 1 mile per hour. Where do they meet?**"
   ]
  },
  {
   "cell_type": "code",
   "execution_count": 9,
   "metadata": {
    "collapsed": false
   },
   "outputs": [
    {
     "name": "stdout",
     "output_type": "stream",
     "text": [
      "Leicester: 34\n",
      "London: 34\n",
      "They meet at: 34\n"
     ]
    }
   ],
   "source": [
    "Leicester = 102\n",
    "London = 0\n",
    "while London != Leicester:\n",
    "    Leicester -= 2\n",
    "    London += 1\n",
    "print (\"Leicester: %s\" %Leicester)\n",
    "print (\"London: %s\" %London)\n",
    "print (\"They meet at: %s\" %London)"
   ]
  },
  {
   "cell_type": "markdown",
   "metadata": {},
   "source": [
    "# Try Block Error Catching"
   ]
  },
  {
   "cell_type": "code",
   "execution_count": 66,
   "metadata": {
    "collapsed": false
   },
   "outputs": [
    {
     "name": "stdout",
     "output_type": "stream",
     "text": [
      "1\n"
     ]
    },
    {
     "ename": "ZeroDivisionError",
     "evalue": "division by zero",
     "output_type": "error",
     "traceback": [
      "\u001b[0;31m---------------------------------------------------------------------------\u001b[0m",
      "\u001b[0;31mZeroDivisionError\u001b[0m                         Traceback (most recent call last)",
      "\u001b[0;32m<ipython-input-66-5618efdf3e1d>\u001b[0m in \u001b[0;36m<module>\u001b[0;34m()\u001b[0m\n\u001b[1;32m      2\u001b[0m \u001b[0ma\u001b[0m \u001b[0;34m=\u001b[0m \u001b[0mint\u001b[0m\u001b[0;34m(\u001b[0m\u001b[0minput\u001b[0m\u001b[0;34m(\u001b[0m\u001b[0;34m)\u001b[0m\u001b[0;34m)\u001b[0m\u001b[0;34m\u001b[0m\u001b[0m\n\u001b[1;32m      3\u001b[0m \u001b[0mb\u001b[0m \u001b[0;34m=\u001b[0m \u001b[0;36m0\u001b[0m\u001b[0;34m\u001b[0m\u001b[0m\n\u001b[0;32m----> 4\u001b[0;31m \u001b[0ma\u001b[0m\u001b[0;34m/\u001b[0m\u001b[0mb\u001b[0m\u001b[0;34m\u001b[0m\u001b[0m\n\u001b[0m",
      "\u001b[0;31mZeroDivisionError\u001b[0m: division by zero"
     ]
    }
   ],
   "source": [
    "# Stupid Error-ful example\n",
    "a = int(input())\n",
    "b = 0\n",
    "a/b"
   ]
  },
  {
   "cell_type": "code",
   "execution_count": 65,
   "metadata": {
    "collapsed": false
   },
   "outputs": [
    {
     "name": "stdout",
     "output_type": "stream",
     "text": [
      "1\n",
      "Cannot divide by zero man. Come on.\n"
     ]
    }
   ],
   "source": [
    "# Better error example\n",
    "a = int(input())\n",
    "b = 0\n",
    "try:\n",
    "    a/b\n",
    "except ZeroDivisionError:\n",
    "    print(\"Cannot divide by zero man. Come on.\")"
   ]
  },
  {
   "cell_type": "code",
   "execution_count": 70,
   "metadata": {
    "collapsed": false
   },
   "outputs": [
    {
     "name": "stdout",
     "output_type": "stream",
     "text": [
      "Person does not exist\n"
     ]
    }
   ],
   "source": [
    "phone_book = {\n",
    "    \"Sarah Hughes\": \"01234 567890\",\n",
    "    \"Tim Taylor\": \"02345 678901\",\n",
    "    \"Sam Smith\":  \"03456 789012\"\n",
    "}\n",
    "\n",
    "try: phone_book['Jamie Theakston']\n",
    "except KeyError: print(\"Person does not exist\")"
   ]
  },
  {
   "cell_type": "markdown",
   "metadata": {},
   "source": [
    "### You can loop over dictionaries from the collections package keep running tallies. UNLIKE regular dictionaries"
   ]
  },
  {
   "cell_type": "code",
   "execution_count": 71,
   "metadata": {
    "collapsed": true
   },
   "outputs": [],
   "source": [
    "import collections"
   ]
  },
  {
   "cell_type": "code",
   "execution_count": 93,
   "metadata": {
    "collapsed": false
   },
   "outputs": [],
   "source": [
    "# Key is indexing by 1, Value is collecting number of\n",
    "# times a number is occurring.\n",
    "number_list = [1,1,2,2,2,2,3,3,4,4,5,5,5,5,5,5,6,7,8,8,8,8,9,9,9,9]\n",
    "count_dict = collections.defaultdict(int)\n",
    "for i in number_list:\n",
    "    count_dict[i] += 1"
   ]
  },
  {
   "cell_type": "code",
   "execution_count": 94,
   "metadata": {
    "collapsed": false
   },
   "outputs": [
    {
     "data": {
      "text/plain": [
       "defaultdict(<class 'int'>, {1: 1, 2: 4, 3: 2, 4: 2, 5: 6, 'st': 2, 7: 1, 8: 4, 9: 4, 6: 1})"
      ]
     },
     "execution_count": 94,
     "metadata": {},
     "output_type": "execute_result"
    }
   ],
   "source": [
    "count_dict"
   ]
  },
  {
   "cell_type": "markdown",
   "metadata": {},
   "source": [
    "<li> You can also simply use the function Counter below on collections to populate the dictionaries as well.\n",
    "<li>count_dict **==** new (because dictionary order does not matter)"
   ]
  },
  {
   "cell_type": "code",
   "execution_count": 87,
   "metadata": {
    "collapsed": false
   },
   "outputs": [
    {
     "data": {
      "text/plain": [
       "Counter({5: 6, 2: 4, 8: 4, 9: 4, 1: 2, 3: 2, 4: 2, 6: 1, 7: 1})"
      ]
     },
     "execution_count": 87,
     "metadata": {},
     "output_type": "execute_result"
    }
   ],
   "source": [
    "new = collections.Counter(number_list)\n",
    "new"
   ]
  },
  {
   "cell_type": "markdown",
   "metadata": {},
   "source": [
    "> [if `i` wasn't a key in the dictionary, Python created the key and set the value to 1. If the key was already in the dictionary, Python added 1 to the value.](https://courses.thinkful.com/data-001v2/assignment/1.1.4)"
   ]
  },
  {
   "cell_type": "markdown",
   "metadata": {},
   "source": [
    "# Functions"
   ]
  },
  {
   "cell_type": "code",
   "execution_count": 25,
   "metadata": {
    "collapsed": false
   },
   "outputs": [
    {
     "data": {
      "text/plain": [
       "7"
      ]
     },
     "execution_count": 25,
     "metadata": {},
     "output_type": "execute_result"
    }
   ],
   "source": [
    "def addition(a,b):\n",
    "    return a + b\n",
    "addition(5,2)"
   ]
  },
  {
   "cell_type": "code",
   "execution_count": 26,
   "metadata": {
    "collapsed": false
   },
   "outputs": [
    {
     "name": "stdout",
     "output_type": "stream",
     "text": [
      "Message logged: Adding 1 and 2 = 3\n",
      "Message logged: Adding 2 and 3 = 5\n",
      "Message logged: Adding 3 and 5 = 8\n",
      "Message logged: Adding 5 and 8 = 13\n"
     ]
    },
    {
     "data": {
      "text/plain": [
       "13"
      ]
     },
     "execution_count": 26,
     "metadata": {},
     "output_type": "execute_result"
    }
   ],
   "source": [
    "from datetime import datetime\n",
    "import logging\n",
    "\n",
    "def log_handler(msg):\n",
    "    \"\"\"Sends msg to the logging platform\"\"\"\n",
    "    date = str(datetime.now())\n",
    "    msg = date + \" - \" + msg\n",
    "    return logging.info(msg)\n",
    "\n",
    "def log(msg):\n",
    "    \"\"\"A convenience function. Adds msg to the logs with log_handler\"\"\"\n",
    "    msg = str(msg)\n",
    "    print(\"Message logged: \" + msg)\n",
    "    return log_handler(msg)\n",
    "\n",
    "def addition(a,b):\n",
    "    \"\"\"Adds two numbers and logs the result\"\"\"\n",
    "    x = a + b\n",
    "    log(\"Adding {0} and {1} = {2}\".format(a, b, x))\n",
    "    return x\n",
    "\n",
    "addition(1, 2)\n",
    "addition(2, 3)\n",
    "addition(5, addition(3,5))"
   ]
  },
  {
   "cell_type": "code",
   "execution_count": 27,
   "metadata": {
    "collapsed": false
   },
   "outputs": [
    {
     "data": {
      "text/plain": [
       "'2015-09-01 03:18:22.077710'"
      ]
     },
     "execution_count": 27,
     "metadata": {},
     "output_type": "execute_result"
    }
   ],
   "source": [
    "str(datetime.now())"
   ]
  },
  {
   "cell_type": "markdown",
   "metadata": {},
   "source": [
    "# Baking a Cake\n",
    "Writing an algorithm is a lot like writing a recipe. You have a list of ingredients, like a list of variables and a dataset; you have a list of instructions, like a list of functions and commands to run in a script. Take the following recipe for brownies:\n",
    "\n",
    "Ingredients:\n",
    "\n",
    "<li>1/2 cup butter\n",
    "<li>1 cup sugar\n",
    "<li>2 eggs\n",
    "<li>1 tsp vanilla extract\n",
    "<li>1/2 cup cocoa\n",
    "<li>1/2 cup flour\n",
    "\n",
    "Directions:\n",
    "\n",
    "<li>If butter is not soft, then melt butter.\n",
    "\n",
    "<li>Blend melted butter and sugar until mixture has creamy consistency, about 3 minutes\n",
    "\n",
    "<li>Add eggs and vanilla; stir\n",
    "\n",
    "<li>Add cocoa and flour; mix until well blended, about 4 minutes\n",
    "\n",
    "<li>Pour into greased round glass cake pan\n",
    "\n",
    "<li>Bake in oven 350 degrees for 30 minutes"
   ]
  },
  {
   "cell_type": "code",
   "execution_count": 28,
   "metadata": {
    "collapsed": false,
    "scrolled": false
   },
   "outputs": [
    {
     "name": "stdout",
     "output_type": "stream",
     "text": [
      "Melting butter.\n",
      "Adding butter to the bowl.\n",
      "Adding sugar to the bowl.\n",
      "Mixing ['butter', 'sugar'].\n",
      "Mixing ['butter', 'sugar'].\n",
      "Mixing ['butter', 'sugar'].\n",
      "Adding eggs to the bowl.\n",
      "Adding vanilla to the bowl.\n",
      "Mixing ['butter', 'sugar', 'eggs', 'vanilla'].\n",
      "Adding cocoa to the bowl.\n",
      "Adding flour to the bowl.\n",
      "Baking ['butter', 'sugar', 'eggs', 'vanilla', 'cocoa', 'flour'] at 350.\n",
      "Baking ['butter', 'sugar', 'eggs', 'vanilla', 'cocoa', 'flour'] at 350.\n",
      "Baking ['butter', 'sugar', 'eggs', 'vanilla', 'cocoa', 'flour'] at 350.\n",
      "Baking ['butter', 'sugar', 'eggs', 'vanilla', 'cocoa', 'flour'] at 350.\n",
      "Baking ['butter', 'sugar', 'eggs', 'vanilla', 'cocoa', 'flour'] at 350.\n",
      "Baking ['butter', 'sugar', 'eggs', 'vanilla', 'cocoa', 'flour'] at 350.\n",
      "Baking ['butter', 'sugar', 'eggs', 'vanilla', 'cocoa', 'flour'] at 350.\n",
      "Baking ['butter', 'sugar', 'eggs', 'vanilla', 'cocoa', 'flour'] at 350.\n",
      "Baking ['butter', 'sugar', 'eggs', 'vanilla', 'cocoa', 'flour'] at 350.\n",
      "Baking ['butter', 'sugar', 'eggs', 'vanilla', 'cocoa', 'flour'] at 350.\n",
      "Baking ['butter', 'sugar', 'eggs', 'vanilla', 'cocoa', 'flour'] at 350.\n",
      "Baking ['butter', 'sugar', 'eggs', 'vanilla', 'cocoa', 'flour'] at 350.\n",
      "Baking ['butter', 'sugar', 'eggs', 'vanilla', 'cocoa', 'flour'] at 350.\n",
      "Baking ['butter', 'sugar', 'eggs', 'vanilla', 'cocoa', 'flour'] at 350.\n",
      "Baking ['butter', 'sugar', 'eggs', 'vanilla', 'cocoa', 'flour'] at 350.\n",
      "Baking ['butter', 'sugar', 'eggs', 'vanilla', 'cocoa', 'flour'] at 350.\n",
      "Baking ['butter', 'sugar', 'eggs', 'vanilla', 'cocoa', 'flour'] at 350.\n",
      "Baking ['butter', 'sugar', 'eggs', 'vanilla', 'cocoa', 'flour'] at 350.\n",
      "Baking ['butter', 'sugar', 'eggs', 'vanilla', 'cocoa', 'flour'] at 350.\n",
      "Baking ['butter', 'sugar', 'eggs', 'vanilla', 'cocoa', 'flour'] at 350.\n",
      "Baking ['butter', 'sugar', 'eggs', 'vanilla', 'cocoa', 'flour'] at 350.\n",
      "Baking ['butter', 'sugar', 'eggs', 'vanilla', 'cocoa', 'flour'] at 350.\n",
      "Baking ['butter', 'sugar', 'eggs', 'vanilla', 'cocoa', 'flour'] at 350.\n",
      "Baking ['butter', 'sugar', 'eggs', 'vanilla', 'cocoa', 'flour'] at 350.\n",
      "Baking ['butter', 'sugar', 'eggs', 'vanilla', 'cocoa', 'flour'] at 350.\n",
      "Baking ['butter', 'sugar', 'eggs', 'vanilla', 'cocoa', 'flour'] at 350.\n",
      "Baking ['butter', 'sugar', 'eggs', 'vanilla', 'cocoa', 'flour'] at 350.\n",
      "Baking ['butter', 'sugar', 'eggs', 'vanilla', 'cocoa', 'flour'] at 350.\n",
      "Baking ['butter', 'sugar', 'eggs', 'vanilla', 'cocoa', 'flour'] at 350.\n",
      "Baking ['butter', 'sugar', 'eggs', 'vanilla', 'cocoa', 'flour'] at 350.\n",
      "cake is done!\n"
     ]
    }
   ],
   "source": [
    "ingredients = {\n",
    "    \"butter\" : (\"butter\", 118.3),\n",
    "    \"sugar\"  : (\"sugar\", 236.6),\n",
    "    \"vanilla\" : (\"vanilla\", 4.929),\n",
    "    \"eggs\"   : (\"eggs\", 2),\n",
    "    \"cocoa\"  : (\"cocoa\", 118.3),\n",
    "    \"flour\"  : (\"flour\", 118.3)\n",
    "}\n",
    "\n",
    "# The butter was refrigerated, so it's not soft yet.\n",
    "butter_soft = False\n",
    "\n",
    "bowl = []\n",
    "\n",
    "# To make the cake, we'll need the following functions\n",
    "def melt(this):\n",
    "    print(\"Melting {0}.\".format(this))\n",
    "    \n",
    "def bake(this, temp):\n",
    "    print(\"Baking {0} at {1}.\".format(this,temp))\n",
    "    \n",
    "def mix(this):\n",
    "    print(\"Mixing {0}.\".format(this))\n",
    "    \n",
    "def add_to_bowl(ingredient):\n",
    "    print(\"Adding {0} to the bowl.\".format(ingredient))\n",
    "    return bowl.append(ingredient)\n",
    "\n",
    "##### Start the algorithm! ######\n",
    "\n",
    "if butter_soft != True:\n",
    "    melt(ingredients[\"butter\"][0])\n",
    "    butter_soft = True\n",
    "    \n",
    "add_to_bowl(ingredients[\"butter\"][0])\n",
    "add_to_bowl(ingredients[\"sugar\"][0])\n",
    "\n",
    "mixing_time = 0\n",
    "mixture_creamy = False\n",
    "\n",
    "# Mix until creamy\n",
    "while mixture_creamy == False:\n",
    "    mix(bowl)\n",
    "    mixing_time += 1\n",
    "    if mixing_time == 3:\n",
    "        mixture_creamy = True\n",
    "        \n",
    "add_to_bowl(ingredients[\"eggs\"][0])\n",
    "add_to_bowl(ingredients[\"vanilla\"][0])\n",
    "\n",
    "mix(bowl)\n",
    "\n",
    "add_to_bowl(ingredients[\"cocoa\"][0])\n",
    "add_to_bowl(ingredients[\"flour\"][0])\n",
    "\n",
    "blended = False\n",
    "blend_time = 0\n",
    "while blended == True:\n",
    "    mix(bowl)\n",
    "    blend_time += 1\n",
    "    if blend_time == 4:\n",
    "        blended = True\n",
    "\n",
    "cake_pan = bowl #dump all the bowl ingredients into cake_pan\n",
    "\n",
    "cooking_temp = 350\n",
    "cooking_time = 30\n",
    "\n",
    "for minute in range(0, cooking_time):\n",
    "    bake(cake_pan, cooking_temp)\n",
    "    \n",
    "print(\"cake is done!\")\n",
    "    \n",
    "    \n"
   ]
  },
  {
   "cell_type": "markdown",
   "metadata": {},
   "source": [
    "# Recursion"
   ]
  },
  {
   "cell_type": "code",
   "execution_count": 30,
   "metadata": {
    "collapsed": false
   },
   "outputs": [
    {
     "name": "stdout",
     "output_type": "stream",
     "text": [
      "n: 6\n",
      "n: 5\n",
      "n: 4\n",
      "n: 3\n",
      "n: 2\n",
      "n: 1\n",
      "n: 1\n",
      "fibonacci(n-1): 1\n",
      "n: 0\n",
      "n: 0\n",
      "fibonacci(n-2): 0\n",
      "n: 1\n",
      "n: 1\n",
      "n: 0\n",
      "n: 0\n",
      "fibonacci(n-1): 1\n",
      "n: 1\n",
      "n: 1\n",
      "fibonacci(n-2): 1\n",
      "n: 2\n",
      "n: 1\n",
      "n: 1\n",
      "fibonacci(n-1): 1\n",
      "n: 0\n",
      "n: 0\n",
      "fibonacci(n-2): 0\n",
      "n: 1\n",
      "n: 1\n",
      "n: 0\n",
      "n: 0\n",
      "n: 1\n",
      "n: 1\n",
      "fibonacci(n-1): 2\n",
      "n: 2\n",
      "n: 1\n",
      "n: 1\n",
      "fibonacci(n-1): 1\n",
      "n: 0\n",
      "n: 0\n",
      "fibonacci(n-2): 0\n",
      "n: 1\n",
      "n: 1\n",
      "n: 0\n",
      "n: 0\n",
      "fibonacci(n-2): 1\n",
      "n: 3\n",
      "n: 2\n",
      "n: 1\n",
      "n: 1\n",
      "fibonacci(n-1): 1\n",
      "n: 0\n",
      "n: 0\n",
      "fibonacci(n-2): 0\n",
      "n: 1\n",
      "n: 1\n",
      "n: 0\n",
      "n: 0\n",
      "fibonacci(n-1): 1\n",
      "n: 1\n",
      "n: 1\n",
      "fibonacci(n-2): 1\n",
      "n: 2\n",
      "n: 1\n",
      "n: 1\n",
      "fibonacci(n-1): 1\n",
      "n: 0\n",
      "n: 0\n",
      "fibonacci(n-2): 0\n",
      "n: 1\n",
      "n: 1\n",
      "n: 0\n",
      "n: 0\n",
      "n: 1\n",
      "n: 1\n",
      "n: 2\n",
      "n: 1\n",
      "n: 1\n",
      "fibonacci(n-1): 1\n",
      "n: 0\n",
      "n: 0\n",
      "fibonacci(n-2): 0\n",
      "n: 1\n",
      "n: 1\n",
      "n: 0\n",
      "n: 0\n",
      "fibonacci(n-1): 3\n",
      "n: 3\n",
      "n: 2\n",
      "n: 1\n",
      "n: 1\n",
      "fibonacci(n-1): 1\n",
      "n: 0\n",
      "n: 0\n",
      "fibonacci(n-2): 0\n",
      "n: 1\n",
      "n: 1\n",
      "n: 0\n",
      "n: 0\n",
      "fibonacci(n-1): 1\n",
      "n: 1\n",
      "n: 1\n",
      "fibonacci(n-2): 1\n",
      "n: 2\n",
      "n: 1\n",
      "n: 1\n",
      "fibonacci(n-1): 1\n",
      "n: 0\n",
      "n: 0\n",
      "fibonacci(n-2): 0\n",
      "n: 1\n",
      "n: 1\n",
      "n: 0\n",
      "n: 0\n",
      "n: 1\n",
      "n: 1\n",
      "fibonacci(n-2): 2\n",
      "n: 4\n",
      "n: 3\n",
      "n: 2\n",
      "n: 1\n",
      "n: 1\n",
      "fibonacci(n-1): 1\n",
      "n: 0\n",
      "n: 0\n",
      "fibonacci(n-2): 0\n",
      "n: 1\n",
      "n: 1\n",
      "n: 0\n",
      "n: 0\n",
      "fibonacci(n-1): 1\n",
      "n: 1\n",
      "n: 1\n",
      "fibonacci(n-2): 1\n",
      "n: 2\n",
      "n: 1\n",
      "n: 1\n",
      "fibonacci(n-1): 1\n",
      "n: 0\n",
      "n: 0\n",
      "fibonacci(n-2): 0\n",
      "n: 1\n",
      "n: 1\n",
      "n: 0\n",
      "n: 0\n",
      "n: 1\n",
      "n: 1\n",
      "fibonacci(n-1): 2\n",
      "n: 2\n",
      "n: 1\n",
      "n: 1\n",
      "fibonacci(n-1): 1\n",
      "n: 0\n",
      "n: 0\n",
      "fibonacci(n-2): 0\n",
      "n: 1\n",
      "n: 1\n",
      "n: 0\n",
      "n: 0\n",
      "fibonacci(n-2): 1\n",
      "n: 3\n",
      "n: 2\n",
      "n: 1\n",
      "n: 1\n",
      "fibonacci(n-1): 1\n",
      "n: 0\n",
      "n: 0\n",
      "fibonacci(n-2): 0\n",
      "n: 1\n",
      "n: 1\n",
      "n: 0\n",
      "n: 0\n",
      "fibonacci(n-1): 1\n",
      "n: 1\n",
      "n: 1\n",
      "fibonacci(n-2): 1\n",
      "n: 2\n",
      "n: 1\n",
      "n: 1\n",
      "fibonacci(n-1): 1\n",
      "n: 0\n",
      "n: 0\n",
      "fibonacci(n-2): 0\n",
      "n: 1\n",
      "n: 1\n",
      "n: 0\n",
      "n: 0\n",
      "n: 1\n",
      "n: 1\n",
      "n: 2\n",
      "n: 1\n",
      "n: 1\n",
      "fibonacci(n-1): 1\n",
      "n: 0\n",
      "n: 0\n",
      "fibonacci(n-2): 0\n",
      "n: 1\n",
      "n: 1\n",
      "n: 0\n",
      "n: 0\n",
      "n: 3\n",
      "n: 2\n",
      "n: 1\n",
      "n: 1\n",
      "fibonacci(n-1): 1\n",
      "n: 0\n",
      "n: 0\n",
      "fibonacci(n-2): 0\n",
      "n: 1\n",
      "n: 1\n",
      "n: 0\n",
      "n: 0\n",
      "fibonacci(n-1): 1\n",
      "n: 1\n",
      "n: 1\n",
      "fibonacci(n-2): 1\n",
      "n: 2\n",
      "n: 1\n",
      "n: 1\n",
      "fibonacci(n-1): 1\n",
      "n: 0\n",
      "n: 0\n",
      "fibonacci(n-2): 0\n",
      "n: 1\n",
      "n: 1\n",
      "n: 0\n",
      "n: 0\n",
      "n: 1\n",
      "n: 1\n",
      "fibonacci(n-1): 5\n",
      "n: 4\n",
      "n: 3\n",
      "n: 2\n",
      "n: 1\n",
      "n: 1\n",
      "fibonacci(n-1): 1\n",
      "n: 0\n",
      "n: 0\n",
      "fibonacci(n-2): 0\n",
      "n: 1\n",
      "n: 1\n",
      "n: 0\n",
      "n: 0\n",
      "fibonacci(n-1): 1\n",
      "n: 1\n",
      "n: 1\n",
      "fibonacci(n-2): 1\n",
      "n: 2\n",
      "n: 1\n",
      "n: 1\n",
      "fibonacci(n-1): 1\n",
      "n: 0\n",
      "n: 0\n",
      "fibonacci(n-2): 0\n",
      "n: 1\n",
      "n: 1\n",
      "n: 0\n",
      "n: 0\n",
      "n: 1\n",
      "n: 1\n",
      "fibonacci(n-1): 2\n",
      "n: 2\n",
      "n: 1\n",
      "n: 1\n",
      "fibonacci(n-1): 1\n",
      "n: 0\n",
      "n: 0\n",
      "fibonacci(n-2): 0\n",
      "n: 1\n",
      "n: 1\n",
      "n: 0\n",
      "n: 0\n",
      "fibonacci(n-2): 1\n",
      "n: 3\n",
      "n: 2\n",
      "n: 1\n",
      "n: 1\n",
      "fibonacci(n-1): 1\n",
      "n: 0\n",
      "n: 0\n",
      "fibonacci(n-2): 0\n",
      "n: 1\n",
      "n: 1\n",
      "n: 0\n",
      "n: 0\n",
      "fibonacci(n-1): 1\n",
      "n: 1\n",
      "n: 1\n",
      "fibonacci(n-2): 1\n",
      "n: 2\n",
      "n: 1\n",
      "n: 1\n",
      "fibonacci(n-1): 1\n",
      "n: 0\n",
      "n: 0\n",
      "fibonacci(n-2): 0\n",
      "n: 1\n",
      "n: 1\n",
      "n: 0\n",
      "n: 0\n",
      "n: 1\n",
      "n: 1\n",
      "n: 2\n",
      "n: 1\n",
      "n: 1\n",
      "fibonacci(n-1): 1\n",
      "n: 0\n",
      "n: 0\n",
      "fibonacci(n-2): 0\n",
      "n: 1\n",
      "n: 1\n",
      "n: 0\n",
      "n: 0\n",
      "fibonacci(n-2): 3\n",
      "n: 5\n",
      "n: 4\n",
      "n: 3\n",
      "n: 2\n",
      "n: 1\n",
      "n: 1\n",
      "fibonacci(n-1): 1\n",
      "n: 0\n",
      "n: 0\n",
      "fibonacci(n-2): 0\n",
      "n: 1\n",
      "n: 1\n",
      "n: 0\n",
      "n: 0\n",
      "fibonacci(n-1): 1\n",
      "n: 1\n",
      "n: 1\n",
      "fibonacci(n-2): 1\n",
      "n: 2\n",
      "n: 1\n",
      "n: 1\n",
      "fibonacci(n-1): 1\n",
      "n: 0\n",
      "n: 0\n",
      "fibonacci(n-2): 0\n",
      "n: 1\n",
      "n: 1\n",
      "n: 0\n",
      "n: 0\n",
      "n: 1\n",
      "n: 1\n",
      "fibonacci(n-1): 2\n",
      "n: 2\n",
      "n: 1\n",
      "n: 1\n",
      "fibonacci(n-1): 1\n",
      "n: 0\n",
      "n: 0\n",
      "fibonacci(n-2): 0\n",
      "n: 1\n",
      "n: 1\n",
      "n: 0\n",
      "n: 0\n",
      "fibonacci(n-2): 1\n",
      "n: 3\n",
      "n: 2\n",
      "n: 1\n",
      "n: 1\n",
      "fibonacci(n-1): 1\n",
      "n: 0\n",
      "n: 0\n",
      "fibonacci(n-2): 0\n",
      "n: 1\n",
      "n: 1\n",
      "n: 0\n",
      "n: 0\n",
      "fibonacci(n-1): 1\n",
      "n: 1\n",
      "n: 1\n",
      "fibonacci(n-2): 1\n",
      "n: 2\n",
      "n: 1\n",
      "n: 1\n",
      "fibonacci(n-1): 1\n",
      "n: 0\n",
      "n: 0\n",
      "fibonacci(n-2): 0\n",
      "n: 1\n",
      "n: 1\n",
      "n: 0\n",
      "n: 0\n",
      "n: 1\n",
      "n: 1\n",
      "n: 2\n",
      "n: 1\n",
      "n: 1\n",
      "fibonacci(n-1): 1\n",
      "n: 0\n",
      "n: 0\n",
      "fibonacci(n-2): 0\n",
      "n: 1\n",
      "n: 1\n",
      "n: 0\n",
      "n: 0\n",
      "fibonacci(n-1): 3\n",
      "n: 3\n",
      "n: 2\n",
      "n: 1\n",
      "n: 1\n",
      "fibonacci(n-1): 1\n",
      "n: 0\n",
      "n: 0\n",
      "fibonacci(n-2): 0\n",
      "n: 1\n",
      "n: 1\n",
      "n: 0\n",
      "n: 0\n",
      "fibonacci(n-1): 1\n",
      "n: 1\n",
      "n: 1\n",
      "fibonacci(n-2): 1\n",
      "n: 2\n",
      "n: 1\n",
      "n: 1\n",
      "fibonacci(n-1): 1\n",
      "n: 0\n",
      "n: 0\n",
      "fibonacci(n-2): 0\n",
      "n: 1\n",
      "n: 1\n",
      "n: 0\n",
      "n: 0\n",
      "n: 1\n",
      "n: 1\n",
      "fibonacci(n-2): 2\n",
      "n: 4\n",
      "n: 3\n",
      "n: 2\n",
      "n: 1\n",
      "n: 1\n",
      "fibonacci(n-1): 1\n",
      "n: 0\n",
      "n: 0\n",
      "fibonacci(n-2): 0\n",
      "n: 1\n",
      "n: 1\n",
      "n: 0\n",
      "n: 0\n",
      "fibonacci(n-1): 1\n",
      "n: 1\n",
      "n: 1\n",
      "fibonacci(n-2): 1\n",
      "n: 2\n",
      "n: 1\n",
      "n: 1\n",
      "fibonacci(n-1): 1\n",
      "n: 0\n",
      "n: 0\n",
      "fibonacci(n-2): 0\n",
      "n: 1\n",
      "n: 1\n",
      "n: 0\n",
      "n: 0\n",
      "n: 1\n",
      "n: 1\n",
      "fibonacci(n-1): 2\n",
      "n: 2\n",
      "n: 1\n",
      "n: 1\n",
      "fibonacci(n-1): 1\n",
      "n: 0\n",
      "n: 0\n",
      "fibonacci(n-2): 0\n",
      "n: 1\n",
      "n: 1\n",
      "n: 0\n",
      "n: 0\n",
      "fibonacci(n-2): 1\n",
      "n: 3\n",
      "n: 2\n",
      "n: 1\n",
      "n: 1\n",
      "fibonacci(n-1): 1\n",
      "n: 0\n",
      "n: 0\n",
      "fibonacci(n-2): 0\n",
      "n: 1\n",
      "n: 1\n",
      "n: 0\n",
      "n: 0\n",
      "fibonacci(n-1): 1\n",
      "n: 1\n",
      "n: 1\n",
      "fibonacci(n-2): 1\n",
      "n: 2\n",
      "n: 1\n",
      "n: 1\n",
      "fibonacci(n-1): 1\n",
      "n: 0\n",
      "n: 0\n",
      "fibonacci(n-2): 0\n",
      "n: 1\n",
      "n: 1\n",
      "n: 0\n",
      "n: 0\n",
      "n: 1\n",
      "n: 1\n",
      "n: 2\n",
      "n: 1\n",
      "n: 1\n",
      "fibonacci(n-1): 1\n",
      "n: 0\n",
      "n: 0\n",
      "fibonacci(n-2): 0\n",
      "n: 1\n",
      "n: 1\n",
      "n: 0\n",
      "n: 0\n",
      "n: 3\n",
      "n: 2\n",
      "n: 1\n",
      "n: 1\n",
      "fibonacci(n-1): 1\n",
      "n: 0\n",
      "n: 0\n",
      "fibonacci(n-2): 0\n",
      "n: 1\n",
      "n: 1\n",
      "n: 0\n",
      "n: 0\n",
      "fibonacci(n-1): 1\n",
      "n: 1\n",
      "n: 1\n",
      "fibonacci(n-2): 1\n",
      "n: 2\n",
      "n: 1\n",
      "n: 1\n",
      "fibonacci(n-1): 1\n",
      "n: 0\n",
      "n: 0\n",
      "fibonacci(n-2): 0\n",
      "n: 1\n",
      "n: 1\n",
      "n: 0\n",
      "n: 0\n",
      "n: 1\n",
      "n: 1\n",
      "n: 4\n",
      "n: 3\n",
      "n: 2\n",
      "n: 1\n",
      "n: 1\n",
      "fibonacci(n-1): 1\n",
      "n: 0\n",
      "n: 0\n",
      "fibonacci(n-2): 0\n",
      "n: 1\n",
      "n: 1\n",
      "n: 0\n",
      "n: 0\n",
      "fibonacci(n-1): 1\n",
      "n: 1\n",
      "n: 1\n",
      "fibonacci(n-2): 1\n",
      "n: 2\n",
      "n: 1\n",
      "n: 1\n",
      "fibonacci(n-1): 1\n",
      "n: 0\n",
      "n: 0\n",
      "fibonacci(n-2): 0\n",
      "n: 1\n",
      "n: 1\n",
      "n: 0\n",
      "n: 0\n",
      "n: 1\n",
      "n: 1\n",
      "fibonacci(n-1): 2\n",
      "n: 2\n",
      "n: 1\n",
      "n: 1\n",
      "fibonacci(n-1): 1\n",
      "n: 0\n",
      "n: 0\n",
      "fibonacci(n-2): 0\n",
      "n: 1\n",
      "n: 1\n",
      "n: 0\n",
      "n: 0\n",
      "fibonacci(n-2): 1\n",
      "n: 3\n",
      "n: 2\n",
      "n: 1\n",
      "n: 1\n",
      "fibonacci(n-1): 1\n",
      "n: 0\n",
      "n: 0\n",
      "fibonacci(n-2): 0\n",
      "n: 1\n",
      "n: 1\n",
      "n: 0\n",
      "n: 0\n",
      "fibonacci(n-1): 1\n",
      "n: 1\n",
      "n: 1\n",
      "fibonacci(n-2): 1\n",
      "n: 2\n",
      "n: 1\n",
      "n: 1\n",
      "fibonacci(n-1): 1\n",
      "n: 0\n",
      "n: 0\n",
      "fibonacci(n-2): 0\n",
      "n: 1\n",
      "n: 1\n",
      "n: 0\n",
      "n: 0\n",
      "n: 1\n",
      "n: 1\n",
      "n: 2\n",
      "n: 1\n",
      "n: 1\n",
      "fibonacci(n-1): 1\n",
      "n: 0\n",
      "n: 0\n",
      "fibonacci(n-2): 0\n",
      "n: 1\n",
      "n: 1\n",
      "n: 0\n",
      "n: 0\n"
     ]
    },
    {
     "data": {
      "text/plain": [
       "8"
      ]
     },
     "execution_count": 30,
     "metadata": {},
     "output_type": "execute_result"
    }
   ],
   "source": [
    "# fn   = fn-1 + fn-2\n",
    "# f(0) = 0\n",
    "# f(1) = 0\n",
    "# f(2) = f(1) + f(0) = 1\n",
    "# f(3) = f(2) + f(1) = 2\n",
    "# f(4) = f(3) + f(2) = 3\n",
    "# f(5) = f(4) + f(3) = 5\n",
    "# f(6) = f(5) + f(4) = 8\n",
    "# f(7) = f(6) + f(5) = 13\n",
    "# f(8) = f(7) + f(6) = 21\n",
    "# f(9) = f(8) + f(7) = 34\n",
    "# f(10)= f(9) + f(8) = 55\n",
    "# f(11)= f(10)+ f(9) = 89\n",
    "# f(11)= f(10)+ f(9) = 144\n",
    "def fibonacci(n):\n",
    "    print (\"n: %d\" %n)\n",
    "    if n < 2:\n",
    "        print (\"n: %d\" %n)\n",
    "        return n\n",
    "    else:\n",
    "        print ('fibonacci(n-1): %d' %fibonacci(n-1))\n",
    "        print ('fibonacci(n-2): %d' %fibonacci(n-2))\n",
    "        return fibonacci(n-1) + fibonacci(n-2)\n",
    "\n",
    "fibonacci(6)\n",
    "\n",
    "# Solving steps for fibonacci(7)\n",
    "# 7 is not < 2\n",
    "# fibonacci(6) ?\n",
    "# 6 is not < 2\n",
    "# fibonacci(5) ?\n",
    "# 5 is not < 2\n",
    "# fibonacci(4) ?\n",
    "# 4 is not < 2\n",
    "# fibonacci(3) ?\n",
    "# 3 is not < 2\n",
    "# fibonacci(2) ?\n",
    "# 2 is not < 2\n",
    "# fibonacci(1) ?\n",
    "# 1 IS < 2\n",
    "# return 1\n",
    "# fibonacci(1) == 1\n",
    "# \n",
    "    "
   ]
  },
  {
   "cell_type": "markdown",
   "metadata": {},
   "source": [
    "##Can you write a FizzBuzz algorithm? It goes like this:\n",
    "<li>Loop through all the integers from 1 to 100\n",
    "<li>If the number is divisible by 3, print \"Fizz\"\n",
    "<li>If the number is divisible by 5, print \"Buzz\"\n",
    "<li>If the number is divisible by both, print \"FizzBuzz\"\n",
    "<li>If the number is divisible by neither, print the number"
   ]
  },
  {
   "cell_type": "code",
   "execution_count": 31,
   "metadata": {
    "collapsed": false
   },
   "outputs": [
    {
     "name": "stdout",
     "output_type": "stream",
     "text": [
      "1\n",
      "2\n",
      "Fizz\n",
      "4\n",
      "Buzz\n",
      "Fizz\n",
      "7\n",
      "8\n",
      "Fizz\n",
      "Buzz\n",
      "11\n",
      "Fizz\n",
      "13\n",
      "14\n",
      "FizzBuzz\n",
      "16\n",
      "17\n",
      "Fizz\n",
      "19\n",
      "Buzz\n",
      "Fizz\n",
      "22\n",
      "23\n",
      "Fizz\n",
      "Buzz\n",
      "26\n",
      "Fizz\n",
      "28\n",
      "29\n",
      "FizzBuzz\n",
      "31\n",
      "32\n",
      "Fizz\n",
      "34\n",
      "Buzz\n",
      "Fizz\n",
      "37\n",
      "38\n",
      "Fizz\n",
      "Buzz\n",
      "41\n",
      "Fizz\n",
      "43\n",
      "44\n",
      "FizzBuzz\n",
      "46\n",
      "47\n",
      "Fizz\n",
      "49\n",
      "Buzz\n",
      "Fizz\n",
      "52\n",
      "53\n",
      "Fizz\n",
      "Buzz\n",
      "56\n",
      "Fizz\n",
      "58\n",
      "59\n",
      "FizzBuzz\n",
      "61\n",
      "62\n",
      "Fizz\n",
      "64\n",
      "Buzz\n",
      "Fizz\n",
      "67\n",
      "68\n",
      "Fizz\n",
      "Buzz\n",
      "71\n",
      "Fizz\n",
      "73\n",
      "74\n",
      "FizzBuzz\n",
      "76\n",
      "77\n",
      "Fizz\n",
      "79\n",
      "Buzz\n",
      "Fizz\n",
      "82\n",
      "83\n",
      "Fizz\n",
      "Buzz\n",
      "86\n",
      "Fizz\n",
      "88\n",
      "89\n",
      "FizzBuzz\n",
      "91\n",
      "92\n",
      "Fizz\n",
      "94\n",
      "Buzz\n",
      "Fizz\n",
      "97\n",
      "98\n",
      "Fizz\n",
      "Buzz\n"
     ]
    }
   ],
   "source": [
    "# online one-line solution --> for i in range(1,101): print(\"Fizz\"*(i%3==0) + \"Buzz\"*(i%5==0) or i)\n",
    "\n",
    "def FizzBuzz():\n",
    "    for i in range(1, 101):\n",
    "        if (i % 3 == 0) and (i % 5 == 0):\n",
    "            print(\"FizzBuzz\")\n",
    "        elif i % 3 == 0:\n",
    "            print(\"Fizz\")\n",
    "        elif i % 5 == 0:\n",
    "            print(\"Buzz\")\n",
    "        else:\n",
    "            print(i)\n",
    "        \n",
    "FizzBuzz()"
   ]
  },
  {
   "cell_type": "code",
   "execution_count": 33,
   "metadata": {
    "collapsed": false
   },
   "outputs": [
    {
     "data": {
      "text/plain": [
       "True"
      ]
     },
     "execution_count": 33,
     "metadata": {},
     "output_type": "execute_result"
    }
   ],
   "source": [
    "0 % 5 == 0 # That's why the range starts from 1 in the solutions"
   ]
  },
  {
   "cell_type": "code",
   "execution_count": 34,
   "metadata": {
    "collapsed": false
   },
   "outputs": [
    {
     "name": "stdout",
     "output_type": "stream",
     "text": [
      "101902\n"
     ]
    }
   ],
   "source": [
    "def appendsums(lst):\n",
    "    \n",
    "    for i in range(25):\n",
    "        s = sum(lst[-3:])\n",
    "        lst.append(s)\n",
    "    return lst\n",
    "\n",
    "sum_three = [0,1,2]\n",
    "appendsums(sum_three)\n",
    "print(sum_three[20])"
   ]
  },
  {
   "cell_type": "markdown",
   "metadata": {},
   "source": [
    "# Dictionaries, Data, & Fun Stuff"
   ]
  },
  {
   "cell_type": "code",
   "execution_count": 98,
   "metadata": {
    "collapsed": false
   },
   "outputs": [],
   "source": [
    "# Dictionary Tally\n",
    "tallies = ['rafeh','rafeh','qazi','sql','sql','sql']\n",
    "counting_dict = collections.defaultdict(int)\n",
    "#(int) is defining the VALUE type.\n",
    "for i in tallies:\n",
    "    # i == keys\n",
    "    # manipulate values --> counting_dict[i]\n",
    "    counting_dict[i] += 1\n"
   ]
  },
  {
   "cell_type": "code",
   "execution_count": 99,
   "metadata": {
    "collapsed": false
   },
   "outputs": [
    {
     "data": {
      "text/plain": [
       "defaultdict(<class 'int'>, {'rafeh': 2, 'qazi': 1, 'sql': 3})"
      ]
     },
     "execution_count": 99,
     "metadata": {},
     "output_type": "execute_result"
    }
   ],
   "source": [
    "counting_dict"
   ]
  },
  {
   "cell_type": "code",
   "execution_count": 101,
   "metadata": {
    "collapsed": false
   },
   "outputs": [
    {
     "data": {
      "text/plain": [
       "Counter({'sql': 3, 'rafeh': 2, 'qazi': 1})"
      ]
     },
     "execution_count": 101,
     "metadata": {},
     "output_type": "execute_result"
    }
   ],
   "source": [
    "better_counting_dict = collections.Counter(tallies)\n",
    "better_counting_dict"
   ]
  },
  {
   "cell_type": "markdown",
   "metadata": {},
   "source": [
    "** with open ('path/to/filename', 'rU') as inputFile **\n",
    "<li>'`with`' will call context manager which will help automatically close the file after indentations and processing.\n",
    "<li>'`rU`' will tell python to read from the the file. The 'U' stands for Universal Newlines, so it will appropriately handle for any platform Apple, Windows, or Linux.\n",
    "<li>`'w'` will be for writing the file in Python"
   ]
  },
  {
   "cell_type": "code",
   "execution_count": 3,
   "metadata": {
    "collapsed": false
   },
   "outputs": [
    {
     "name": "stdout",
     "output_type": "stream",
     "text": [
      "/Users/Rafeh\n"
     ]
    }
   ],
   "source": [
    "cd"
   ]
  },
  {
   "cell_type": "code",
   "execution_count": 4,
   "metadata": {
    "collapsed": false
   },
   "outputs": [
    {
     "name": "stdout",
     "output_type": "stream",
     "text": [
      "Continent,ElevationZone,UrbanRuralDesignation,Population1990,Population2000,Population2010,Population2100,LandArea\n",
      "\n",
      "Africa,Elevations > 20m or Non-Contiguous ,Rural,333302081,418265923,530184094,1249908321,23749644\n",
      "\n",
      "Africa,Elevations > 20m or Non-Contiguous ,Urban,157846329,210381843,266776037,504662423,204719\n",
      "\n",
      "Africa,Elevations Less Than or Equal To 10m ,Rural,18167003,22569516,28154645,76368900,172460\n",
      "\n",
      "Africa,Elevations Less Than or Equal To 10m ,Urban,22412955,28679117,36746774,94042536,13838\n",
      "\n",
      "Africa,Elevations Less Than or Equal To 12m ,Rural,20569411,25576481,31957186,85839163,202456\n",
      "\n",
      "Africa,Elevations Less Than or Equal To 12m ,Urban,25761403,32968917,42205337,105920405,16035\n",
      "\n",
      "Africa,Elevations Less Than or Equal To 1m,Rural,3052584,3891608,4785451,14152403,21939\n",
      "\n",
      "Africa,Elevations Less Than or Equal To 1m,Urban,4056678,4791461,5915752,21137853,2193\n",
      "\n",
      "Africa,Elevations Less Than or Equal To 20m ,Rural,27791636,34704704,43734340,118040942,342694\n",
      "\n",
      "Africa,Elevations Less Than or Equal To 20m ,Urban,37566072,47749797,60835348,145244129,23456\n",
      "\n",
      "Africa,Elevations Less Than or Equal To 3m,Rural,6178557,7763536,9586584,27430640,46301\n",
      "\n",
      "Africa,Elevations Less Than or Equal To 3m,Urban,7194770,8762218,11005850,34775942,4662\n",
      "\n",
      "Africa,Elevations Less Than or Equal To 5m,Rural,9969005,12408335,15403231,43327033,84084\n",
      "\n",
      "Africa,Elevations Less Than or Equal To 5m,Urban,11597788,14488902,18449258,53508839,7366\n",
      "\n",
      "Africa,Elevations Less Than or Equal To 7m,Rural,13595903,16884460,21018235,58101349,121581\n",
      "\n",
      "Africa,Elevations Less Than or Equal To 7m,Urban,16197359,20564492,26333878,71409170,10121\n",
      "\n",
      "Africa,Elevations Less Than or Equal To 9m,Rural,16858764,20937690,26100880,71204360,156291\n",
      "\n",
      "Africa,Elevations Less Than or Equal To 9m,Urban,20542430,26255213,33641605,87324590,12665\n",
      "\n",
      "Africa,Total National Population,Rural,361093713,452970623,573918429,1367949254,24092338\n",
      "\n",
      "Africa,Total National Population,Urban,195412402,258131640,327611385,649906552,228175\n",
      "\n",
      "Asia,Elevations > 20m or Non-Contiguous ,Rural,1680481883,1798416711,1974005089,2874557238,37883607\n",
      "\n",
      "Asia,Elevations > 20m or Non-Contiguous ,Urban,918668080,1175247232,1262609098,1764942637,1122788\n",
      "\n",
      "Asia,Elevations Less Than or Equal To 10m ,Rural,191278674,210541251,234663295,374695595,969683\n",
      "\n",
      "Asia,Elevations Less Than or Equal To 10m ,Urban,203398169,252379433,290492264,377327872,129278\n",
      "\n",
      "Asia,Elevations Less Than or Equal To 12m ,Rural,219960928,243052196,271741911,437367709,1128770\n",
      "\n",
      "Asia,Elevations Less Than or Equal To 12m ,Urban,233147526,289429187,333361953,434901291,149673\n",
      "\n",
      "Asia,Elevations Less Than or Equal To 1m,Rural,18459117,20808077,22164683,33476823,109974\n",
      "\n",
      "Asia,Elevations Less Than or Equal To 1m,Urban,15105001,19858184,21974625,27586527,12590\n",
      "\n",
      "Asia,Elevations Less Than or Equal To 20m ,Rural,299462435,331270619,371915099,603768417,1764932\n",
      "\n",
      "Asia,Elevations Less Than or Equal To 20m ,Urban,319318447,397909472,458321169,604216625,213823\n",
      "\n",
      "Asia,Elevations Less Than or Equal To 3m,Rural,48168060,53093971,57758563,85812360,266138\n",
      "\n",
      "Asia,Elevations Less Than or Equal To 3m,Urban,37555825,48341898,54512396,68677562,31423\n",
      "\n",
      "Asia,Elevations Less Than or Equal To 5m,Rural,96000422,104609114,114983028,175319939,478303\n",
      "\n",
      "Asia,Elevations Less Than or Equal To 5m,Urban,87109915,109542006,124916072,158748008,62383\n",
      "\n",
      "Asia,Elevations Less Than or Equal To 7m,Rural,139082069,152030350,168232444,262405032,697177\n",
      "\n",
      "Asia,Elevations Less Than or Equal To 7m,Urban,141792154,176453451,202546292,260137398,92410\n",
      "\n",
      "Asia,Elevations Less Than or Equal To 9m,Rural,175412216,192696616,214358663,340006165,886176\n",
      "\n",
      "Asia,Elevations Less Than or Equal To 9m,Urban,185617116,230392535,264967068,343068584,118075\n",
      "\n",
      "Asia,Total National Population,Rural,1979944334,2129687281,2345920129,3478325610,39648539\n",
      "\n",
      "Asia,Total National Population,Urban,1237986520,1573156714,1720930281,2369159274,1336611\n",
      "\n",
      "Oceania,Elevations > 20m or Non-Contiguous ,Rural,8427284,10127646,12434027,18743701,8174117\n",
      "\n",
      "Oceania,Elevations Less Than or Equal To 10m ,Rural,636248,747250,871503,1012881,126545\n",
      "\n",
      "Oceania,Elevations Less Than or Equal To 12m ,Rural,762204,897802,1051538,1218603,155196\n",
      "\n",
      "Oceania,Elevations Less Than or Equal To 1m,Rural,99919,115905,134633,128828,9146\n",
      "\n",
      "Oceania,Elevations Less Than or Equal To 20m ,Rural,1134007,1343603,1590022,1937585,267534\n",
      "\n",
      "Oceania,Elevations Less Than or Equal To 3m,Rural,164304,191743,222130,233985,22561\n",
      "\n",
      "Oceania,Elevations Less Than or Equal To 5m,Rural,287793,335546,388501,434716,51897\n",
      "\n",
      "Oceania,Elevations Less Than or Equal To 7m,Rural,428625,500441,580295,662121,83533\n",
      "\n",
      "Oceania,Elevations Less Than or Equal To 9m,Rural,568706,666939,776354,900481,110497\n",
      "\n",
      "Oceania,Total National Population,Rural,9561292,11471250,14024049,20681609,8441651\n",
      "\n",
      "Oceania,Elevations > 20m or Non-Contiguous ,Urban,12547162,14195786,16912718,18658175,39148\n",
      "\n",
      "Oceania,Elevations Less Than or Equal To 10m ,Urban,2200753,2532995,3003692,3293517,5852\n",
      "\n",
      "Oceania,Elevations Less Than or Equal To 12m ,Urban,2729119,3136967,3721347,4023841,7139\n",
      "\n",
      "Oceania,Elevations Less Than or Equal To 1m,Urban,92528,105767,125631,136478,227\n",
      "\n",
      "Oceania,Elevations Less Than or Equal To 20m ,Urban,4589488,5255982,6240084,6566734,11449\n",
      "\n",
      "Oceania,Elevations Less Than or Equal To 3m,Urban,310744,361508,430433,499388,881\n",
      "\n",
      "Oceania,Elevations Less Than or Equal To 5m,Urban,752050,874001,1038190,1179988,2222\n",
      "\n",
      "Oceania,Elevations Less Than or Equal To 7m,Urban,1342907,1552001,1841419,2048884,3708\n",
      "\n",
      "Oceania,Elevations Less Than or Equal To 9m,Urban,1945861,2240098,2656137,2937199,5173\n",
      "\n",
      "Oceania,Total National Population,Urban,17136649,19451769,23152802,25224909,50597\n",
      "\n",
      "Europe,Elevations > 20m or Non-Contiguous ,Rural,163359246,162706798,208303075,113649857,4627707\n",
      "\n",
      "Europe,Elevations > 20m or Non-Contiguous ,Urban,309270561,316003549,418732932,265691431,548471\n",
      "\n",
      "Europe,Elevations Less Than or Equal To 10m ,Rural,8921599,9344934,10191711,8029402,129830\n",
      "\n",
      "Europe,Elevations Less Than or Equal To 10m ,Urban,33776617,34884603,39019817,32965986,50897\n",
      "\n",
      "Europe,Elevations Less Than or Equal To 12m ,Rural,9812906,10282757,11223256,8779223,146041\n",
      "\n",
      "Europe,Elevations Less Than or Equal To 12m ,Urban,38167942,39417882,44201162,37110048,57906\n",
      "\n",
      "Europe,Elevations Less Than or Equal To 1m,Rural,3742831,3912040,4227031,3236008,50401\n",
      "\n",
      "Europe,Elevations Less Than or Equal To 1m,Urban,9954478,10380836,11579113,9648341,15628\n",
      "\n",
      "Europe,Elevations Less Than or Equal To 20m ,Rural,13208952,13851590,15226199,11697732,212558\n",
      "\n",
      "Europe,Elevations Less Than or Equal To 20m ,Urban,53512695,55319289,62521646,51814850,84008\n",
      "\n",
      "Europe,Elevations Less Than or Equal To 3m,Rural,5224425,5463529,5929681,4744031,72134\n",
      "\n",
      "Europe,Elevations Less Than or Equal To 3m,Urban,16234092,16801906,18647708,15853153,24784\n",
      "\n",
      "Europe,Elevations Less Than or Equal To 5m,Rural,6411169,6704539,7286949,5832084,89853\n",
      "\n",
      "Europe,Elevations Less Than or Equal To 5m,Urban,21755340,22473128,24902148,21290248,32735\n",
      "\n",
      "Europe,Elevations Less Than or Equal To 7m,Rural,7515264,7865709,8568306,6811908,106158\n",
      "\n",
      "Europe,Elevations Less Than or Equal To 7m,Urban,26861165,27736249,30779447,26298853,40204\n",
      "\n",
      "Europe,Elevations Less Than or Equal To 9m,Rural,8463637,8861773,9662812,7634002,121681\n",
      "\n",
      "Europe,Elevations Less Than or Equal To 9m,Urban,31613048,32647909,36469169,30887023,47442\n",
      "\n",
      "Europe,Total National Population,Rural,176568570,176558812,223529720,125348019,4840266\n",
      "\n",
      "Europe,Total National Population,Urban,362783257,371322835,481254575,317506277,632478\n",
      "\n",
      "North America,Elevations > 20m or Non-Contiguous ,Rural,113350248,128596426,128023212,255497778,19520575\n",
      "\n",
      "North America,Elevations > 20m or Non-Contiguous ,Urban,260535875,296757222,314603927,402225848,972417\n",
      "\n",
      "North America,Elevations Less Than or Equal To 10m ,Rural,4510499,5107953,4527895,8103077,536562\n",
      "\n",
      "North America,Elevations Less Than or Equal To 10m ,Urban,24575726,27509478,28219257,46670306,61651\n",
      "\n",
      "North America,Elevations Less Than or Equal To 12m ,Rural,5388410,6126378,5451414,9794501,605670\n",
      "\n",
      "North America,Elevations Less Than or Equal To 12m ,Urban,30668871,34389588,35375008,58139996,76003\n",
      "\n",
      "North America,Elevations Less Than or Equal To 1m,Rural,592705,666803,610997,1027386,171365\n",
      "\n",
      "North America,Elevations Less Than or Equal To 1m,Urban,1566679,1730214,1814077,2382101,5968\n",
      "\n",
      "North America,Elevations Less Than or Equal To 20m ,Rural,8380426,9640179,8701571,15548820,867403\n",
      "\n",
      "North America,Elevations Less Than or Equal To 20m ,Urban,47379912,52995004,54253029,83639047,115225\n",
      "\n",
      "North America,Elevations Less Than or Equal To 3m,Rural,1183749,1344383,1233602,2012079,252729\n",
      "\n",
      "North America,Elevations Less Than or Equal To 3m,Urban,4024295,4406582,4551369,6066943,12827\n",
      "\n",
      "North America,Elevations Less Than or Equal To 5m,Rural,2078406,2337609,2079421,3593976,341640\n",
      "\n",
      "North America,Elevations Less Than or Equal To 5m,Urban,7848219,8590398,8771636,11828205,22829\n",
      "\n",
      "North America,Elevations Less Than or Equal To 7m,Rural,3088571,3465549,3050583,5396471,425342\n",
      "\n",
      "North America,Elevations Less Than or Equal To 7m,Urban,13479682,14889220,15145037,21342474,36321\n",
      "\n",
      "North America,Elevations Less Than or Equal To 9m,Rural,4038490,4562798,4039761,7143160,499762\n",
      "\n",
      "North America,Elevations Less Than or Equal To 9m,Urban,20649659,23006285,23449955,38174996,51825\n",
      "\n",
      "North America,Total National Population,Rural,121730674,138236608,136724785,271046607,20387978\n",
      "\n",
      "North America,Total National Population,Urban,307915785,349752222,368856952,485864890,1087642\n",
      "\n",
      "South America,Elevations > 20m or Non-Contiguous ,Rural,105821441,119567258,131717443,223382699,15247746\n",
      "\n",
      "South America,Elevations > 20m or Non-Contiguous ,Urban,146797669,176550823,203339934,329625178,270241\n",
      "\n",
      "South America,Elevations Less Than or Equal To 10m ,Rural,3707829,4283574,4703764,8943181,228599\n",
      "\n",
      "South America,Elevations Less Than or Equal To 10m ,Urban,14465697,17036372,19621238,32574367,19343\n",
      "\n",
      "South America,Elevations Less Than or Equal To 12m ,Rural,4291797,4967927,5459057,10353931,266951\n",
      "\n",
      "South America,Elevations Less Than or Equal To 12m ,Urban,17264014,20333114,23397554,38844410,22783\n",
      "\n",
      "South America,Elevations Less Than or Equal To 1m,Rural,473008,561960,619126,1091701,20582\n",
      "\n",
      "South America,Elevations Less Than or Equal To 1m,Urban,709558,868060,1009758,1591369,1159\n",
      "\n",
      "South America,Elevations Less Than or Equal To 20m ,Rural,6529092,7584065,8338764,15819940,452502\n",
      "\n",
      "South America,Elevations Less Than or Equal To 20m ,Urban,27065733,31912544,36628423,59958936,34982\n",
      "\n",
      "South America,Elevations Less Than or Equal To 3m,Rural,943950,1106559,1214846,2218252,55898\n",
      "\n",
      "South America,Elevations Less Than or Equal To 3m,Urban,2117574,2538559,2938229,4406100,3758\n",
      "\n",
      "South America,Elevations Less Than or Equal To 5m,Rural,1804718,2093408,2291934,4244576,110866\n",
      "\n",
      "South America,Elevations Less Than or Equal To 5m,Urban,5101423,6089933,7038516,11400038,8354\n",
      "\n",
      "South America,Elevations Less Than or Equal To 7m,Rural,2680636,3089887,3387405,6416774,165073\n",
      "\n",
      "South America,Elevations Less Than or Equal To 7m,Urban,9357959,11074365,12771388,21107053,13236\n",
      "\n",
      "South America,Elevations Less Than or Equal To 9m,Rural,3373239,3888725,4267061,8057467,208002\n",
      "\n",
      "South America,Elevations Less Than or Equal To 9m,Urban,12822897,15110534,17402616,28930098,17430\n",
      "\n",
      "South America,Total National Population,Rural,112350531,127151325,140056209,239202641,15711683\n",
      "\n",
      "South America,Total National Population,Urban,173863402,208463363,239968353,389584115,306223\n",
      "\n"
     ]
    }
   ],
   "source": [
    "with open('dropbox/github/Thinkful/unit1/data/lecz-urban-rural-population-land-area-estimates_continent-90m.csv', 'rU') as inputFile:\n",
    "    for line in inputFile:\n",
    "        print(line)"
   ]
  },
  {
   "cell_type": "markdown",
   "metadata": {},
   "source": [
    ">At this point, the file cursor we created when we first opened the file is now at the end of the file. To get the file contents again, we'll need to repeat the open() command to reset the cursor. If we were to run the loop again, we'd get no output from the loop."
   ]
  },
  {
   "cell_type": "code",
   "execution_count": 127,
   "metadata": {
    "collapsed": false
   },
   "outputs": [
    {
     "name": "stdout",
     "output_type": "stream",
     "text": [
      "Africa,Elevations > 20m or Non-Contiguous ,Rural,333302081,418265923,530184094,1249908321,23749644\n",
      "\n",
      "Africa,Elevations > 20m or Non-Contiguous ,Urban,157846329,210381843,266776037,504662423,204719\n",
      "\n",
      "Africa,Elevations Less Than or Equal To 10m ,Rural,18167003,22569516,28154645,76368900,172460\n",
      "\n",
      "Africa,Elevations Less Than or Equal To 10m ,Urban,22412955,28679117,36746774,94042536,13838\n",
      "\n",
      "Africa,Elevations Less Than or Equal To 12m ,Rural,20569411,25576481,31957186,85839163,202456\n",
      "\n",
      "Africa,Elevations Less Than or Equal To 12m ,Urban,25761403,32968917,42205337,105920405,16035\n",
      "\n",
      "Africa,Elevations Less Than or Equal To 1m,Rural,3052584,3891608,4785451,14152403,21939\n",
      "\n",
      "Africa,Elevations Less Than or Equal To 1m,Urban,4056678,4791461,5915752,21137853,2193\n",
      "\n",
      "Africa,Elevations Less Than or Equal To 20m ,Rural,27791636,34704704,43734340,118040942,342694\n",
      "\n",
      "Africa,Elevations Less Than or Equal To 20m ,Urban,37566072,47749797,60835348,145244129,23456\n",
      "\n",
      "Africa,Elevations Less Than or Equal To 3m,Rural,6178557,7763536,9586584,27430640,46301\n",
      "\n",
      "Africa,Elevations Less Than or Equal To 3m,Urban,7194770,8762218,11005850,34775942,4662\n",
      "\n",
      "Africa,Elevations Less Than or Equal To 5m,Rural,9969005,12408335,15403231,43327033,84084\n",
      "\n",
      "Africa,Elevations Less Than or Equal To 5m,Urban,11597788,14488902,18449258,53508839,7366\n",
      "\n",
      "Africa,Elevations Less Than or Equal To 7m,Rural,13595903,16884460,21018235,58101349,121581\n",
      "\n",
      "Africa,Elevations Less Than or Equal To 7m,Urban,16197359,20564492,26333878,71409170,10121\n",
      "\n",
      "Africa,Elevations Less Than or Equal To 9m,Rural,16858764,20937690,26100880,71204360,156291\n",
      "\n",
      "Africa,Elevations Less Than or Equal To 9m,Urban,20542430,26255213,33641605,87324590,12665\n",
      "\n",
      "Africa,Total National Population,Rural,361093713,452970623,573918429,1367949254,24092338\n",
      "\n",
      "Africa,Total National Population,Urban,195412402,258131640,327611385,649906552,228175\n",
      "\n",
      "Asia,Elevations > 20m or Non-Contiguous ,Rural,1680481883,1798416711,1974005089,2874557238,37883607\n",
      "\n",
      "Asia,Elevations > 20m or Non-Contiguous ,Urban,918668080,1175247232,1262609098,1764942637,1122788\n",
      "\n",
      "Asia,Elevations Less Than or Equal To 10m ,Rural,191278674,210541251,234663295,374695595,969683\n",
      "\n",
      "Asia,Elevations Less Than or Equal To 10m ,Urban,203398169,252379433,290492264,377327872,129278\n",
      "\n",
      "Asia,Elevations Less Than or Equal To 12m ,Rural,219960928,243052196,271741911,437367709,1128770\n",
      "\n",
      "Asia,Elevations Less Than or Equal To 12m ,Urban,233147526,289429187,333361953,434901291,149673\n",
      "\n",
      "Asia,Elevations Less Than or Equal To 1m,Rural,18459117,20808077,22164683,33476823,109974\n",
      "\n",
      "Asia,Elevations Less Than or Equal To 1m,Urban,15105001,19858184,21974625,27586527,12590\n",
      "\n",
      "Asia,Elevations Less Than or Equal To 20m ,Rural,299462435,331270619,371915099,603768417,1764932\n",
      "\n",
      "Asia,Elevations Less Than or Equal To 20m ,Urban,319318447,397909472,458321169,604216625,213823\n",
      "\n",
      "Asia,Elevations Less Than or Equal To 3m,Rural,48168060,53093971,57758563,85812360,266138\n",
      "\n",
      "Asia,Elevations Less Than or Equal To 3m,Urban,37555825,48341898,54512396,68677562,31423\n",
      "\n",
      "Asia,Elevations Less Than or Equal To 5m,Rural,96000422,104609114,114983028,175319939,478303\n",
      "\n",
      "Asia,Elevations Less Than or Equal To 5m,Urban,87109915,109542006,124916072,158748008,62383\n",
      "\n",
      "Asia,Elevations Less Than or Equal To 7m,Rural,139082069,152030350,168232444,262405032,697177\n",
      "\n",
      "Asia,Elevations Less Than or Equal To 7m,Urban,141792154,176453451,202546292,260137398,92410\n",
      "\n",
      "Asia,Elevations Less Than or Equal To 9m,Rural,175412216,192696616,214358663,340006165,886176\n",
      "\n",
      "Asia,Elevations Less Than or Equal To 9m,Urban,185617116,230392535,264967068,343068584,118075\n",
      "\n",
      "Asia,Total National Population,Rural,1979944334,2129687281,2345920129,3478325610,39648539\n",
      "\n",
      "Asia,Total National Population,Urban,1237986520,1573156714,1720930281,2369159274,1336611\n",
      "\n",
      "Oceania,Elevations > 20m or Non-Contiguous ,Rural,8427284,10127646,12434027,18743701,8174117\n",
      "\n",
      "Oceania,Elevations Less Than or Equal To 10m ,Rural,636248,747250,871503,1012881,126545\n",
      "\n",
      "Oceania,Elevations Less Than or Equal To 12m ,Rural,762204,897802,1051538,1218603,155196\n",
      "\n",
      "Oceania,Elevations Less Than or Equal To 1m,Rural,99919,115905,134633,128828,9146\n",
      "\n",
      "Oceania,Elevations Less Than or Equal To 20m ,Rural,1134007,1343603,1590022,1937585,267534\n",
      "\n",
      "Oceania,Elevations Less Than or Equal To 3m,Rural,164304,191743,222130,233985,22561\n",
      "\n",
      "Oceania,Elevations Less Than or Equal To 5m,Rural,287793,335546,388501,434716,51897\n",
      "\n",
      "Oceania,Elevations Less Than or Equal To 7m,Rural,428625,500441,580295,662121,83533\n",
      "\n",
      "Oceania,Elevations Less Than or Equal To 9m,Rural,568706,666939,776354,900481,110497\n",
      "\n",
      "Oceania,Total National Population,Rural,9561292,11471250,14024049,20681609,8441651\n",
      "\n",
      "Oceania,Elevations > 20m or Non-Contiguous ,Urban,12547162,14195786,16912718,18658175,39148\n",
      "\n",
      "Oceania,Elevations Less Than or Equal To 10m ,Urban,2200753,2532995,3003692,3293517,5852\n",
      "\n",
      "Oceania,Elevations Less Than or Equal To 12m ,Urban,2729119,3136967,3721347,4023841,7139\n",
      "\n",
      "Oceania,Elevations Less Than or Equal To 1m,Urban,92528,105767,125631,136478,227\n",
      "\n",
      "Oceania,Elevations Less Than or Equal To 20m ,Urban,4589488,5255982,6240084,6566734,11449\n",
      "\n",
      "Oceania,Elevations Less Than or Equal To 3m,Urban,310744,361508,430433,499388,881\n",
      "\n",
      "Oceania,Elevations Less Than or Equal To 5m,Urban,752050,874001,1038190,1179988,2222\n",
      "\n",
      "Oceania,Elevations Less Than or Equal To 7m,Urban,1342907,1552001,1841419,2048884,3708\n",
      "\n",
      "Oceania,Elevations Less Than or Equal To 9m,Urban,1945861,2240098,2656137,2937199,5173\n",
      "\n",
      "Oceania,Total National Population,Urban,17136649,19451769,23152802,25224909,50597\n",
      "\n",
      "Europe,Elevations > 20m or Non-Contiguous ,Rural,163359246,162706798,208303075,113649857,4627707\n",
      "\n",
      "Europe,Elevations > 20m or Non-Contiguous ,Urban,309270561,316003549,418732932,265691431,548471\n",
      "\n",
      "Europe,Elevations Less Than or Equal To 10m ,Rural,8921599,9344934,10191711,8029402,129830\n",
      "\n",
      "Europe,Elevations Less Than or Equal To 10m ,Urban,33776617,34884603,39019817,32965986,50897\n",
      "\n",
      "Europe,Elevations Less Than or Equal To 12m ,Rural,9812906,10282757,11223256,8779223,146041\n",
      "\n",
      "Europe,Elevations Less Than or Equal To 12m ,Urban,38167942,39417882,44201162,37110048,57906\n",
      "\n",
      "Europe,Elevations Less Than or Equal To 1m,Rural,3742831,3912040,4227031,3236008,50401\n",
      "\n",
      "Europe,Elevations Less Than or Equal To 1m,Urban,9954478,10380836,11579113,9648341,15628\n",
      "\n",
      "Europe,Elevations Less Than or Equal To 20m ,Rural,13208952,13851590,15226199,11697732,212558\n",
      "\n",
      "Europe,Elevations Less Than or Equal To 20m ,Urban,53512695,55319289,62521646,51814850,84008\n",
      "\n",
      "Europe,Elevations Less Than or Equal To 3m,Rural,5224425,5463529,5929681,4744031,72134\n",
      "\n",
      "Europe,Elevations Less Than or Equal To 3m,Urban,16234092,16801906,18647708,15853153,24784\n",
      "\n",
      "Europe,Elevations Less Than or Equal To 5m,Rural,6411169,6704539,7286949,5832084,89853\n",
      "\n",
      "Europe,Elevations Less Than or Equal To 5m,Urban,21755340,22473128,24902148,21290248,32735\n",
      "\n",
      "Europe,Elevations Less Than or Equal To 7m,Rural,7515264,7865709,8568306,6811908,106158\n",
      "\n",
      "Europe,Elevations Less Than or Equal To 7m,Urban,26861165,27736249,30779447,26298853,40204\n",
      "\n",
      "Europe,Elevations Less Than or Equal To 9m,Rural,8463637,8861773,9662812,7634002,121681\n",
      "\n",
      "Europe,Elevations Less Than or Equal To 9m,Urban,31613048,32647909,36469169,30887023,47442\n",
      "\n",
      "Europe,Total National Population,Rural,176568570,176558812,223529720,125348019,4840266\n",
      "\n",
      "Europe,Total National Population,Urban,362783257,371322835,481254575,317506277,632478\n",
      "\n",
      "North America,Elevations > 20m or Non-Contiguous ,Rural,113350248,128596426,128023212,255497778,19520575\n",
      "\n",
      "North America,Elevations > 20m or Non-Contiguous ,Urban,260535875,296757222,314603927,402225848,972417\n",
      "\n",
      "North America,Elevations Less Than or Equal To 10m ,Rural,4510499,5107953,4527895,8103077,536562\n",
      "\n",
      "North America,Elevations Less Than or Equal To 10m ,Urban,24575726,27509478,28219257,46670306,61651\n",
      "\n",
      "North America,Elevations Less Than or Equal To 12m ,Rural,5388410,6126378,5451414,9794501,605670\n",
      "\n",
      "North America,Elevations Less Than or Equal To 12m ,Urban,30668871,34389588,35375008,58139996,76003\n",
      "\n",
      "North America,Elevations Less Than or Equal To 1m,Rural,592705,666803,610997,1027386,171365\n",
      "\n",
      "North America,Elevations Less Than or Equal To 1m,Urban,1566679,1730214,1814077,2382101,5968\n",
      "\n",
      "North America,Elevations Less Than or Equal To 20m ,Rural,8380426,9640179,8701571,15548820,867403\n",
      "\n",
      "North America,Elevations Less Than or Equal To 20m ,Urban,47379912,52995004,54253029,83639047,115225\n",
      "\n",
      "North America,Elevations Less Than or Equal To 3m,Rural,1183749,1344383,1233602,2012079,252729\n",
      "\n",
      "North America,Elevations Less Than or Equal To 3m,Urban,4024295,4406582,4551369,6066943,12827\n",
      "\n",
      "North America,Elevations Less Than or Equal To 5m,Rural,2078406,2337609,2079421,3593976,341640\n",
      "\n",
      "North America,Elevations Less Than or Equal To 5m,Urban,7848219,8590398,8771636,11828205,22829\n",
      "\n",
      "North America,Elevations Less Than or Equal To 7m,Rural,3088571,3465549,3050583,5396471,425342\n",
      "\n",
      "North America,Elevations Less Than or Equal To 7m,Urban,13479682,14889220,15145037,21342474,36321\n",
      "\n",
      "North America,Elevations Less Than or Equal To 9m,Rural,4038490,4562798,4039761,7143160,499762\n",
      "\n",
      "North America,Elevations Less Than or Equal To 9m,Urban,20649659,23006285,23449955,38174996,51825\n",
      "\n",
      "North America,Total National Population,Rural,121730674,138236608,136724785,271046607,20387978\n",
      "\n",
      "North America,Total National Population,Urban,307915785,349752222,368856952,485864890,1087642\n",
      "\n",
      "South America,Elevations > 20m or Non-Contiguous ,Rural,105821441,119567258,131717443,223382699,15247746\n",
      "\n",
      "South America,Elevations > 20m or Non-Contiguous ,Urban,146797669,176550823,203339934,329625178,270241\n",
      "\n",
      "South America,Elevations Less Than or Equal To 10m ,Rural,3707829,4283574,4703764,8943181,228599\n",
      "\n",
      "South America,Elevations Less Than or Equal To 10m ,Urban,14465697,17036372,19621238,32574367,19343\n",
      "\n",
      "South America,Elevations Less Than or Equal To 12m ,Rural,4291797,4967927,5459057,10353931,266951\n",
      "\n",
      "South America,Elevations Less Than or Equal To 12m ,Urban,17264014,20333114,23397554,38844410,22783\n",
      "\n",
      "South America,Elevations Less Than or Equal To 1m,Rural,473008,561960,619126,1091701,20582\n",
      "\n",
      "South America,Elevations Less Than or Equal To 1m,Urban,709558,868060,1009758,1591369,1159\n",
      "\n",
      "South America,Elevations Less Than or Equal To 20m ,Rural,6529092,7584065,8338764,15819940,452502\n",
      "\n",
      "South America,Elevations Less Than or Equal To 20m ,Urban,27065733,31912544,36628423,59958936,34982\n",
      "\n",
      "South America,Elevations Less Than or Equal To 3m,Rural,943950,1106559,1214846,2218252,55898\n",
      "\n",
      "South America,Elevations Less Than or Equal To 3m,Urban,2117574,2538559,2938229,4406100,3758\n",
      "\n",
      "South America,Elevations Less Than or Equal To 5m,Rural,1804718,2093408,2291934,4244576,110866\n",
      "\n",
      "South America,Elevations Less Than or Equal To 5m,Urban,5101423,6089933,7038516,11400038,8354\n",
      "\n",
      "South America,Elevations Less Than or Equal To 7m,Rural,2680636,3089887,3387405,6416774,165073\n",
      "\n",
      "South America,Elevations Less Than or Equal To 7m,Urban,9357959,11074365,12771388,21107053,13236\n",
      "\n",
      "South America,Elevations Less Than or Equal To 9m,Rural,3373239,3888725,4267061,8057467,208002\n",
      "\n",
      "South America,Elevations Less Than or Equal To 9m,Urban,12822897,15110534,17402616,28930098,17430\n",
      "\n",
      "South America,Total National Population,Rural,112350531,127151325,140056209,239202641,15711683\n",
      "\n",
      "South America,Total National Population,Urban,173863402,208463363,239968353,389584115,306223\n",
      "\n"
     ]
    }
   ],
   "source": [
    "with open('dropbox/github/Thinkful/unit1/data/lecz-urban-rural-population-land-area-estimates_continent-90m.csv', 'rU') as inputFile:\n",
    "    header = next(inputFile) #iterates to the next value)\n",
    "    for line in inputFile:\n",
    "        print(line)"
   ]
  },
  {
   "cell_type": "markdown",
   "metadata": {},
   "source": [
    ">We add the rstrip() to remove any trailing or leading spaces. Notice that we use that first and then call split(). You also notice that line is now a list rather than a string. This means we can reference the elements using the index just like with the lists we worked with earlier."
   ]
  },
  {
   "cell_type": "code",
   "execution_count": 135,
   "metadata": {
    "collapsed": false
   },
   "outputs": [
    {
     "name": "stdout",
     "output_type": "stream",
     "text": [
      "['Africa', 'Elevations > 20m or Non-Contiguous ', 'Rural', '333302081', '418265923', '530184094', '1249908321', '23749644']\n",
      "['Africa', 'Elevations > 20m or Non-Contiguous ', 'Urban', '157846329', '210381843', '266776037', '504662423', '204719']\n",
      "['Africa', 'Elevations Less Than or Equal To 10m ', 'Rural', '18167003', '22569516', '28154645', '76368900', '172460']\n",
      "['Africa', 'Elevations Less Than or Equal To 10m ', 'Urban', '22412955', '28679117', '36746774', '94042536', '13838']\n",
      "['Africa', 'Elevations Less Than or Equal To 12m ', 'Rural', '20569411', '25576481', '31957186', '85839163', '202456']\n",
      "['Africa', 'Elevations Less Than or Equal To 12m ', 'Urban', '25761403', '32968917', '42205337', '105920405', '16035']\n",
      "['Africa', 'Elevations Less Than or Equal To 1m', 'Rural', '3052584', '3891608', '4785451', '14152403', '21939']\n",
      "['Africa', 'Elevations Less Than or Equal To 1m', 'Urban', '4056678', '4791461', '5915752', '21137853', '2193']\n",
      "['Africa', 'Elevations Less Than or Equal To 20m ', 'Rural', '27791636', '34704704', '43734340', '118040942', '342694']\n",
      "['Africa', 'Elevations Less Than or Equal To 20m ', 'Urban', '37566072', '47749797', '60835348', '145244129', '23456']\n",
      "['Africa', 'Elevations Less Than or Equal To 3m', 'Rural', '6178557', '7763536', '9586584', '27430640', '46301']\n",
      "['Africa', 'Elevations Less Than or Equal To 3m', 'Urban', '7194770', '8762218', '11005850', '34775942', '4662']\n",
      "['Africa', 'Elevations Less Than or Equal To 5m', 'Rural', '9969005', '12408335', '15403231', '43327033', '84084']\n",
      "['Africa', 'Elevations Less Than or Equal To 5m', 'Urban', '11597788', '14488902', '18449258', '53508839', '7366']\n",
      "['Africa', 'Elevations Less Than or Equal To 7m', 'Rural', '13595903', '16884460', '21018235', '58101349', '121581']\n",
      "['Africa', 'Elevations Less Than or Equal To 7m', 'Urban', '16197359', '20564492', '26333878', '71409170', '10121']\n",
      "['Africa', 'Elevations Less Than or Equal To 9m', 'Rural', '16858764', '20937690', '26100880', '71204360', '156291']\n",
      "['Africa', 'Elevations Less Than or Equal To 9m', 'Urban', '20542430', '26255213', '33641605', '87324590', '12665']\n",
      "['Africa', 'Total National Population', 'Rural', '361093713', '452970623', '573918429', '1367949254', '24092338']\n",
      "['Africa', 'Total National Population', 'Urban', '195412402', '258131640', '327611385', '649906552', '228175']\n",
      "['Asia', 'Elevations > 20m or Non-Contiguous ', 'Rural', '1680481883', '1798416711', '1974005089', '2874557238', '37883607']\n",
      "['Asia', 'Elevations > 20m or Non-Contiguous ', 'Urban', '918668080', '1175247232', '1262609098', '1764942637', '1122788']\n",
      "['Asia', 'Elevations Less Than or Equal To 10m ', 'Rural', '191278674', '210541251', '234663295', '374695595', '969683']\n",
      "['Asia', 'Elevations Less Than or Equal To 10m ', 'Urban', '203398169', '252379433', '290492264', '377327872', '129278']\n",
      "['Asia', 'Elevations Less Than or Equal To 12m ', 'Rural', '219960928', '243052196', '271741911', '437367709', '1128770']\n",
      "['Asia', 'Elevations Less Than or Equal To 12m ', 'Urban', '233147526', '289429187', '333361953', '434901291', '149673']\n",
      "['Asia', 'Elevations Less Than or Equal To 1m', 'Rural', '18459117', '20808077', '22164683', '33476823', '109974']\n",
      "['Asia', 'Elevations Less Than or Equal To 1m', 'Urban', '15105001', '19858184', '21974625', '27586527', '12590']\n",
      "['Asia', 'Elevations Less Than or Equal To 20m ', 'Rural', '299462435', '331270619', '371915099', '603768417', '1764932']\n",
      "['Asia', 'Elevations Less Than or Equal To 20m ', 'Urban', '319318447', '397909472', '458321169', '604216625', '213823']\n",
      "['Asia', 'Elevations Less Than or Equal To 3m', 'Rural', '48168060', '53093971', '57758563', '85812360', '266138']\n",
      "['Asia', 'Elevations Less Than or Equal To 3m', 'Urban', '37555825', '48341898', '54512396', '68677562', '31423']\n",
      "['Asia', 'Elevations Less Than or Equal To 5m', 'Rural', '96000422', '104609114', '114983028', '175319939', '478303']\n",
      "['Asia', 'Elevations Less Than or Equal To 5m', 'Urban', '87109915', '109542006', '124916072', '158748008', '62383']\n",
      "['Asia', 'Elevations Less Than or Equal To 7m', 'Rural', '139082069', '152030350', '168232444', '262405032', '697177']\n",
      "['Asia', 'Elevations Less Than or Equal To 7m', 'Urban', '141792154', '176453451', '202546292', '260137398', '92410']\n",
      "['Asia', 'Elevations Less Than or Equal To 9m', 'Rural', '175412216', '192696616', '214358663', '340006165', '886176']\n",
      "['Asia', 'Elevations Less Than or Equal To 9m', 'Urban', '185617116', '230392535', '264967068', '343068584', '118075']\n",
      "['Asia', 'Total National Population', 'Rural', '1979944334', '2129687281', '2345920129', '3478325610', '39648539']\n",
      "['Asia', 'Total National Population', 'Urban', '1237986520', '1573156714', '1720930281', '2369159274', '1336611']\n",
      "['Oceania', 'Elevations > 20m or Non-Contiguous ', 'Rural', '8427284', '10127646', '12434027', '18743701', '8174117']\n",
      "['Oceania', 'Elevations Less Than or Equal To 10m ', 'Rural', '636248', '747250', '871503', '1012881', '126545']\n",
      "['Oceania', 'Elevations Less Than or Equal To 12m ', 'Rural', '762204', '897802', '1051538', '1218603', '155196']\n",
      "['Oceania', 'Elevations Less Than or Equal To 1m', 'Rural', '99919', '115905', '134633', '128828', '9146']\n",
      "['Oceania', 'Elevations Less Than or Equal To 20m ', 'Rural', '1134007', '1343603', '1590022', '1937585', '267534']\n",
      "['Oceania', 'Elevations Less Than or Equal To 3m', 'Rural', '164304', '191743', '222130', '233985', '22561']\n",
      "['Oceania', 'Elevations Less Than or Equal To 5m', 'Rural', '287793', '335546', '388501', '434716', '51897']\n",
      "['Oceania', 'Elevations Less Than or Equal To 7m', 'Rural', '428625', '500441', '580295', '662121', '83533']\n",
      "['Oceania', 'Elevations Less Than or Equal To 9m', 'Rural', '568706', '666939', '776354', '900481', '110497']\n",
      "['Oceania', 'Total National Population', 'Rural', '9561292', '11471250', '14024049', '20681609', '8441651']\n",
      "['Oceania', 'Elevations > 20m or Non-Contiguous ', 'Urban', '12547162', '14195786', '16912718', '18658175', '39148']\n",
      "['Oceania', 'Elevations Less Than or Equal To 10m ', 'Urban', '2200753', '2532995', '3003692', '3293517', '5852']\n",
      "['Oceania', 'Elevations Less Than or Equal To 12m ', 'Urban', '2729119', '3136967', '3721347', '4023841', '7139']\n",
      "['Oceania', 'Elevations Less Than or Equal To 1m', 'Urban', '92528', '105767', '125631', '136478', '227']\n",
      "['Oceania', 'Elevations Less Than or Equal To 20m ', 'Urban', '4589488', '5255982', '6240084', '6566734', '11449']\n",
      "['Oceania', 'Elevations Less Than or Equal To 3m', 'Urban', '310744', '361508', '430433', '499388', '881']\n",
      "['Oceania', 'Elevations Less Than or Equal To 5m', 'Urban', '752050', '874001', '1038190', '1179988', '2222']\n",
      "['Oceania', 'Elevations Less Than or Equal To 7m', 'Urban', '1342907', '1552001', '1841419', '2048884', '3708']\n",
      "['Oceania', 'Elevations Less Than or Equal To 9m', 'Urban', '1945861', '2240098', '2656137', '2937199', '5173']\n",
      "['Oceania', 'Total National Population', 'Urban', '17136649', '19451769', '23152802', '25224909', '50597']\n",
      "['Europe', 'Elevations > 20m or Non-Contiguous ', 'Rural', '163359246', '162706798', '208303075', '113649857', '4627707']\n",
      "['Europe', 'Elevations > 20m or Non-Contiguous ', 'Urban', '309270561', '316003549', '418732932', '265691431', '548471']\n",
      "['Europe', 'Elevations Less Than or Equal To 10m ', 'Rural', '8921599', '9344934', '10191711', '8029402', '129830']\n",
      "['Europe', 'Elevations Less Than or Equal To 10m ', 'Urban', '33776617', '34884603', '39019817', '32965986', '50897']\n",
      "['Europe', 'Elevations Less Than or Equal To 12m ', 'Rural', '9812906', '10282757', '11223256', '8779223', '146041']\n",
      "['Europe', 'Elevations Less Than or Equal To 12m ', 'Urban', '38167942', '39417882', '44201162', '37110048', '57906']\n",
      "['Europe', 'Elevations Less Than or Equal To 1m', 'Rural', '3742831', '3912040', '4227031', '3236008', '50401']\n",
      "['Europe', 'Elevations Less Than or Equal To 1m', 'Urban', '9954478', '10380836', '11579113', '9648341', '15628']\n",
      "['Europe', 'Elevations Less Than or Equal To 20m ', 'Rural', '13208952', '13851590', '15226199', '11697732', '212558']\n",
      "['Europe', 'Elevations Less Than or Equal To 20m ', 'Urban', '53512695', '55319289', '62521646', '51814850', '84008']\n",
      "['Europe', 'Elevations Less Than or Equal To 3m', 'Rural', '5224425', '5463529', '5929681', '4744031', '72134']\n",
      "['Europe', 'Elevations Less Than or Equal To 3m', 'Urban', '16234092', '16801906', '18647708', '15853153', '24784']\n",
      "['Europe', 'Elevations Less Than or Equal To 5m', 'Rural', '6411169', '6704539', '7286949', '5832084', '89853']\n",
      "['Europe', 'Elevations Less Than or Equal To 5m', 'Urban', '21755340', '22473128', '24902148', '21290248', '32735']\n",
      "['Europe', 'Elevations Less Than or Equal To 7m', 'Rural', '7515264', '7865709', '8568306', '6811908', '106158']\n",
      "['Europe', 'Elevations Less Than or Equal To 7m', 'Urban', '26861165', '27736249', '30779447', '26298853', '40204']\n",
      "['Europe', 'Elevations Less Than or Equal To 9m', 'Rural', '8463637', '8861773', '9662812', '7634002', '121681']\n",
      "['Europe', 'Elevations Less Than or Equal To 9m', 'Urban', '31613048', '32647909', '36469169', '30887023', '47442']\n",
      "['Europe', 'Total National Population', 'Rural', '176568570', '176558812', '223529720', '125348019', '4840266']\n",
      "['Europe', 'Total National Population', 'Urban', '362783257', '371322835', '481254575', '317506277', '632478']\n",
      "['North America', 'Elevations > 20m or Non-Contiguous ', 'Rural', '113350248', '128596426', '128023212', '255497778', '19520575']\n",
      "['North America', 'Elevations > 20m or Non-Contiguous ', 'Urban', '260535875', '296757222', '314603927', '402225848', '972417']\n",
      "['North America', 'Elevations Less Than or Equal To 10m ', 'Rural', '4510499', '5107953', '4527895', '8103077', '536562']\n",
      "['North America', 'Elevations Less Than or Equal To 10m ', 'Urban', '24575726', '27509478', '28219257', '46670306', '61651']\n",
      "['North America', 'Elevations Less Than or Equal To 12m ', 'Rural', '5388410', '6126378', '5451414', '9794501', '605670']\n",
      "['North America', 'Elevations Less Than or Equal To 12m ', 'Urban', '30668871', '34389588', '35375008', '58139996', '76003']\n",
      "['North America', 'Elevations Less Than or Equal To 1m', 'Rural', '592705', '666803', '610997', '1027386', '171365']\n",
      "['North America', 'Elevations Less Than or Equal To 1m', 'Urban', '1566679', '1730214', '1814077', '2382101', '5968']\n",
      "['North America', 'Elevations Less Than or Equal To 20m ', 'Rural', '8380426', '9640179', '8701571', '15548820', '867403']\n",
      "['North America', 'Elevations Less Than or Equal To 20m ', 'Urban', '47379912', '52995004', '54253029', '83639047', '115225']\n",
      "['North America', 'Elevations Less Than or Equal To 3m', 'Rural', '1183749', '1344383', '1233602', '2012079', '252729']\n",
      "['North America', 'Elevations Less Than or Equal To 3m', 'Urban', '4024295', '4406582', '4551369', '6066943', '12827']\n",
      "['North America', 'Elevations Less Than or Equal To 5m', 'Rural', '2078406', '2337609', '2079421', '3593976', '341640']\n",
      "['North America', 'Elevations Less Than or Equal To 5m', 'Urban', '7848219', '8590398', '8771636', '11828205', '22829']\n",
      "['North America', 'Elevations Less Than or Equal To 7m', 'Rural', '3088571', '3465549', '3050583', '5396471', '425342']\n",
      "['North America', 'Elevations Less Than or Equal To 7m', 'Urban', '13479682', '14889220', '15145037', '21342474', '36321']\n",
      "['North America', 'Elevations Less Than or Equal To 9m', 'Rural', '4038490', '4562798', '4039761', '7143160', '499762']\n",
      "['North America', 'Elevations Less Than or Equal To 9m', 'Urban', '20649659', '23006285', '23449955', '38174996', '51825']\n",
      "['North America', 'Total National Population', 'Rural', '121730674', '138236608', '136724785', '271046607', '20387978']\n",
      "['North America', 'Total National Population', 'Urban', '307915785', '349752222', '368856952', '485864890', '1087642']\n",
      "['South America', 'Elevations > 20m or Non-Contiguous ', 'Rural', '105821441', '119567258', '131717443', '223382699', '15247746']\n",
      "['South America', 'Elevations > 20m or Non-Contiguous ', 'Urban', '146797669', '176550823', '203339934', '329625178', '270241']\n",
      "['South America', 'Elevations Less Than or Equal To 10m ', 'Rural', '3707829', '4283574', '4703764', '8943181', '228599']\n",
      "['South America', 'Elevations Less Than or Equal To 10m ', 'Urban', '14465697', '17036372', '19621238', '32574367', '19343']\n",
      "['South America', 'Elevations Less Than or Equal To 12m ', 'Rural', '4291797', '4967927', '5459057', '10353931', '266951']\n",
      "['South America', 'Elevations Less Than or Equal To 12m ', 'Urban', '17264014', '20333114', '23397554', '38844410', '22783']\n",
      "['South America', 'Elevations Less Than or Equal To 1m', 'Rural', '473008', '561960', '619126', '1091701', '20582']\n",
      "['South America', 'Elevations Less Than or Equal To 1m', 'Urban', '709558', '868060', '1009758', '1591369', '1159']\n",
      "['South America', 'Elevations Less Than or Equal To 20m ', 'Rural', '6529092', '7584065', '8338764', '15819940', '452502']\n",
      "['South America', 'Elevations Less Than or Equal To 20m ', 'Urban', '27065733', '31912544', '36628423', '59958936', '34982']\n",
      "['South America', 'Elevations Less Than or Equal To 3m', 'Rural', '943950', '1106559', '1214846', '2218252', '55898']\n",
      "['South America', 'Elevations Less Than or Equal To 3m', 'Urban', '2117574', '2538559', '2938229', '4406100', '3758']\n",
      "['South America', 'Elevations Less Than or Equal To 5m', 'Rural', '1804718', '2093408', '2291934', '4244576', '110866']\n",
      "['South America', 'Elevations Less Than or Equal To 5m', 'Urban', '5101423', '6089933', '7038516', '11400038', '8354']\n",
      "['South America', 'Elevations Less Than or Equal To 7m', 'Rural', '2680636', '3089887', '3387405', '6416774', '165073']\n",
      "['South America', 'Elevations Less Than or Equal To 7m', 'Urban', '9357959', '11074365', '12771388', '21107053', '13236']\n",
      "['South America', 'Elevations Less Than or Equal To 9m', 'Rural', '3373239', '3888725', '4267061', '8057467', '208002']\n",
      "['South America', 'Elevations Less Than or Equal To 9m', 'Urban', '12822897', '15110534', '17402616', '28930098', '17430']\n",
      "['South America', 'Total National Population', 'Rural', '112350531', '127151325', '140056209', '239202641', '15711683']\n",
      "['South America', 'Total National Population', 'Urban', '173863402', '208463363', '239968353', '389584115', '306223']\n"
     ]
    }
   ],
   "source": [
    "with open('dropbox/github/Thinkful/unit1/data/lecz-urban-rural-population-land-area-estimates_continent-90m.csv', 'rU') as inputFile:\n",
    "    header = next(inputFile)\n",
    "    for line in inputFile:\n",
    "        line = line.rstrip().split(',')\n",
    "        print(line)"
   ]
  },
  {
   "cell_type": "code",
   "execution_count": 149,
   "metadata": {
    "collapsed": false
   },
   "outputs": [
    {
     "name": "stdout",
     "output_type": "stream",
     "text": [
      "['Africa', 'Total National Population', 'Rural', '361093713', '452970623', '573918429', '1367949254', '24092338']\n",
      "['Africa', 'Total National Population', 'Urban', '195412402', '258131640', '327611385', '649906552', '228175']\n",
      "['Asia', 'Total National Population', 'Rural', '1979944334', '2129687281', '2345920129', '3478325610', '39648539']\n",
      "['Asia', 'Total National Population', 'Urban', '1237986520', '1573156714', '1720930281', '2369159274', '1336611']\n",
      "['Oceania', 'Total National Population', 'Rural', '9561292', '11471250', '14024049', '20681609', '8441651']\n",
      "['Oceania', 'Total National Population', 'Urban', '17136649', '19451769', '23152802', '25224909', '50597']\n",
      "['Europe', 'Total National Population', 'Rural', '176568570', '176558812', '223529720', '125348019', '4840266']\n",
      "['Europe', 'Total National Population', 'Urban', '362783257', '371322835', '481254575', '317506277', '632478']\n",
      "['North America', 'Total National Population', 'Rural', '121730674', '138236608', '136724785', '271046607', '20387978']\n",
      "['North America', 'Total National Population', 'Urban', '307915785', '349752222', '368856952', '485864890', '1087642']\n",
      "['South America', 'Total National Population', 'Rural', '112350531', '127151325', '140056209', '239202641', '15711683']\n",
      "['South America', 'Total National Population', 'Urban', '173863402', '208463363', '239968353', '389584115', '306223']\n"
     ]
    }
   ],
   "source": [
    "\n",
    "with open('dropbox/github/Thinkful/unit1/data/lecz-urban-rural-\\\n",
    "population-land-area-estimates_continent-90m.\\\n",
    "csv', 'rU') as inputFile:\n",
    "    header = next(inputFile)\n",
    "    for line in inputFile:\n",
    "        line = line.rstrip().split(',')\n",
    "        if line[1] == 'Total National Population':\n",
    "            print(line)"
   ]
  },
  {
   "cell_type": "code",
   "execution_count": 152,
   "metadata": {
    "collapsed": false
   },
   "outputs": [
    {
     "name": "stdout",
     "output_type": "stream",
     "text": [
      "['Africa', 'Total National Population', 'Rural', '361093713', '452970623', '573918429', '1367949254', '24092338']\n",
      "['Africa', 'Total National Population', 'Urban', '195412402', '258131640', '327611385', '649906552', '228175']\n",
      "['Asia', 'Total National Population', 'Rural', '1979944334', '2129687281', '2345920129', '3478325610', '39648539']\n",
      "['Asia', 'Total National Population', 'Urban', '1237986520', '1573156714', '1720930281', '2369159274', '1336611']\n",
      "['Oceania', 'Total National Population', 'Rural', '9561292', '11471250', '14024049', '20681609', '8441651']\n",
      "['Oceania', 'Total National Population', 'Urban', '17136649', '19451769', '23152802', '25224909', '50597']\n",
      "['Europe', 'Total National Population', 'Rural', '176568570', '176558812', '223529720', '125348019', '4840266']\n",
      "['Europe', 'Total National Population', 'Urban', '362783257', '371322835', '481254575', '317506277', '632478']\n",
      "['North America', 'Total National Population', 'Rural', '121730674', '138236608', '136724785', '271046607', '20387978']\n",
      "['North America', 'Total National Population', 'Urban', '307915785', '349752222', '368856952', '485864890', '1087642']\n",
      "['South America', 'Total National Population', 'Rural', '112350531', '127151325', '140056209', '239202641', '15711683']\n",
      "['South America', 'Total National Population', 'Urban', '173863402', '208463363', '239968353', '389584115', '306223']\n"
     ]
    }
   ],
   "source": [
    "inputFile = open('dropbox/github/thinkful/unit1/data/\\\n",
    "lecz-urban-rural-population-land-area-estimates_continent\\\n",
    "-90m.csv', 'r')\n",
    "\n",
    "header = next(inputFile)\n",
    "\n",
    "for line in inputFile:\n",
    "    line = line.rstrip().split(',')\n",
    "    if line[1] == 'Total National Population':\n",
    "        print(line)\n",
    "inputFile.close()"
   ]
  },
  {
   "cell_type": "code",
   "execution_count": 153,
   "metadata": {
    "collapsed": false
   },
   "outputs": [
    {
     "name": "stdout",
     "output_type": "stream",
     "text": [
      "['Continent', 'ElevationZone', 'UrbanRuralDesignation', 'Population1990', 'Population2000', 'Population2010', 'Population2100', 'LandArea']\n"
     ]
    }
   ],
   "source": [
    "header = header.rstrip().split(',')\n",
    "print(header)"
   ]
  },
  {
   "cell_type": "code",
   "execution_count": 157,
   "metadata": {
    "collapsed": false
   },
   "outputs": [
    {
     "name": "stdout",
     "output_type": "stream",
     "text": [
      "Africa 573918429 <class 'str'>\n",
      "Africa 327611385 <class 'str'>\n",
      "Asia 2345920129 <class 'str'>\n",
      "Asia 1720930281 <class 'str'>\n",
      "Oceania 14024049 <class 'str'>\n",
      "Oceania 23152802 <class 'str'>\n",
      "Europe 223529720 <class 'str'>\n",
      "Europe 481254575 <class 'str'>\n",
      "North America 136724785 <class 'str'>\n",
      "North America 368856952 <class 'str'>\n",
      "South America 140056209 <class 'str'>\n",
      "South America 239968353 <class 'str'>\n"
     ]
    }
   ],
   "source": [
    "with open('dropbox/github/thinkful/unit1/data/\\\n",
    "lecz-urban-rural-population-land-area-estimates_continent\\\n",
    "-90m.csv', 'rU') as inputFile:\n",
    "    header = next(inputFile)\n",
    "    for line in inputFile:\n",
    "        line = line.rstrip().split(',')\n",
    "        if line[1] == 'Total National Population':\n",
    "            print( line[0], line[5], type(line[5]) )"
   ]
  },
  {
   "cell_type": "code",
   "execution_count": 163,
   "metadata": {
    "collapsed": false
   },
   "outputs": [
    {
     "name": "stdout",
     "output_type": "stream",
     "text": [
      "Africa 573918429 <class 'int'>\n",
      "Africa 327611385 <class 'int'>\n",
      "Asia 2345920129 <class 'int'>\n",
      "Asia 1720930281 <class 'int'>\n",
      "Oceania 14024049 <class 'int'>\n",
      "Oceania 23152802 <class 'int'>\n",
      "Europe 223529720 <class 'int'>\n",
      "Europe 481254575 <class 'int'>\n",
      "North America 136724785 <class 'int'>\n",
      "North America 368856952 <class 'int'>\n",
      "South America 140056209 <class 'int'>\n",
      "South America 239968353 <class 'int'>\n"
     ]
    }
   ],
   "source": [
    "with open('dropbox/github/thinkful/unit1/data/\\\n",
    "lecz-urban-rural-population-land-area-estimates_continent\\\n",
    "-90m.csv', 'rU') as inputFile:\n",
    "    header = next(inputFile) #pops the headline\n",
    "    for line in inputFile:\n",
    "        line = line.rstrip().split(',')\n",
    "        line[5] = int(line[5])\n",
    "        if line[1] == 'Total National Population':\n",
    "            print( line[0], line[5], type(line[5]) )"
   ]
  },
  {
   "cell_type": "code",
   "execution_count": 164,
   "metadata": {
    "collapsed": true
   },
   "outputs": [],
   "source": [
    "import collections"
   ]
  },
  {
   "cell_type": "code",
   "execution_count": 168,
   "metadata": {
    "collapsed": false
   },
   "outputs": [],
   "source": [
    "population_dict = collections.defaultdict(int)\n",
    "with open('dropbox/github/thinkful/unit1/data/lecz-urban-\\\n",
    "rural-population-land-area-estimates_continent-90m.\\\n",
    "csv', 'rU') as inputFile:\n",
    "    header = next(inputFile)\n",
    "    for line in inputFile:\n",
    "        line = line.rstrip().split(',')\n",
    "        line[5] = int(line[5])\n",
    "        if line[1] == 'Total National Population':\n",
    "            population_dict[line[0]] += line[5]"
   ]
  },
  {
   "cell_type": "markdown",
   "metadata": {},
   "source": [
    "Magic--> ` population_dict[line[0]] += line[5]` \n",
    "that is setting the value and the key is picked automatically."
   ]
  },
  {
   "cell_type": "code",
   "execution_count": 169,
   "metadata": {
    "collapsed": false
   },
   "outputs": [
    {
     "data": {
      "text/plain": [
       "defaultdict(<class 'int'>, {'Asia': 4066850410, 'Europe': 704784295, 'South America': 380024562, 'Oceania': 37176851, 'North America': 505581737, 'Africa': 901529814})"
      ]
     },
     "execution_count": 169,
     "metadata": {},
     "output_type": "execute_result"
    }
   ],
   "source": [
    "population_dict"
   ]
  },
  {
   "cell_type": "code",
   "execution_count": 6,
   "metadata": {
    "collapsed": true
   },
   "outputs": [],
   "source": [
    "from collections import defaultdict"
   ]
  },
  {
   "cell_type": "code",
   "execution_count": 12,
   "metadata": {
    "collapsed": false
   },
   "outputs": [
    {
     "data": {
      "text/plain": [
       "defaultdict(<class 'int'>, {'Africa': 901529814, 'North America': 505581737, 'Europe': 704784295, 'Oceania': 37176851, 'Asia': 4066850410, 'South America': 380024562})"
      ]
     },
     "execution_count": 12,
     "metadata": {},
     "output_type": "execute_result"
    }
   ],
   "source": [
    "population_dict = defaultdict(int)\n",
    "inputFile = open('dropbox/github/thinkful/unit1/data/\\\n",
    "lecz-urban-rural-population-land-area-estimates_continent\\\n",
    "-90m.csv', 'rU')\n",
    "\n",
    "header = next(inputFile)\n",
    "\n",
    "for line in inputFile:\n",
    "    line = line.rstrip().split(',') #rstrip to remove trailing spaces, split to make the lines into a list by\n",
    "                                    #commas as the common delimiter.\n",
    "    line[5] = int(line[5])\n",
    "    if line[1] == 'Total National Population':\n",
    "        population_dict[line[0]] += line[5] #line[0] is the key (Continents in this case, Value is population).\n",
    "inputFile.close()\n",
    "population_dict"
   ]
  },
  {
   "cell_type": "code",
   "execution_count": 26,
   "metadata": {
    "collapsed": false
   },
   "outputs": [],
   "source": [
    "with open('dropbox/github/thinkful/unit1/data/national_population.csv', 'w') as outputFile: #Python will CREATE the file for me :) \n",
    "    outputFile.write('continent,2010_population\\n')\n",
    "    for k, v in population_dict.items():\n",
    "        outputFile.write(k + ',' + str(v) + '\\n')"
   ]
  },
  {
   "cell_type": "code",
   "execution_count": 24,
   "metadata": {
    "collapsed": false
   },
   "outputs": [],
   "source": [
    "#outputFile = open('national_population.csv', 'w')"
   ]
  },
  {
   "cell_type": "markdown",
   "metadata": {},
   "source": [
    ">The function iteritems() iterates through each key-value pair in the dictonary. In this case, we're assigning the key to the variable k and the value to the variable v. Remember the key is the continent and the value is the 2010 population. The population is an integer so we have to convert it to a string (using str()). We add the comma to delimit the two and then add the \\n to indicate the new line."
   ]
  },
  {
   "cell_type": "markdown",
   "metadata": {},
   "source": [
    "> This is what the data should look like now in the csv file.\n",
    "\n",
    "continent,2010_population<br>\n",
    "Europe,704784295<br>\n",
    "Oceania,37176851<br>\n",
    "Africa,901529814<br>\n",
    "Asia,4066850410<br>\n",
    "North America,505581737<br>\n",
    "South America,380024562<br>"
   ]
  },
  {
   "cell_type": "markdown",
   "metadata": {},
   "source": [
    "# Finished Code"
   ]
  },
  {
   "cell_type": "markdown",
   "metadata": {},
   "source": [
    "    import collections\n",
    "    population_dict = collections.defaultdict(int)\n",
    "\n",
    "    with open('lecz-urban-rural-population-land-area-estimates-v2-csv/lecz-urban-rural-population-land-area-estimates_continent-90m.csv','rU') as inputFile:\n",
    "        header = next(inputFile)\n",
    "\n",
    "        for line in inputFile:\n",
    "            line = line.rstrip().split(',')\n",
    "            line[5] = int(line[5])\n",
    "            if line[1] == 'Total National Population':\n",
    "                population_dict[line[0]] += line[5]\n",
    "\n",
    "    with open('national_population.csv', 'w') as outputFile:\n",
    "        outputFile.write('continent,2010_population\\n')\n",
    "\n",
    "        for k, v in population_dict.iteritems():\n",
    "            outputFile.write(k + ',' + str(v) + '\\n')"
   ]
  },
  {
   "cell_type": "markdown",
   "metadata": {},
   "source": [
    "#Challenge 1 from Unit 1 / Lesson 1 / Assignment 6\n",
    ">1. The data world is now your oyster. Play with some of the other population data and see what you come up with. Try and calculate the population change between 2010 and 2100. Remember the lesson about doing integer divison. Convert one of the numbers to floating point decimal by using the float() function."
   ]
  },
  {
   "cell_type": "code",
   "execution_count": 69,
   "metadata": {
    "collapsed": false
   },
   "outputs": [
    {
     "name": "stdout",
     "output_type": "stream",
     "text": [
      "Population percentage change from 2010 to 2100: 47.66%\n"
     ]
    }
   ],
   "source": [
    "import collections\n",
    "year2010 = []\n",
    "year2100 = []\n",
    "with open('dropbox/github/thinkful/unit1/data/lecz-urban-rural-population-land-area-estimates_continent-90m.\\\n",
    "csv', 'rU') as inputFile:\n",
    "    header = next(inputFile)\n",
    "    for line in inputFile:\n",
    "        line = line.rstrip().split(',')\n",
    "        line[5] = int(line[5]) # pop_2010\n",
    "        line[6] = int(line[6]) # pop_2100\n",
    "        if line[1] == 'Total National Population':\n",
    "            year2010.append(line[5])\n",
    "            year2100.append(line[6])\n",
    "\n",
    "total_2010_pop = sum(year2010)\n",
    "total_2100_pop = sum(year2100)\n",
    "print(\"Population percentage change from 2010 to 2100: %1.2f%%\" %( \n",
    "        ((total_2100_pop - total_2010_pop) / total_2010_pop)* 100)  )"
   ]
  },
  {
   "cell_type": "markdown",
   "metadata": {},
   "source": [
    "> `2.` Which continent is estimated to grow the most in the next 90 years?"
   ]
  },
  {
   "cell_type": "code",
   "execution_count": 67,
   "metadata": {
    "collapsed": false
   },
   "outputs": [
    {
     "name": "stdout",
     "output_type": "stream",
     "text": [
      "('Asia', 1780634474.0)\n"
     ]
    },
    {
     "data": {
      "text/plain": [
       "'Asia'"
      ]
     },
     "execution_count": 67,
     "metadata": {},
     "output_type": "execute_result"
    }
   ],
   "source": [
    "import collections\n",
    "pop_dict = collections.defaultdict(int)\n",
    "with open('dropbox/github/thinkful/unit1/data/lecz-urban-rural-population-land-area-estimates_continent-90m.\\\n",
    "csv', 'rU') as inputFile:\n",
    "    header = next(inputFile)\n",
    "    for line in inputFile:\n",
    "        line = line.rstrip().split(',')\n",
    "        line[5] = float(line[5]) # population 2010\n",
    "        line[6] = int(line[6]) # population 2100\n",
    "        if line[1] == 'Total National Population':\n",
    "            pop_dict[line[0]] += line[6] - line[5]\n",
    "\n",
    "print(max(pop_dict.items(), key = lambda e: e[1]))\n",
    "# pop_dict.items() ex:[('africa', 200), ('north america', 100)]\n",
    "\n",
    "max(pop_dict.items(), key = lambda e: e[1])[0]"
   ]
  },
  {
   "cell_type": "code",
   "execution_count": 34,
   "metadata": {
    "collapsed": true
   },
   "outputs": [],
   "source": [
    "%qtconsole"
   ]
  },
  {
   "cell_type": "code",
   "execution_count": null,
   "metadata": {
    "collapsed": true
   },
   "outputs": [],
   "source": [
    "# max(q, key = q.get) ==> returns max key  \n",
    "# max(q.items(), key = lambda e: e[1]) ==> returns max key,value"
   ]
  },
  {
   "cell_type": "markdown",
   "metadata": {},
   "source": [
    "#Challenge 2 from Unit 1 / Lesson 1 / Assignment 6"
   ]
  },
  {
   "cell_type": "markdown",
   "metadata": {},
   "source": [
    "> `1.`Try and calculate the population density (total national population divided by the total land area)"
   ]
  },
  {
   "cell_type": "code",
   "execution_count": 91,
   "metadata": {
    "collapsed": false
   },
   "outputs": [
    {
     "name": "stdout",
     "output_type": "stream",
     "text": [
      "There were about 56 people per km^2 in the world in 2010\n"
     ]
    }
   ],
   "source": [
    "import collections\n",
    "pop_2010 = []\n",
    "land_area = []\n",
    "with open('dropbox/github/thinkful/unit1/data/lecz-urban-rural-population-land-area-estimates_continent-90m.\\\n",
    "csv', 'rU') as inputFile:\n",
    "    header = next(inputFile)\n",
    "    for line in inputFile:\n",
    "        line = line.rstrip().split(',')\n",
    "        line[5] = int(line[5]) # population 2010\n",
    "        line[7] = int(line[7]) # land area\n",
    "        if line[1] == 'Total National Population':\n",
    "            pop_2010.append(line[5])\n",
    "            land_area.append(line[7])\n",
    "            \n",
    "total_pop_2010 = sum(pop_2010)\n",
    "total_land_area = sum(land_area)\n",
    "\n",
    "print( \"There were about %s people per km^2 in the world in 2010\" %(total_pop_2010 // total_land_area) )"
   ]
  },
  {
   "cell_type": "markdown",
   "metadata": {},
   "source": [
    "> `2.` Which continent was most densely populated in 2010?"
   ]
  },
  {
   "cell_type": "code",
   "execution_count": 89,
   "metadata": {
    "collapsed": false
   },
   "outputs": [
    {
     "name": "stdout",
     "output_type": "stream",
     "text": [
      "dict_items([('Africa', 1458), ('North America', 345), ('Europe', 806), ('Oceania', 458), ('Asia', 1346), ('South America', 791)])\n",
      "('Africa', 1458)\n"
     ]
    },
    {
     "data": {
      "text/plain": [
       "'Africa'"
      ]
     },
     "execution_count": 89,
     "metadata": {},
     "output_type": "execute_result"
    }
   ],
   "source": [
    "import collections\n",
    "dense_2010_dict = collections.defaultdict(int)\n",
    "with open('dropbox/github/thinkful/unit1/data/lecz-urban-rural-population-land-area-estimates_continent-90m.\\\n",
    "csv', 'rU') as inputFile:\n",
    "    header = next(inputFile)\n",
    "    for line in inputFile:\n",
    "        line = line.rstrip().split(',')\n",
    "        line[5] = int(line[5]) # population 2010\n",
    "        line[7] = int(line[7]) # land area\n",
    "        if line[1] == 'Total National Population':\n",
    "            dense_2010_dict[line[0]] += line[5] // line[7]     # line[0] ==> continent\n",
    "            \n",
    "print(dense_2010_dict.items())            \n",
    "print(max(dense_2010_dict.items(), key = lambda e: e[1]))\n",
    "max(dense_2010_dict.items(), key = lambda e: e[1])[0]            "
   ]
  },
  {
   "cell_type": "markdown",
   "metadata": {
    "collapsed": true
   },
   "source": [
    "# Managing Data with Pandas"
   ]
  },
  {
   "cell_type": "code",
   "execution_count": 38,
   "metadata": {
    "collapsed": false
   },
   "outputs": [
    {
     "name": "stdout",
     "output_type": "stream",
     "text": [
      "['Variable', 'Description']\n",
      "['ISO3v10', 'Unique identifying 3 character country code from ISO']\n",
      "['Continent', '\"The Global Rural-Urban Mapping Project', ' Version 1 (GRUMPv1) National Boundaries Dataset distinguishes state entities.\"']\n",
      "['Country', '\"The Global Rural-Urban Mapping Project', ' Version 1 (GRUMPv1) National Boundaries Dataset categorizes state entities by continent.\"']\n",
      "['GeoRegion', '\"The geographical regions used by the United Nations Statistics Division in its publications and databases. Each country is shown in one region only. Geo Regions refer to the UN’s macro geographical regions', ' and correspond as closely as possible to continents. \"']\n",
      "['GeoSubregion', '\"Within macro geographical groupings', ' more detailed sub-regions are shown. From the UN: “The assignment of countries or areas to specific groupings is for statistical convenience and does not imply any assumption regarding political or other affiliation of countries or territories by the United Nations.”\"']\n",
      "['ElevationZone', 'Elevation data used to generate the low elevation coastal zones come from the SRTM3 Enhanced Global Map developed by ISCIENCES. The ISCIENCES digital elevation model was created using NASA’s Jet Propulsion Laboratory Shuttle Radar Topography Mission data processed to 3 arc-seconds (SRTM3).']\n",
      "['Income Group', '\"From the World Bank: \"\"Economies are divided according to 2010 GNI per capita', ' calculated using the World Bank Atlas method. The groups are: low income', ' $1', '005 or less; lower middle income', ' $1', '006 - $3', '975; upper middle income', ' $3', '976 - $12', '275; and high income', ' $12', '276 or more.\"\"\"']\n",
      "['Lending Category', '\"From the World Bank: \"\"IDA countries are those that had a per capita income in 2010 of less than $1', '175 and lack the financial ability to borrow from the International Bank for Reconstruction and Development (IBRD). IDA loans are deeply concessional—interest-free loans and grants for programs aimed at boosting economic growth and improving living conditions. IBRD loans are noncessional. Blend countries are eligible for IDA loans because of their low per capita incomes but are also eligible for IBRD loans because they are financially creditworthy.\"\"\"']\n",
      "['UrbanRuralDesignation', '\"The Global Rural-Urban Mapping Project', ' Version 1 (GRUMPv1) urban extent grid distinguishes urban and rural areas based on a combination of population counts (persons)', ' settlement points', ' and the presence of Nighttime Lights . Areas are defined as urban where contiguous lighted cells from the Nighttime Lights or approximated urban extents based on buffered settlement points for which the total population is greater than 5', '000 persons. This dataset is produced by the Columbia University Center for International Earth Science Information Network (CIESIN) in collaboration with the International Food Policy Research Institute (IFPRI)', ' The World Bank', ' and Centro Internacional de Agricultura Tropical (CIAT)\"']\n",
      "['Population1990', 'Population counts in low elevation zones in the year 1990 as described by GRUMPv1 input estimates allocated into 3 arc second grid cells']\n",
      "['Population2000', 'Population counts in low elevation zones in the year 2000 as described by GRUMPv1 input estimates allocated into 3 arc second grid cells']\n",
      "['Population2010', 'Population counts in low elevation zones in the year 2010 derived from the application of United Nations 2000-2010 urban and rural growth rates to year 2000 population data from GRUMPv1 ( see documentation for full description of methodologies )']\n",
      "['Population2100', 'Extrapolated population counts in low elevation zones in the year 2100 as derived from the application of a calculated 100 year growth rate from IIASA GGI Downscaled Spatially Explicit Socio-Economic Scenario Data ( see documentation for full description of methodologies )']\n",
      "['LandArea', 'Land Areas in square kilometers']\n",
      "['PercentofCountryPopulation1990', 'Percent of total country population year 1990']\n",
      "['PercentofCountryPopulation2000', 'Percent of total country population year 2000']\n",
      "['PercentofCountryPopulation2010', 'Percent of total country population year 2010']\n",
      "['PercentofCountryPopulation2100', 'Percent of total country population year 2100']\n",
      "['PercentofCountryLandArea', 'Percent of total country land area']\n"
     ]
    }
   ],
   "source": [
    "# import codecs ==> encoding = windows-1252\n",
    "with open('dropbox/github/thinkful/unit1/data/lecz-urban-rural-population-land-area-estimates_codebook.\\\n",
    "csv', 'r', encoding = 'windows-1252') as inputFile:\n",
    "    for line in inputFile:\n",
    "        line = line.rstrip().split(',')\n",
    "        print(line)"
   ]
  },
  {
   "cell_type": "code",
   "execution_count": 27,
   "metadata": {
    "collapsed": false
   },
   "outputs": [
    {
     "name": "stdout",
     "output_type": "stream",
     "text": [
      "2\n",
      "2\n",
      "3\n",
      "3\n",
      "3\n",
      "3\n",
      "2\n",
      "13\n",
      "3\n",
      "8\n",
      "2\n",
      "2\n",
      "2\n",
      "2\n",
      "2\n",
      "2\n",
      "2\n",
      "2\n",
      "2\n",
      "2\n"
     ]
    }
   ],
   "source": [
    "with open('dropbox/github/thinkful/unit1/data/lecz-urban-rural-population-land-area-estimates_codebook.\\\n",
    "csv', 'rU') as inputFile:\n",
    "    for line in inputFile:\n",
    "        line = line.rstrip().split(',')\n",
    "        print(len(line))"
   ]
  },
  {
   "cell_type": "markdown",
   "metadata": {},
   "source": [
    "# CSV to the rescue!!"
   ]
  },
  {
   "cell_type": "code",
   "execution_count": 35,
   "metadata": {
    "collapsed": false
   },
   "outputs": [
    {
     "name": "stdout",
     "output_type": "stream",
     "text": [
      "['Variable', 'Description']\n",
      "['ISO3v10', 'Unique identifying 3 character country code from ISO']\n",
      "['Continent', 'The Global Rural-Urban Mapping Project, Version 1 (GRUMPv1) National Boundaries Dataset distinguishes state entities.']\n",
      "['Country', 'The Global Rural-Urban Mapping Project, Version 1 (GRUMPv1) National Boundaries Dataset categorizes state entities by continent.']\n",
      "['GeoRegion', 'The geographical regions used by the United Nations Statistics Division in its publications and databases. Each country is shown in one region only. Geo Regions refer to the UN�s macro geographical regions, and correspond as closely as possible to continents. ']\n",
      "['GeoSubregion', 'Within macro geographical groupings, more detailed sub-regions are shown. From the UN: �The assignment of countries or areas to specific groupings is for statistical convenience and does not imply any assumption regarding political or other affiliation of countries or territories by the United Nations.�']\n",
      "['ElevationZone', 'Elevation data used to generate the low elevation coastal zones come from the SRTM3 Enhanced Global Map developed by ISCIENCES. The ISCIENCES digital elevation model was created using NASA�s Jet Propulsion Laboratory Shuttle Radar Topography Mission data processed to 3 arc-seconds (SRTM3).']\n",
      "['Income Group', 'From the World Bank: \"Economies are divided according to 2010 GNI per capita, calculated using the World Bank Atlas method. The groups are: low income, $1,005 or less; lower middle income, $1,006 - $3,975; upper middle income, $3,976 - $12,275; and high income, $12,276 or more.\"']\n",
      "['Lending Category', 'From the World Bank: \"IDA countries are those that had a per capita income in 2010 of less than $1,175 and lack the financial ability to borrow from the International Bank for Reconstruction and Development (IBRD). IDA loans are deeply concessional�interest-free loans and grants for programs aimed at boosting economic growth and improving living conditions. IBRD loans are noncessional. Blend countries are eligible for IDA loans because of their low per capita incomes but are also eligible for IBRD loans because they are financially creditworthy.\"']\n",
      "['UrbanRuralDesignation', 'The Global Rural-Urban Mapping Project, Version 1 (GRUMPv1) urban extent grid distinguishes urban and rural areas based on a combination of population counts (persons), settlement points, and the presence of Nighttime Lights . Areas are defined as urban where contiguous lighted cells from the Nighttime Lights or approximated urban extents based on buffered settlement points for which the total population is greater than 5,000 persons. This dataset is produced by the Columbia University Center for International Earth Science Information Network (CIESIN) in collaboration with the International Food Policy Research Institute (IFPRI), The World Bank, and Centro Internacional de Agricultura Tropical (CIAT)']\n",
      "['Population1990', 'Population counts in low elevation zones in the year 1990 as described by GRUMPv1 input estimates allocated into 3 arc second grid cells']\n",
      "['Population2000', 'Population counts in low elevation zones in the year 2000 as described by GRUMPv1 input estimates allocated into 3 arc second grid cells']\n",
      "['Population2010', 'Population counts in low elevation zones in the year 2010 derived from the application of United Nations 2000-2010 urban and rural growth rates to year 2000 population data from GRUMPv1 ( see documentation for full description of methodologies )']\n",
      "['Population2100', 'Extrapolated population counts in low elevation zones in the year 2100 as derived from the application of a calculated 100 year growth rate from IIASA GGI Downscaled Spatially Explicit Socio-Economic Scenario Data ( see documentation for full description of methodologies )']\n",
      "['LandArea', 'Land Areas in square kilometers']\n",
      "['PercentofCountryPopulation1990', 'Percent of total country population year 1990']\n",
      "['PercentofCountryPopulation2000', 'Percent of total country population year 2000']\n",
      "['PercentofCountryPopulation2010', 'Percent of total country population year 2010']\n",
      "['PercentofCountryPopulation2100', 'Percent of total country population year 2100']\n",
      "['PercentofCountryLandArea', 'Percent of total country land area']\n"
     ]
    }
   ],
   "source": [
    "import csv\n",
    "\n",
    "with codecs.open('dropbox/github/thinkful/unit1/data/lecz-urban-rural-population-land-area-estimates_codebook.\\\n",
    "csv', 'rU', encoding = 'utf-8', errors='replace') as inputFile:\n",
    "    inputReader = csv.reader(inputFile)\n",
    "    for line in inputReader:\n",
    "        print(line)"
   ]
  },
  {
   "cell_type": "code",
   "execution_count": 9,
   "metadata": {
    "collapsed": true
   },
   "outputs": [],
   "source": [
    "import pandas as pd\n",
    "import codecs"
   ]
  },
  {
   "cell_type": "code",
   "execution_count": 43,
   "metadata": {
    "collapsed": false
   },
   "outputs": [],
   "source": [
    "data_df = pd.read_csv('dropbox/github/thinkful/unit1/data/lecz-urban-rural-population-land-area-estimates_continent-90m.\\\n",
    "csv', encoding='windows-1252') "
   ]
  },
  {
   "cell_type": "code",
   "execution_count": 44,
   "metadata": {
    "collapsed": false
   },
   "outputs": [
    {
     "data": {
      "text/html": [
       "<div>\n",
       "<table border=\"1\" class=\"dataframe\">\n",
       "  <thead>\n",
       "    <tr style=\"text-align: right;\">\n",
       "      <th></th>\n",
       "      <th>Continent</th>\n",
       "      <th>ElevationZone</th>\n",
       "      <th>UrbanRuralDesignation</th>\n",
       "      <th>Population1990</th>\n",
       "      <th>Population2000</th>\n",
       "      <th>Population2010</th>\n",
       "      <th>Population2100</th>\n",
       "      <th>LandArea</th>\n",
       "    </tr>\n",
       "  </thead>\n",
       "  <tbody>\n",
       "    <tr>\n",
       "      <th>0</th>\n",
       "      <td>Africa</td>\n",
       "      <td>Elevations &gt; 20m or Non-Contiguous</td>\n",
       "      <td>Rural</td>\n",
       "      <td>333302081</td>\n",
       "      <td>418265923</td>\n",
       "      <td>530184094</td>\n",
       "      <td>1249908321</td>\n",
       "      <td>23749644</td>\n",
       "    </tr>\n",
       "    <tr>\n",
       "      <th>1</th>\n",
       "      <td>Africa</td>\n",
       "      <td>Elevations &gt; 20m or Non-Contiguous</td>\n",
       "      <td>Urban</td>\n",
       "      <td>157846329</td>\n",
       "      <td>210381843</td>\n",
       "      <td>266776037</td>\n",
       "      <td>504662423</td>\n",
       "      <td>204719</td>\n",
       "    </tr>\n",
       "    <tr>\n",
       "      <th>2</th>\n",
       "      <td>Africa</td>\n",
       "      <td>Elevations Less Than or Equal To 10m</td>\n",
       "      <td>Rural</td>\n",
       "      <td>18167003</td>\n",
       "      <td>22569516</td>\n",
       "      <td>28154645</td>\n",
       "      <td>76368900</td>\n",
       "      <td>172460</td>\n",
       "    </tr>\n",
       "    <tr>\n",
       "      <th>3</th>\n",
       "      <td>Africa</td>\n",
       "      <td>Elevations Less Than or Equal To 10m</td>\n",
       "      <td>Urban</td>\n",
       "      <td>22412955</td>\n",
       "      <td>28679117</td>\n",
       "      <td>36746774</td>\n",
       "      <td>94042536</td>\n",
       "      <td>13838</td>\n",
       "    </tr>\n",
       "    <tr>\n",
       "      <th>4</th>\n",
       "      <td>Africa</td>\n",
       "      <td>Elevations Less Than or Equal To 12m</td>\n",
       "      <td>Rural</td>\n",
       "      <td>20569411</td>\n",
       "      <td>25576481</td>\n",
       "      <td>31957186</td>\n",
       "      <td>85839163</td>\n",
       "      <td>202456</td>\n",
       "    </tr>\n",
       "  </tbody>\n",
       "</table>\n",
       "</div>"
      ],
      "text/plain": [
       "  Continent                          ElevationZone UrbanRuralDesignation  \\\n",
       "0    Africa    Elevations > 20m or Non-Contiguous                  Rural   \n",
       "1    Africa    Elevations > 20m or Non-Contiguous                  Urban   \n",
       "2    Africa  Elevations Less Than or Equal To 10m                  Rural   \n",
       "3    Africa  Elevations Less Than or Equal To 10m                  Urban   \n",
       "4    Africa  Elevations Less Than or Equal To 12m                  Rural   \n",
       "\n",
       "   Population1990  Population2000  Population2010  Population2100  LandArea  \n",
       "0       333302081       418265923       530184094      1249908321  23749644  \n",
       "1       157846329       210381843       266776037       504662423    204719  \n",
       "2        18167003        22569516        28154645        76368900    172460  \n",
       "3        22412955        28679117        36746774        94042536     13838  \n",
       "4        20569411        25576481        31957186        85839163    202456  "
      ]
     },
     "execution_count": 44,
     "metadata": {},
     "output_type": "execute_result"
    }
   ],
   "source": [
    "data_df.head()"
   ]
  },
  {
   "cell_type": "code",
   "execution_count": 45,
   "metadata": {
    "collapsed": false
   },
   "outputs": [
    {
     "data": {
      "text/plain": [
       "0             Africa\n",
       "1             Africa\n",
       "2             Africa\n",
       "3             Africa\n",
       "4             Africa\n",
       "5             Africa\n",
       "6             Africa\n",
       "7             Africa\n",
       "8             Africa\n",
       "9             Africa\n",
       "10            Africa\n",
       "11            Africa\n",
       "12            Africa\n",
       "13            Africa\n",
       "14            Africa\n",
       "15            Africa\n",
       "16            Africa\n",
       "17            Africa\n",
       "18            Africa\n",
       "19            Africa\n",
       "20              Asia\n",
       "21              Asia\n",
       "22              Asia\n",
       "23              Asia\n",
       "24              Asia\n",
       "25              Asia\n",
       "26              Asia\n",
       "27              Asia\n",
       "28              Asia\n",
       "29              Asia\n",
       "           ...      \n",
       "90     North America\n",
       "91     North America\n",
       "92     North America\n",
       "93     North America\n",
       "94     North America\n",
       "95     North America\n",
       "96     North America\n",
       "97     North America\n",
       "98     North America\n",
       "99     North America\n",
       "100    South America\n",
       "101    South America\n",
       "102    South America\n",
       "103    South America\n",
       "104    South America\n",
       "105    South America\n",
       "106    South America\n",
       "107    South America\n",
       "108    South America\n",
       "109    South America\n",
       "110    South America\n",
       "111    South America\n",
       "112    South America\n",
       "113    South America\n",
       "114    South America\n",
       "115    South America\n",
       "116    South America\n",
       "117    South America\n",
       "118    South America\n",
       "119    South America\n",
       "Name: Continent, dtype: object"
      ]
     },
     "execution_count": 45,
     "metadata": {},
     "output_type": "execute_result"
    }
   ],
   "source": [
    "data_df['Continent']"
   ]
  },
  {
   "cell_type": "code",
   "execution_count": 46,
   "metadata": {
    "collapsed": false
   },
   "outputs": [
    {
     "data": {
      "text/html": [
       "<div>\n",
       "<table border=\"1\" class=\"dataframe\">\n",
       "  <thead>\n",
       "    <tr style=\"text-align: right;\">\n",
       "      <th></th>\n",
       "      <th>Continent</th>\n",
       "      <th>ElevationZone</th>\n",
       "      <th>UrbanRuralDesignation</th>\n",
       "      <th>Population1990</th>\n",
       "      <th>Population2000</th>\n",
       "      <th>Population2010</th>\n",
       "      <th>Population2100</th>\n",
       "      <th>LandArea</th>\n",
       "    </tr>\n",
       "  </thead>\n",
       "  <tbody>\n",
       "    <tr>\n",
       "      <th>0</th>\n",
       "      <td>Africa</td>\n",
       "      <td>Elevations &gt; 20m or Non-Contiguous</td>\n",
       "      <td>Rural</td>\n",
       "      <td>333302081</td>\n",
       "      <td>418265923</td>\n",
       "      <td>530184094</td>\n",
       "      <td>1249908321</td>\n",
       "      <td>23749644</td>\n",
       "    </tr>\n",
       "    <tr>\n",
       "      <th>1</th>\n",
       "      <td>Africa</td>\n",
       "      <td>Elevations &gt; 20m or Non-Contiguous</td>\n",
       "      <td>Urban</td>\n",
       "      <td>157846329</td>\n",
       "      <td>210381843</td>\n",
       "      <td>266776037</td>\n",
       "      <td>504662423</td>\n",
       "      <td>204719</td>\n",
       "    </tr>\n",
       "    <tr>\n",
       "      <th>2</th>\n",
       "      <td>Africa</td>\n",
       "      <td>Elevations Less Than or Equal To 10m</td>\n",
       "      <td>Rural</td>\n",
       "      <td>18167003</td>\n",
       "      <td>22569516</td>\n",
       "      <td>28154645</td>\n",
       "      <td>76368900</td>\n",
       "      <td>172460</td>\n",
       "    </tr>\n",
       "    <tr>\n",
       "      <th>3</th>\n",
       "      <td>Africa</td>\n",
       "      <td>Elevations Less Than or Equal To 10m</td>\n",
       "      <td>Urban</td>\n",
       "      <td>22412955</td>\n",
       "      <td>28679117</td>\n",
       "      <td>36746774</td>\n",
       "      <td>94042536</td>\n",
       "      <td>13838</td>\n",
       "    </tr>\n",
       "    <tr>\n",
       "      <th>4</th>\n",
       "      <td>Africa</td>\n",
       "      <td>Elevations Less Than or Equal To 12m</td>\n",
       "      <td>Rural</td>\n",
       "      <td>20569411</td>\n",
       "      <td>25576481</td>\n",
       "      <td>31957186</td>\n",
       "      <td>85839163</td>\n",
       "      <td>202456</td>\n",
       "    </tr>\n",
       "    <tr>\n",
       "      <th>5</th>\n",
       "      <td>Africa</td>\n",
       "      <td>Elevations Less Than or Equal To 12m</td>\n",
       "      <td>Urban</td>\n",
       "      <td>25761403</td>\n",
       "      <td>32968917</td>\n",
       "      <td>42205337</td>\n",
       "      <td>105920405</td>\n",
       "      <td>16035</td>\n",
       "    </tr>\n",
       "    <tr>\n",
       "      <th>6</th>\n",
       "      <td>Africa</td>\n",
       "      <td>Elevations Less Than or Equal To 1m</td>\n",
       "      <td>Rural</td>\n",
       "      <td>3052584</td>\n",
       "      <td>3891608</td>\n",
       "      <td>4785451</td>\n",
       "      <td>14152403</td>\n",
       "      <td>21939</td>\n",
       "    </tr>\n",
       "    <tr>\n",
       "      <th>7</th>\n",
       "      <td>Africa</td>\n",
       "      <td>Elevations Less Than or Equal To 1m</td>\n",
       "      <td>Urban</td>\n",
       "      <td>4056678</td>\n",
       "      <td>4791461</td>\n",
       "      <td>5915752</td>\n",
       "      <td>21137853</td>\n",
       "      <td>2193</td>\n",
       "    </tr>\n",
       "    <tr>\n",
       "      <th>8</th>\n",
       "      <td>Africa</td>\n",
       "      <td>Elevations Less Than or Equal To 20m</td>\n",
       "      <td>Rural</td>\n",
       "      <td>27791636</td>\n",
       "      <td>34704704</td>\n",
       "      <td>43734340</td>\n",
       "      <td>118040942</td>\n",
       "      <td>342694</td>\n",
       "    </tr>\n",
       "    <tr>\n",
       "      <th>9</th>\n",
       "      <td>Africa</td>\n",
       "      <td>Elevations Less Than or Equal To 20m</td>\n",
       "      <td>Urban</td>\n",
       "      <td>37566072</td>\n",
       "      <td>47749797</td>\n",
       "      <td>60835348</td>\n",
       "      <td>145244129</td>\n",
       "      <td>23456</td>\n",
       "    </tr>\n",
       "  </tbody>\n",
       "</table>\n",
       "</div>"
      ],
      "text/plain": [
       "  Continent                          ElevationZone UrbanRuralDesignation  \\\n",
       "0    Africa    Elevations > 20m or Non-Contiguous                  Rural   \n",
       "1    Africa    Elevations > 20m or Non-Contiguous                  Urban   \n",
       "2    Africa  Elevations Less Than or Equal To 10m                  Rural   \n",
       "3    Africa  Elevations Less Than or Equal To 10m                  Urban   \n",
       "4    Africa  Elevations Less Than or Equal To 12m                  Rural   \n",
       "5    Africa  Elevations Less Than or Equal To 12m                  Urban   \n",
       "6    Africa    Elevations Less Than or Equal To 1m                 Rural   \n",
       "7    Africa    Elevations Less Than or Equal To 1m                 Urban   \n",
       "8    Africa  Elevations Less Than or Equal To 20m                  Rural   \n",
       "9    Africa  Elevations Less Than or Equal To 20m                  Urban   \n",
       "\n",
       "   Population1990  Population2000  Population2010  Population2100  LandArea  \n",
       "0       333302081       418265923       530184094      1249908321  23749644  \n",
       "1       157846329       210381843       266776037       504662423    204719  \n",
       "2        18167003        22569516        28154645        76368900    172460  \n",
       "3        22412955        28679117        36746774        94042536     13838  \n",
       "4        20569411        25576481        31957186        85839163    202456  \n",
       "5        25761403        32968917        42205337       105920405     16035  \n",
       "6         3052584         3891608         4785451        14152403     21939  \n",
       "7         4056678         4791461         5915752        21137853      2193  \n",
       "8        27791636        34704704        43734340       118040942    342694  \n",
       "9        37566072        47749797        60835348       145244129     23456  "
      ]
     },
     "execution_count": 46,
     "metadata": {},
     "output_type": "execute_result"
    }
   ],
   "source": [
    "data_df[0:10]"
   ]
  },
  {
   "cell_type": "markdown",
   "metadata": {
    "collapsed": true
   },
   "source": [
    "# Lesson 3: Working with Databases "
   ]
  },
  {
   "cell_type": "markdown",
   "metadata": {
    "collapsed": true
   },
   "source": [
    "- CREATE TABLE cities (name text, state text);\n",
    "This command will **create a table** called **cities** with **columns: name & state** and taking it in as **text**\n",
    "\n",
    "CREATE TABLE weather (city text, year integer, warm_month text, cold_month text, average_high integer);\n",
    "\n",
    "sqlite> INSERT INTO weather (city, year, warm_month, cold_month, average_high) VALUES   \n",
    "\n",
    "...> ('New York City', 2013, 'July', 'January', 62),   ...> ('Boston', 2013, 'July', 'January', 59),   ...> ('Chicago', 2013, 'July', 'January', 59),\n",
    "  \n",
    "  ...> ('Miami', 2013, 'August', 'January', 84),\n",
    "  \n",
    "  ...> ('Dallas', 2013, 'August', 'January', 77),\n",
    "  \n",
    "  ...> ('Seattle', 2013, 'July', 'January', 61),\n",
    "  \n",
    "  ...> ('Portland', 2013, 'July', 'December', 63),\n",
    "  \n",
    "  ...> ('San Francisco', 2013, 'September', 'December', 64),\n",
    "  \n",
    "  ...> ('Los Angeles', 2013, 'September', 'December', 75);\n",
    "  \n",
    "##Useful commands:\n",
    "<li>which sqlite3  --Tells you the path of sqlite3\n",
    "<li>/usr/bin/sqlite3 --To link it to the system-provided sqlite so now up arrow and down arrow keys work to recall commands\n",
    "<li>/usr/bin/sqlite3 somefilename.db --To connect that database to your current session"
   ]
  },
  {
   "cell_type": "markdown",
   "metadata": {
    "collapsed": true
   },
   "source": [
    "## Querying\n",
    "<li> `SELECT * FROM <tablename>;`</li>\n",
    "<li> `SELECT <columnname>, <columnname2> FROM <tablename>;`</li>\n",
    "<li> `SELECT name, state FROM cities WHERE state='CA';`</li>\n",
    "<li> `SELECT name FROM cities WHERE name LIKE '%le%';`</li>\n",
    "<li> `SELECT name FROM cities LIMIT 2 OFFSET 3;`</li>\n",
    "<li> **Example**: `SELECT COUNT(*) FROM cities WHERE name LIKE 'San%' AND state='CA';`</li>\n",
    "## [Using sqlite3 with Python](https://docs.python.org/2/library/sqlite3.html)\n",
    "<li> `import sqlite3`\n",
    "<li> `conn = sqlite3.connect('filename.db')` --Connect with the database\n",
    "<li> `c = conn.cursor()` --Preparing the cursor to call the .execute method on it\n",
    "<li> `c.execute('<Regular SQL syntax here>')` \n",
    "<li> `print(c.fetchall()) --To see the latest cursor\n",
    "<li> `con.commit()` --Push changes after writing to the database with commands like `UPDATE`\n",
    "<li> `conn.rollback()` --Rollback any changes since the **LAST** call to `commit()`"
   ]
  },
  {
   "cell_type": "code",
   "execution_count": 3,
   "metadata": {
    "collapsed": true
   },
   "outputs": [],
   "source": [
    "import pandas"
   ]
  },
  {
   "cell_type": "code",
   "execution_count": 6,
   "metadata": {
    "collapsed": false
   },
   "outputs": [],
   "source": [
    "import sqlite3"
   ]
  },
  {
   "cell_type": "code",
   "execution_count": 109,
   "metadata": {
    "collapsed": false
   },
   "outputs": [],
   "source": [
    "conn = sqlite3.connect('dropbox/github/thinkful/unit1/sqlite3/getting_started.db')"
   ]
  },
  {
   "cell_type": "code",
   "execution_count": 110,
   "metadata": {
    "collapsed": false
   },
   "outputs": [],
   "source": [
    "c = conn.cursor()"
   ]
  },
  {
   "cell_type": "code",
   "execution_count": 111,
   "metadata": {
    "collapsed": false
   },
   "outputs": [
    {
     "data": {
      "text/plain": [
       "<sqlite3.Cursor at 0x1071123b0>"
      ]
     },
     "execution_count": 111,
     "metadata": {},
     "output_type": "execute_result"
    }
   ],
   "source": [
    "c.execute('CREATE TABLE pysql (py text, sql text)')"
   ]
  },
  {
   "cell_type": "code",
   "execution_count": 112,
   "metadata": {
    "collapsed": false
   },
   "outputs": [
    {
     "data": {
      "text/plain": [
       "<sqlite3.Cursor at 0x1071123b0>"
      ]
     },
     "execution_count": 112,
     "metadata": {},
     "output_type": "execute_result"
    }
   ],
   "source": [
    "c.execute('SELECT * from cities')"
   ]
  },
  {
   "cell_type": "code",
   "execution_count": 113,
   "metadata": {
    "collapsed": false
   },
   "outputs": [
    {
     "name": "stdout",
     "output_type": "stream",
     "text": [
      "[('New York City', 'NY'), ('Boston', 'MA'), ('Chicago', 'IL'), ('Miami', 'FL'), ('Dallas', 'TX'), ('Seattle', 'WA'), ('Portland', 'OR'), ('San Francisco', 'CA'), ('Los Angeles', 'CA')]\n"
     ]
    }
   ],
   "source": [
    "print(c.fetchall())"
   ]
  },
  {
   "cell_type": "code",
   "execution_count": 114,
   "metadata": {
    "collapsed": false
   },
   "outputs": [
    {
     "data": {
      "text/plain": [
       "<sqlite3.Cursor at 0x1071123b0>"
      ]
     },
     "execution_count": 114,
     "metadata": {},
     "output_type": "execute_result"
    }
   ],
   "source": [
    "c.execute('SELECT name FROM cities LIMIT 2 OFFSET 3')"
   ]
  },
  {
   "cell_type": "code",
   "execution_count": 115,
   "metadata": {
    "collapsed": false
   },
   "outputs": [
    {
     "name": "stdout",
     "output_type": "stream",
     "text": [
      "[('Miami',), ('Dallas',)]\n"
     ]
    }
   ],
   "source": [
    "print(c.fetchall())"
   ]
  },
  {
   "cell_type": "code",
   "execution_count": 116,
   "metadata": {
    "collapsed": false
   },
   "outputs": [
    {
     "name": "stdout",
     "output_type": "stream",
     "text": [
      "[(1,)]\n"
     ]
    }
   ],
   "source": [
    "c.execute('SELECT COUNT(*) FROM CITIES WHERE name LIKE \"San%\" and state=\"CA\"')\n",
    "print(c.fetchall())"
   ]
  },
  {
   "cell_type": "markdown",
   "metadata": {},
   "source": [
    ">The COUNT function is used to return the number of rows which match a query. So in this example you count the number of cities in California which start with the string \"San\". Notice how we can logically combine two WHERE clauses using AND, OR and NOT."
   ]
  },
  {
   "cell_type": "code",
   "execution_count": 117,
   "metadata": {
    "collapsed": false
   },
   "outputs": [
    {
     "name": "stdout",
     "output_type": "stream",
     "text": [
      "('New York City', 2013, 'July', 'January', 62)\n",
      "('Boston', 2013, 'July', 'January', 59)\n",
      "('Chicago', 2013, 'July', 'January', 59)\n",
      "('Miami', 2013, 'August', 'January', 84)\n",
      "('Dallas', 2013, 'August', 'January', 77)\n",
      "('Seattle', 2013, 'July', 'January', 61)\n",
      "('Portland', 2013, 'July', 'December', 63)\n",
      "('San Francisco', 2013, 'September', 'December', 64)\n",
      "('Los Angeles', 2013, 'September', 'December', 75)\n",
      "Highest temperature: 84˚\n"
     ]
    }
   ],
   "source": [
    "q = []\n",
    "for row in c.execute('SELECT * from weather'):\n",
    "    q.append(row[4])\n",
    "    print(row)\n",
    "print(\"Highest temperature: %s˚\" %max(q)) # alt + k ==> ˚"
   ]
  },
  {
   "cell_type": "code",
   "execution_count": 118,
   "metadata": {
    "collapsed": false
   },
   "outputs": [
    {
     "name": "stdout",
     "output_type": "stream",
     "text": [
      "[(604,)]\n"
     ]
    }
   ],
   "source": [
    "c.execute('SELECT sum(average_high) FROM weather')\n",
    "print(c.fetchall())"
   ]
  },
  {
   "cell_type": "code",
   "execution_count": 119,
   "metadata": {
    "collapsed": false
   },
   "outputs": [
    {
     "name": "stdout",
     "output_type": "stream",
     "text": [
      "[('Boston', 59)]\n"
     ]
    }
   ],
   "source": [
    "c.execute('SELECT city, min(average_high) FROM weather')\n",
    "print(c.fetchall())"
   ]
  },
  {
   "cell_type": "code",
   "execution_count": 120,
   "metadata": {
    "collapsed": false
   },
   "outputs": [
    {
     "name": "stdout",
     "output_type": "stream",
     "text": [
      "('Miami', 84)\n"
     ]
    }
   ],
   "source": [
    "c.execute('SELECT city, max(average_high) FROM weather')\n",
    "print(c.fetchone())"
   ]
  },
  {
   "cell_type": "markdown",
   "metadata": {},
   "source": [
    "###How many rows are in the weather table?"
   ]
  },
  {
   "cell_type": "code",
   "execution_count": 121,
   "metadata": {
    "collapsed": false
   },
   "outputs": [
    {
     "name": "stdout",
     "output_type": "stream",
     "text": [
      "[(9,)]\n"
     ]
    }
   ],
   "source": [
    "c.execute('SELECT Count(*) FROM weather')\n",
    "print(c.fetchall())"
   ]
  },
  {
   "cell_type": "markdown",
   "metadata": {},
   "source": [
    "###What cities were hottest in July in 2013?"
   ]
  },
  {
   "cell_type": "code",
   "execution_count": 122,
   "metadata": {
    "collapsed": false
   },
   "outputs": [
    {
     "name": "stdout",
     "output_type": "stream",
     "text": [
      "[('New York City',), ('Boston',), ('Chicago',), ('Seattle',), ('Portland',)]\n"
     ]
    }
   ],
   "source": [
    "c.execute('SELECT city FROM weather where warm_month = \"July\"')\n",
    "print(c.fetchall())"
   ]
  },
  {
   "cell_type": "markdown",
   "metadata": {},
   "source": [
    "###What cities were hottest in July and not coldest in January?"
   ]
  },
  {
   "cell_type": "code",
   "execution_count": 123,
   "metadata": {
    "collapsed": false
   },
   "outputs": [
    {
     "name": "stdout",
     "output_type": "stream",
     "text": [
      "[('Portland',)]\n"
     ]
    }
   ],
   "source": [
    "c.execute('SELECT city FROM weather where warm_month = \"July\" and cold_month != \"January\" ')\n",
    "print(c.fetchall())"
   ]
  },
  {
   "cell_type": "markdown",
   "metadata": {},
   "source": [
    "###The first two cities which were coldest in January"
   ]
  },
  {
   "cell_type": "code",
   "execution_count": 124,
   "metadata": {
    "collapsed": false
   },
   "outputs": [
    {
     "name": "stdout",
     "output_type": "stream",
     "text": [
      "[('New York City',), ('Boston',), ('Chicago',), ('Miami',), ('Dallas',), ('Seattle',)]\n"
     ]
    }
   ],
   "source": [
    "c.execute('SELECT city FROM weather where cold_month = \"January\"')\n",
    "print(c.fetchall())"
   ]
  },
  {
   "cell_type": "code",
   "execution_count": 125,
   "metadata": {
    "collapsed": false,
    "scrolled": true
   },
   "outputs": [
    {
     "name": "stdout",
     "output_type": "stream",
     "text": [
      "[('New York City',), ('Boston',)]\n"
     ]
    }
   ],
   "source": [
    "c.execute('SELECT city FROM weather where cold_month = \"January\" LIMIT 2')\n",
    "print(c.fetchall())"
   ]
  },
  {
   "cell_type": "code",
   "execution_count": 126,
   "metadata": {
    "collapsed": false
   },
   "outputs": [
    {
     "name": "stdout",
     "output_type": "stream",
     "text": [
      "[('Miami',), ('Dallas',)]\n"
     ]
    }
   ],
   "source": [
    "c.execute('SELECT city FROM weather where cold_month = \"January\" LIMIT 2 OFFSET 3')\n",
    "print(c.fetchall())"
   ]
  },
  {
   "cell_type": "markdown",
   "metadata": {},
   "source": [
    "#Update your data\n",
    "<li> How to deal with locked or readonly data: <br>```/Users/ChessTastic/.ipython/profile_default/history.sqlite.\n",
    "➜  profile_default  sudo chmod a+w history.sqlite\n",
    "Password:```\n",
    "<li>To change the values held in a table you use the `UPDATE` command. Try running the following example:"
   ]
  },
  {
   "cell_type": "code",
   "execution_count": 130,
   "metadata": {
    "collapsed": false
   },
   "outputs": [
    {
     "name": "stdout",
     "output_type": "stream",
     "text": [
      "[]\n"
     ]
    }
   ],
   "source": [
    "c.execute(\"UPDATE cities SET state='Californ-I-A' WHERE state='CA'\")\n",
    "conn.commit()\n",
    "print(c.fetchall())"
   ]
  },
  {
   "cell_type": "code",
   "execution_count": 131,
   "metadata": {
    "collapsed": false
   },
   "outputs": [
    {
     "name": "stdout",
     "output_type": "stream",
     "text": [
      "[('NY',), ('MA',), ('IL',), ('FL',), ('TX',), ('WA',), ('OR',), ('Californ-I-A',), ('Californ-I-A',)]\n"
     ]
    }
   ],
   "source": [
    "c.execute(\"SELECT state FROM cities\")\n",
    "print(c.fetchall())"
   ]
  },
  {
   "cell_type": "markdown",
   "metadata": {},
   "source": [
    "<li>Use an UPDATE statement to undo the meddling from above, changing \"Californ-I-A\" back to \"CA\"."
   ]
  },
  {
   "cell_type": "code",
   "execution_count": 133,
   "metadata": {
    "collapsed": false
   },
   "outputs": [
    {
     "name": "stdout",
     "output_type": "stream",
     "text": [
      "[('NY',), ('NY',), ('MA',), ('IL',), ('FL',), ('TX',), ('WA',), ('OR',), ('CA',), ('CA',)]\n"
     ]
    }
   ],
   "source": [
    "c.execute('UPDATE cities SET state=\"CA\" WHERE state=\"Californ-I-A\"')\n",
    "c.execute('SELECT state FROM cities')\n",
    "conn.commit()\n",
    "print(c.fetchall())"
   ]
  },
  {
   "cell_type": "markdown",
   "metadata": {},
   "source": [
    "# Deleting data\n",
    "<li>To delete data from a table you use the `DELETE FROM` command. For example, to delete the Californian cities you would run the following statement:"
   ]
  },
  {
   "cell_type": "code",
   "execution_count": 152,
   "metadata": {
    "collapsed": false
   },
   "outputs": [
    {
     "name": "stdout",
     "output_type": "stream",
     "text": [
      "Before deleting CA states: [('New York City', 'NY'), ('Boston', 'MA'), ('Chicago', 'IL'), ('Miami', 'FL'), ('Dallas', 'TX'), ('Seattle', 'WA'), ('Portland', 'OR'), ('San Francisco', 'CA'), ('Los Angeles', 'CA')]\n",
      "\n",
      "--------------------------------------------------------------------------------------------------------------\n",
      "\n",
      "After deleting CA states: [('New York City', 'NY'), ('Boston', 'MA'), ('Chicago', 'IL'), ('Miami', 'FL'), ('Dallas', 'TX'), ('Seattle', 'WA'), ('Portland', 'OR')]\n"
     ]
    }
   ],
   "source": [
    "c.execute('SELECT * FROM cities')\n",
    "print(\"Before deleting CA states: %s\" %c.fetchall())\n",
    "c.execute('DELETE FROM cities WHERE state=\"CA\"')\n",
    "print(\"\\n--------------------------------------------------------------------------------------------------------------\\n\")\n",
    "c.execute('SELECT * FROM cities')\n",
    "print(\"After deleting CA states: %s\" %c.fetchall())\n",
    "conn.commit()"
   ]
  },
  {
   "cell_type": "markdown",
   "metadata": {},
   "source": [
    "### How to use .rollback() on Class sqlite3.Connection"
   ]
  },
  {
   "cell_type": "code",
   "execution_count": 161,
   "metadata": {
    "collapsed": false
   },
   "outputs": [
    {
     "name": "stdout",
     "output_type": "stream",
     "text": [
      "[('New York City', 'NY'), ('Boston', 'MA'), ('Chicago', 'IL'), ('Miami', 'FL'), ('Dallas', 'TX'), ('Seattle', 'WA'), ('Portland', 'OR'), ('San Francisco', 'CA'), ('Los Angeles', 'CA')]\n"
     ]
    }
   ],
   "source": [
    "c.execute('''INSERT INTO cities (name, state) VALUES\n",
    "    ('New York City', 'NY'),\n",
    "    ('Boston', 'MA'),\n",
    "    ('Chicago', 'IL'),\n",
    "    ('Miami', 'FL'),\n",
    "    ('Dallas', 'TX'),\n",
    "    ('Seattle', 'WA'),\n",
    "    ('Portland', 'OR'),\n",
    "    ('San Francisco', 'CA'),\n",
    "    ('Los Angeles', 'CA');''')\n",
    "\n",
    "c.execute('SELECT * FROM cities')\n",
    "print(c.fetchall())"
   ]
  },
  {
   "cell_type": "code",
   "execution_count": 162,
   "metadata": {
    "collapsed": true
   },
   "outputs": [],
   "source": [
    "conn.rollback()"
   ]
  },
  {
   "cell_type": "code",
   "execution_count": 163,
   "metadata": {
    "collapsed": false
   },
   "outputs": [
    {
     "name": "stdout",
     "output_type": "stream",
     "text": [
      "[]\n"
     ]
    }
   ],
   "source": [
    "c.execute('SELECT * FROM cities')\n",
    "print(c.fetchall())"
   ]
  },
  {
   "cell_type": "code",
   "execution_count": 164,
   "metadata": {
    "collapsed": false
   },
   "outputs": [
    {
     "name": "stdout",
     "output_type": "stream",
     "text": [
      "[('New York City', 'NY'), ('Boston', 'MA'), ('Chicago', 'IL'), ('Miami', 'FL'), ('Dallas', 'TX'), ('Seattle', 'WA'), ('Portland', 'OR'), ('San Francisco', 'CA'), ('Los Angeles', 'CA')]\n"
     ]
    }
   ],
   "source": [
    "c.execute('''INSERT INTO cities (name, state) VALUES\n",
    "    ('New York City', 'NY'),\n",
    "    ('Boston', 'MA'),\n",
    "    ('Chicago', 'IL'),\n",
    "    ('Miami', 'FL'),\n",
    "    ('Dallas', 'TX'),\n",
    "    ('Seattle', 'WA'),\n",
    "    ('Portland', 'OR'),\n",
    "    ('San Francisco', 'CA'),\n",
    "    ('Los Angeles', 'CA');''')\n",
    "\n",
    "c.execute('SELECT * FROM cities')\n",
    "print(c.fetchall())\n",
    "conn.commit()"
   ]
  },
  {
   "cell_type": "code",
   "execution_count": 165,
   "metadata": {
    "collapsed": false
   },
   "outputs": [
    {
     "name": "stdout",
     "output_type": "stream",
     "text": [
      "[('New York City', 'NY'), ('Boston', 'MA'), ('Chicago', 'IL'), ('Miami', 'FL'), ('Dallas', 'TX'), ('Seattle', 'WA'), ('Portland', 'OR'), ('San Francisco', 'CA'), ('Los Angeles', 'CA')]\n"
     ]
    }
   ],
   "source": [
    "# Notice how .rollback() does nothing here\n",
    "conn.rollback()\n",
    "c.execute('SELECT * FROM cities')\n",
    "print(c.fetchall())"
   ]
  },
  {
   "cell_type": "markdown",
   "metadata": {},
   "source": [
    "## Export Your Data to CSV (Command Line)"
   ]
  },
  {
   "cell_type": "markdown",
   "metadata": {},
   "source": [
    "<li>`sqlite> .mode csv` &nbsp;&nbsp;&nbsp;&nbsp;&nbsp;&nbsp;&nbsp;&nbsp;&nbsp;&nbsp;&nbsp;&nbsp;&nbsp;&nbsp;&nbsp;&nbsp;&nbsp;&nbsp;&nbsp;&nbsp;&nbsp;&nbsp;&nbsp;&nbsp;&nbsp;&nbsp;&nbsp;&nbsp;--First switch output mode to `csv`\n",
    "<li>`sqlite> .headers on` &nbsp;&nbsp;&nbsp;&nbsp;&nbsp;&nbsp;&nbsp;&nbsp;&nbsp;&nbsp;&nbsp;&nbsp;&nbsp;&nbsp;&nbsp;&nbsp;&nbsp;&nbsp;&nbsp;&nbsp;&nbsp;&nbsp;&nbsp;&nbsp;--Turn column headers on\n",
    "<li>`sqlite> .output cities.csv`&nbsp;&nbsp;&nbsp;&nbsp;&nbsp;&nbsp;&nbsp;&nbsp;&nbsp;--Output any upcoming statements to `cities.csv`\n",
    "<li>`sqlite> select * from cities;`&nbsp;&nbsp;--Make query to select all of the rows from `cities` table\n",
    "<li>`sqlite> .output stdout`&nbsp;&nbsp;&nbsp;&nbsp;&nbsp;&nbsp;&nbsp;&nbsp;&nbsp;&nbsp;&nbsp;&nbsp;&nbsp;&nbsp;&nbsp;&nbsp;&nbsp;--Redirect `.output` to command line"
   ]
  },
  {
   "cell_type": "markdown",
   "metadata": {},
   "source": [
    "## Import data from a CSV (Command Line)\n",
    "<li>> create table cities_copy (name text, state text);\n",
    "<li>> .separator \",\"\n",
    "<li>> .import cities.csv cities_copy\n",
    ">First you have to create the new table before loading the csv into it, otherwise the CSV will have nowhere to go. Then you set the comma separator, and tell SQLite to import the data into the table using the .import command."
   ]
  },
  {
   "cell_type": "markdown",
   "metadata": {},
   "source": [
    "##Importing Data into SQLite Using Python\n",
    "Let's say you create a table called `cities`, with columns ID, name, state, and country.\n",
    "\n",
    "rosuav [4:32 AM]\n",
    "You can insert a row like this:\n",
    "\n",
    "rosuav [4:32 AM]\n",
    "`insert into cities (name, state, country) values ('Melbourne', 'VIC', 'Australia')`\n",
    "\n",
    "rosuav [4:33 AM]\n",
    "You can replace those quoted strings at the end with question marks, and then SQLite will use values from the CSV row. Let's say you get them as `\"Country\", \"State\", \"City Name\"`\n",
    "\n",
    "rosuav [4:33 AM]\n",
    "You could use:\n",
    "\n",
    "rosuav [4:33 AM]4:33\n",
    "`for row in csv_reader: cur.execute(\"insert into cities (country, state, name) values (?,?,?)\", row)`\n"
   ]
  },
  {
   "cell_type": "code",
   "execution_count": 177,
   "metadata": {
    "collapsed": false
   },
   "outputs": [
    {
     "name": "stdout",
     "output_type": "stream",
     "text": [
      "SQLite version: 3.8.4.1\n"
     ]
    }
   ],
   "source": [
    "c.execute('SELECT SQLITE_VERSION()')\n",
    "print(\"SQLite version: %s\" %c.fetchone())\n",
    "conn.close()"
   ]
  },
  {
   "cell_type": "code",
   "execution_count": 179,
   "metadata": {
    "collapsed": false
   },
   "outputs": [
    {
     "name": "stdout",
     "output_type": "stream",
     "text": [
      "SQLite version: 3.8.4.1\n"
     ]
    }
   ],
   "source": [
    "import sqlite3 as lite\n",
    "\n",
    "# Here you connect to the database. The `connect()` method returns a connection object.\n",
    "con = lite.connect('getting_started.db')\n",
    "\n",
    "with con:\n",
    "    # From the connection, you get a cursor object. The cursor is what goes over the records that result from a query.\n",
    "    cur = con.cursor()    \n",
    "    cur.execute('SELECT SQLITE_VERSION()')\n",
    "    # You're fetching the data from the cursor object. Because you're only fetching one record, you'll use the `fetchone()` method. If fetching more than one record, use the `fetchall()` method.\n",
    "    data = cur.fetchone()\n",
    "    # Finally, print the result.\n",
    "    print(\"SQLite version: %s\" % data)"
   ]
  },
  {
   "cell_type": "code",
   "execution_count": 186,
   "metadata": {
    "collapsed": false
   },
   "outputs": [],
   "source": [
    "cities = (('Las Vegas', 'NV'),\n",
    "         ('Atlanta', 'GA'))\n",
    "\n",
    "weather = (('Las Vegas', 2013, 'July', 'December', 80),\n",
    "          ('Atlanta', 2013, 'July', 'January', 90))\n",
    "\n",
    "con = lite.connect('dropbox/github/thinkful/unit1/sqlite3/getting_started.db')\n",
    "\n",
    "with con:\n",
    "    \n",
    "    cur = con.cursor()\n",
    "    cur.executemany(\"INSERT INTO cities VALUES (?,?)\", cities)\n",
    "    cur.executemany(\"INSERT INTO weather VALUES (?,?,?,?,?)\", weather)"
   ]
  },
  {
   "cell_type": "markdown",
   "metadata": {
    "collapsed": false
   },
   "source": [
    "## Retrieving Data"
   ]
  },
  {
   "cell_type": "code",
   "execution_count": 4,
   "metadata": {
    "collapsed": false
   },
   "outputs": [],
   "source": [
    "import sqlite3 as lite\n",
    "con = lite.connect('/Users/ChessTastic/dropbox/github/thinkful/unit1/sqlite3/getting_started.db')"
   ]
  },
  {
   "cell_type": "code",
   "execution_count": 6,
   "metadata": {
    "collapsed": false
   },
   "outputs": [
    {
     "name": "stdout",
     "output_type": "stream",
     "text": [
      "('New York City', 'NY')\n",
      "('Boston', 'MA')\n",
      "('Chicago', 'IL')\n",
      "('Miami', 'FL')\n",
      "('Dallas', 'TX')\n",
      "('Seattle', 'WA')\n",
      "('Portland', 'OR')\n",
      "('San Francisco', 'CA')\n",
      "('Los Angeles', 'CA')\n",
      "('Las Vegas', 'NV')\n",
      "('Atlanta', 'GA')\n"
     ]
    }
   ],
   "source": [
    "with con:\n",
    "    cur = con.cursor()\n",
    "    cur.execute(\"SELECT * FROM cities\")\n",
    "    rows = cur.fetchall()\n",
    "    \n",
    "    for row in rows:\n",
    "        print(row)"
   ]
  },
  {
   "cell_type": "code",
   "execution_count": 8,
   "metadata": {
    "collapsed": false
   },
   "outputs": [],
   "source": [
    "import pandas as pd"
   ]
  },
  {
   "cell_type": "code",
   "execution_count": 11,
   "metadata": {
    "collapsed": false
   },
   "outputs": [],
   "source": [
    "con = lite.connect('/Users/ChessTastic/dropbox/github/thinkful/unit1/sqlite3/getting_started.db')\n",
    "with con:\n",
    "    cur = con.cursor()\n",
    "    cur.execute('SELECT * FROM cities')\n",
    "    rows = cur.fetchall()\n",
    "    df = pd.DataFrame(rows)"
   ]
  },
  {
   "cell_type": "code",
   "execution_count": 14,
   "metadata": {
    "collapsed": false
   },
   "outputs": [
    {
     "data": {
      "text/html": [
       "<div>\n",
       "<table border=\"1\" class=\"dataframe\">\n",
       "  <thead>\n",
       "    <tr style=\"text-align: right;\">\n",
       "      <th></th>\n",
       "      <th>0</th>\n",
       "      <th>1</th>\n",
       "    </tr>\n",
       "  </thead>\n",
       "  <tbody>\n",
       "    <tr>\n",
       "      <th>0</th>\n",
       "      <td>New York City</td>\n",
       "      <td>NY</td>\n",
       "    </tr>\n",
       "    <tr>\n",
       "      <th>1</th>\n",
       "      <td>Boston</td>\n",
       "      <td>MA</td>\n",
       "    </tr>\n",
       "    <tr>\n",
       "      <th>2</th>\n",
       "      <td>Chicago</td>\n",
       "      <td>IL</td>\n",
       "    </tr>\n",
       "    <tr>\n",
       "      <th>3</th>\n",
       "      <td>Miami</td>\n",
       "      <td>FL</td>\n",
       "    </tr>\n",
       "    <tr>\n",
       "      <th>4</th>\n",
       "      <td>Dallas</td>\n",
       "      <td>TX</td>\n",
       "    </tr>\n",
       "    <tr>\n",
       "      <th>5</th>\n",
       "      <td>Seattle</td>\n",
       "      <td>WA</td>\n",
       "    </tr>\n",
       "    <tr>\n",
       "      <th>6</th>\n",
       "      <td>Portland</td>\n",
       "      <td>OR</td>\n",
       "    </tr>\n",
       "    <tr>\n",
       "      <th>7</th>\n",
       "      <td>San Francisco</td>\n",
       "      <td>CA</td>\n",
       "    </tr>\n",
       "    <tr>\n",
       "      <th>8</th>\n",
       "      <td>Los Angeles</td>\n",
       "      <td>CA</td>\n",
       "    </tr>\n",
       "    <tr>\n",
       "      <th>9</th>\n",
       "      <td>Las Vegas</td>\n",
       "      <td>NV</td>\n",
       "    </tr>\n",
       "    <tr>\n",
       "      <th>10</th>\n",
       "      <td>Atlanta</td>\n",
       "      <td>GA</td>\n",
       "    </tr>\n",
       "  </tbody>\n",
       "</table>\n",
       "</div>"
      ],
      "text/plain": [
       "                0   1\n",
       "0   New York City  NY\n",
       "1          Boston  MA\n",
       "2         Chicago  IL\n",
       "3           Miami  FL\n",
       "4          Dallas  TX\n",
       "5         Seattle  WA\n",
       "6        Portland  OR\n",
       "7   San Francisco  CA\n",
       "8     Los Angeles  CA\n",
       "9       Las Vegas  NV\n",
       "10        Atlanta  GA"
      ]
     },
     "execution_count": 14,
     "metadata": {},
     "output_type": "execute_result"
    }
   ],
   "source": [
    "df"
   ]
  },
  {
   "cell_type": "code",
   "execution_count": 19,
   "metadata": {
    "collapsed": false
   },
   "outputs": [
    {
     "data": {
      "text/plain": [
       "(('name', None, None, None, None, None, None),\n",
       " ('state', None, None, None, None, None, None))"
      ]
     },
     "execution_count": 19,
     "metadata": {},
     "output_type": "execute_result"
    }
   ],
   "source": [
    "cur.description   # Carries info regarding the tables. With index 0 containining headers"
   ]
  },
  {
   "cell_type": "code",
   "execution_count": 22,
   "metadata": {
    "collapsed": false
   },
   "outputs": [
    {
     "data": {
      "text/plain": [
       "['name', 'state']"
      ]
     },
     "execution_count": 22,
     "metadata": {},
     "output_type": "execute_result"
    }
   ],
   "source": [
    "cols = [desc[0] for desc in cur.description]\n",
    "cols"
   ]
  },
  {
   "cell_type": "code",
   "execution_count": 28,
   "metadata": {
    "collapsed": false
   },
   "outputs": [],
   "source": [
    "df = pd.DataFrame(rows, columns=cols)"
   ]
  },
  {
   "cell_type": "code",
   "execution_count": 29,
   "metadata": {
    "collapsed": false,
    "scrolled": true
   },
   "outputs": [
    {
     "data": {
      "text/html": [
       "<div>\n",
       "<table border=\"1\" class=\"dataframe\">\n",
       "  <thead>\n",
       "    <tr style=\"text-align: right;\">\n",
       "      <th></th>\n",
       "      <th>name</th>\n",
       "      <th>state</th>\n",
       "    </tr>\n",
       "  </thead>\n",
       "  <tbody>\n",
       "    <tr>\n",
       "      <th>0</th>\n",
       "      <td>New York City</td>\n",
       "      <td>NY</td>\n",
       "    </tr>\n",
       "    <tr>\n",
       "      <th>1</th>\n",
       "      <td>Boston</td>\n",
       "      <td>MA</td>\n",
       "    </tr>\n",
       "    <tr>\n",
       "      <th>2</th>\n",
       "      <td>Chicago</td>\n",
       "      <td>IL</td>\n",
       "    </tr>\n",
       "    <tr>\n",
       "      <th>3</th>\n",
       "      <td>Miami</td>\n",
       "      <td>FL</td>\n",
       "    </tr>\n",
       "    <tr>\n",
       "      <th>4</th>\n",
       "      <td>Dallas</td>\n",
       "      <td>TX</td>\n",
       "    </tr>\n",
       "    <tr>\n",
       "      <th>5</th>\n",
       "      <td>Seattle</td>\n",
       "      <td>WA</td>\n",
       "    </tr>\n",
       "    <tr>\n",
       "      <th>6</th>\n",
       "      <td>Portland</td>\n",
       "      <td>OR</td>\n",
       "    </tr>\n",
       "    <tr>\n",
       "      <th>7</th>\n",
       "      <td>San Francisco</td>\n",
       "      <td>CA</td>\n",
       "    </tr>\n",
       "    <tr>\n",
       "      <th>8</th>\n",
       "      <td>Los Angeles</td>\n",
       "      <td>CA</td>\n",
       "    </tr>\n",
       "    <tr>\n",
       "      <th>9</th>\n",
       "      <td>Las Vegas</td>\n",
       "      <td>NV</td>\n",
       "    </tr>\n",
       "    <tr>\n",
       "      <th>10</th>\n",
       "      <td>Atlanta</td>\n",
       "      <td>GA</td>\n",
       "    </tr>\n",
       "  </tbody>\n",
       "</table>\n",
       "</div>"
      ],
      "text/plain": [
       "             name state\n",
       "0   New York City    NY\n",
       "1          Boston    MA\n",
       "2         Chicago    IL\n",
       "3           Miami    FL\n",
       "4          Dallas    TX\n",
       "5         Seattle    WA\n",
       "6        Portland    OR\n",
       "7   San Francisco    CA\n",
       "8     Los Angeles    CA\n",
       "9       Las Vegas    NV\n",
       "10        Atlanta    GA"
      ]
     },
     "execution_count": 29,
     "metadata": {},
     "output_type": "execute_result"
    }
   ],
   "source": [
    "df"
   ]
  },
  {
   "cell_type": "markdown",
   "metadata": {},
   "source": [
    "<li> Now in one step: Adding column to the rows pulled from the SQL data"
   ]
  },
  {
   "cell_type": "code",
   "execution_count": 42,
   "metadata": {
    "collapsed": false
   },
   "outputs": [
    {
     "data": {
      "text/html": [
       "<div>\n",
       "<table border=\"1\" class=\"dataframe\">\n",
       "  <thead>\n",
       "    <tr style=\"text-align: right;\">\n",
       "      <th></th>\n",
       "      <th>name</th>\n",
       "      <th>state</th>\n",
       "    </tr>\n",
       "  </thead>\n",
       "  <tbody>\n",
       "    <tr>\n",
       "      <th>0</th>\n",
       "      <td>New York City</td>\n",
       "      <td>NY</td>\n",
       "    </tr>\n",
       "    <tr>\n",
       "      <th>1</th>\n",
       "      <td>Boston</td>\n",
       "      <td>MA</td>\n",
       "    </tr>\n",
       "    <tr>\n",
       "      <th>2</th>\n",
       "      <td>Chicago</td>\n",
       "      <td>IL</td>\n",
       "    </tr>\n",
       "    <tr>\n",
       "      <th>3</th>\n",
       "      <td>Miami</td>\n",
       "      <td>FL</td>\n",
       "    </tr>\n",
       "    <tr>\n",
       "      <th>4</th>\n",
       "      <td>Dallas</td>\n",
       "      <td>TX</td>\n",
       "    </tr>\n",
       "    <tr>\n",
       "      <th>5</th>\n",
       "      <td>Seattle</td>\n",
       "      <td>WA</td>\n",
       "    </tr>\n",
       "    <tr>\n",
       "      <th>6</th>\n",
       "      <td>Portland</td>\n",
       "      <td>OR</td>\n",
       "    </tr>\n",
       "    <tr>\n",
       "      <th>7</th>\n",
       "      <td>San Francisco</td>\n",
       "      <td>CA</td>\n",
       "    </tr>\n",
       "    <tr>\n",
       "      <th>8</th>\n",
       "      <td>Los Angeles</td>\n",
       "      <td>CA</td>\n",
       "    </tr>\n",
       "    <tr>\n",
       "      <th>9</th>\n",
       "      <td>Las Vegas</td>\n",
       "      <td>NV</td>\n",
       "    </tr>\n",
       "    <tr>\n",
       "      <th>10</th>\n",
       "      <td>Atlanta</td>\n",
       "      <td>GA</td>\n",
       "    </tr>\n",
       "  </tbody>\n",
       "</table>\n",
       "</div>"
      ],
      "text/plain": [
       "             name state\n",
       "0   New York City    NY\n",
       "1          Boston    MA\n",
       "2         Chicago    IL\n",
       "3           Miami    FL\n",
       "4          Dallas    TX\n",
       "5         Seattle    WA\n",
       "6        Portland    OR\n",
       "7   San Francisco    CA\n",
       "8     Los Angeles    CA\n",
       "9       Las Vegas    NV\n",
       "10        Atlanta    GA"
      ]
     },
     "execution_count": 42,
     "metadata": {},
     "output_type": "execute_result"
    }
   ],
   "source": [
    "import sqlite3 as lite\n",
    "con = lite.connect('/Users/ChessTastic/dropbox/github/thinkful/unit1/sqlite3/getting_started.db')\n",
    "with con:\n",
    "    cur = con.cursor()\n",
    "    cur.execute('SELECT * FROM cities')\n",
    "    rows = cur.fetchall()\n",
    "    \n",
    "    cols = [desc[0] for desc in cur.description]\n",
    "    cities_df = pd.DataFrame(rows, columns=cols)\n",
    "cities_df"
   ]
  },
  {
   "cell_type": "markdown",
   "metadata": {},
   "source": [
    "#### PERFECT! Just what we wanted. We were able to pull the data, put it in a pandas dataframe, and update the column names, all in one step!"
   ]
  },
  {
   "cell_type": "code",
   "execution_count": 43,
   "metadata": {
    "collapsed": false
   },
   "outputs": [
    {
     "data": {
      "text/html": [
       "<div>\n",
       "<table border=\"1\" class=\"dataframe\">\n",
       "  <thead>\n",
       "    <tr style=\"text-align: right;\">\n",
       "      <th></th>\n",
       "      <th>city</th>\n",
       "      <th>year</th>\n",
       "      <th>warm_month</th>\n",
       "      <th>cold_month</th>\n",
       "      <th>average_high</th>\n",
       "    </tr>\n",
       "  </thead>\n",
       "  <tbody>\n",
       "    <tr>\n",
       "      <th>0</th>\n",
       "      <td>New York City</td>\n",
       "      <td>2013</td>\n",
       "      <td>July</td>\n",
       "      <td>January</td>\n",
       "      <td>62</td>\n",
       "    </tr>\n",
       "    <tr>\n",
       "      <th>1</th>\n",
       "      <td>Boston</td>\n",
       "      <td>2013</td>\n",
       "      <td>July</td>\n",
       "      <td>January</td>\n",
       "      <td>59</td>\n",
       "    </tr>\n",
       "    <tr>\n",
       "      <th>2</th>\n",
       "      <td>Chicago</td>\n",
       "      <td>2013</td>\n",
       "      <td>July</td>\n",
       "      <td>January</td>\n",
       "      <td>59</td>\n",
       "    </tr>\n",
       "    <tr>\n",
       "      <th>3</th>\n",
       "      <td>Miami</td>\n",
       "      <td>2013</td>\n",
       "      <td>August</td>\n",
       "      <td>January</td>\n",
       "      <td>84</td>\n",
       "    </tr>\n",
       "    <tr>\n",
       "      <th>4</th>\n",
       "      <td>Dallas</td>\n",
       "      <td>2013</td>\n",
       "      <td>August</td>\n",
       "      <td>January</td>\n",
       "      <td>77</td>\n",
       "    </tr>\n",
       "    <tr>\n",
       "      <th>5</th>\n",
       "      <td>Seattle</td>\n",
       "      <td>2013</td>\n",
       "      <td>July</td>\n",
       "      <td>January</td>\n",
       "      <td>61</td>\n",
       "    </tr>\n",
       "    <tr>\n",
       "      <th>6</th>\n",
       "      <td>Portland</td>\n",
       "      <td>2013</td>\n",
       "      <td>July</td>\n",
       "      <td>December</td>\n",
       "      <td>63</td>\n",
       "    </tr>\n",
       "    <tr>\n",
       "      <th>7</th>\n",
       "      <td>San Francisco</td>\n",
       "      <td>2013</td>\n",
       "      <td>September</td>\n",
       "      <td>December</td>\n",
       "      <td>64</td>\n",
       "    </tr>\n",
       "    <tr>\n",
       "      <th>8</th>\n",
       "      <td>Los Angeles</td>\n",
       "      <td>2013</td>\n",
       "      <td>September</td>\n",
       "      <td>December</td>\n",
       "      <td>75</td>\n",
       "    </tr>\n",
       "    <tr>\n",
       "      <th>9</th>\n",
       "      <td>Las Vegas</td>\n",
       "      <td>2013</td>\n",
       "      <td>July</td>\n",
       "      <td>December</td>\n",
       "      <td>80</td>\n",
       "    </tr>\n",
       "    <tr>\n",
       "      <th>10</th>\n",
       "      <td>Atlanta</td>\n",
       "      <td>2013</td>\n",
       "      <td>July</td>\n",
       "      <td>January</td>\n",
       "      <td>90</td>\n",
       "    </tr>\n",
       "  </tbody>\n",
       "</table>\n",
       "</div>"
      ],
      "text/plain": [
       "             city  year warm_month cold_month  average_high\n",
       "0   New York City  2013       July    January            62\n",
       "1          Boston  2013       July    January            59\n",
       "2         Chicago  2013       July    January            59\n",
       "3           Miami  2013     August    January            84\n",
       "4          Dallas  2013     August    January            77\n",
       "5         Seattle  2013       July    January            61\n",
       "6        Portland  2013       July   December            63\n",
       "7   San Francisco  2013  September   December            64\n",
       "8     Los Angeles  2013  September   December            75\n",
       "9       Las Vegas  2013       July   December            80\n",
       "10        Atlanta  2013       July    January            90"
      ]
     },
     "execution_count": 43,
     "metadata": {},
     "output_type": "execute_result"
    }
   ],
   "source": [
    "import sqlite3 as lite\n",
    "con = lite.connect('/Users/ChessTastic/dropbox/github/thinkful/unit1/sqlite3/getting_started.db')\n",
    "with con:\n",
    "    cur = con.cursor()\n",
    "    cur.execute('SELECT * FROM weather')\n",
    "    rows = cur.fetchall()\n",
    "    \n",
    "    cols = [desc[0] for desc in cur.description]\n",
    "    weather_df = pd.DataFrame(rows, columns=cols)\n",
    "weather_df"
   ]
  },
  {
   "cell_type": "markdown",
   "metadata": {},
   "source": [
    "# Joining and Filtering Data in SQLite"
   ]
  },
  {
   "cell_type": "code",
   "execution_count": 37,
   "metadata": {
    "collapsed": false
   },
   "outputs": [
    {
     "data": {
      "text/plain": [
       "'3.8.4.1'"
      ]
     },
     "execution_count": 37,
     "metadata": {},
     "output_type": "execute_result"
    }
   ],
   "source": [
    "lite.sqlite_version"
   ]
  },
  {
   "cell_type": "code",
   "execution_count": 47,
   "metadata": {
    "collapsed": false
   },
   "outputs": [
    {
     "data": {
      "text/html": [
       "<div>\n",
       "<table border=\"1\" class=\"dataframe\">\n",
       "  <thead>\n",
       "    <tr style=\"text-align: right;\">\n",
       "      <th></th>\n",
       "      <th>name</th>\n",
       "      <th>state</th>\n",
       "      <th>year</th>\n",
       "      <th>warm_month</th>\n",
       "      <th>cold_month</th>\n",
       "    </tr>\n",
       "  </thead>\n",
       "  <tbody>\n",
       "    <tr>\n",
       "      <th>0</th>\n",
       "      <td>New York City</td>\n",
       "      <td>NY</td>\n",
       "      <td>2013</td>\n",
       "      <td>July</td>\n",
       "      <td>January</td>\n",
       "    </tr>\n",
       "    <tr>\n",
       "      <th>1</th>\n",
       "      <td>Boston</td>\n",
       "      <td>MA</td>\n",
       "      <td>2013</td>\n",
       "      <td>July</td>\n",
       "      <td>January</td>\n",
       "    </tr>\n",
       "    <tr>\n",
       "      <th>2</th>\n",
       "      <td>Chicago</td>\n",
       "      <td>IL</td>\n",
       "      <td>2013</td>\n",
       "      <td>July</td>\n",
       "      <td>January</td>\n",
       "    </tr>\n",
       "    <tr>\n",
       "      <th>3</th>\n",
       "      <td>Miami</td>\n",
       "      <td>FL</td>\n",
       "      <td>2013</td>\n",
       "      <td>August</td>\n",
       "      <td>January</td>\n",
       "    </tr>\n",
       "    <tr>\n",
       "      <th>4</th>\n",
       "      <td>Dallas</td>\n",
       "      <td>TX</td>\n",
       "      <td>2013</td>\n",
       "      <td>August</td>\n",
       "      <td>January</td>\n",
       "    </tr>\n",
       "    <tr>\n",
       "      <th>5</th>\n",
       "      <td>Seattle</td>\n",
       "      <td>WA</td>\n",
       "      <td>2013</td>\n",
       "      <td>July</td>\n",
       "      <td>January</td>\n",
       "    </tr>\n",
       "    <tr>\n",
       "      <th>6</th>\n",
       "      <td>Portland</td>\n",
       "      <td>OR</td>\n",
       "      <td>2013</td>\n",
       "      <td>July</td>\n",
       "      <td>December</td>\n",
       "    </tr>\n",
       "    <tr>\n",
       "      <th>7</th>\n",
       "      <td>San Francisco</td>\n",
       "      <td>CA</td>\n",
       "      <td>2013</td>\n",
       "      <td>September</td>\n",
       "      <td>December</td>\n",
       "    </tr>\n",
       "    <tr>\n",
       "      <th>8</th>\n",
       "      <td>Los Angeles</td>\n",
       "      <td>CA</td>\n",
       "      <td>2013</td>\n",
       "      <td>September</td>\n",
       "      <td>December</td>\n",
       "    </tr>\n",
       "    <tr>\n",
       "      <th>9</th>\n",
       "      <td>Las Vegas</td>\n",
       "      <td>NV</td>\n",
       "      <td>2013</td>\n",
       "      <td>July</td>\n",
       "      <td>December</td>\n",
       "    </tr>\n",
       "    <tr>\n",
       "      <th>10</th>\n",
       "      <td>Atlanta</td>\n",
       "      <td>GA</td>\n",
       "      <td>2013</td>\n",
       "      <td>July</td>\n",
       "      <td>January</td>\n",
       "    </tr>\n",
       "  </tbody>\n",
       "</table>\n",
       "</div>"
      ],
      "text/plain": [
       "             name state  year warm_month cold_month\n",
       "0   New York City    NY  2013       July    January\n",
       "1          Boston    MA  2013       July    January\n",
       "2         Chicago    IL  2013       July    January\n",
       "3           Miami    FL  2013     August    January\n",
       "4          Dallas    TX  2013     August    January\n",
       "5         Seattle    WA  2013       July    January\n",
       "6        Portland    OR  2013       July   December\n",
       "7   San Francisco    CA  2013  September   December\n",
       "8     Los Angeles    CA  2013  September   December\n",
       "9       Las Vegas    NV  2013       July   December\n",
       "10        Atlanta    GA  2013       July    January"
      ]
     },
     "execution_count": 47,
     "metadata": {},
     "output_type": "execute_result"
    }
   ],
   "source": [
    "import sqlite3 as lite\n",
    "import pandas as pd\n",
    "con = lite.connect('/Users/ChessTastic/dropbox/github/thinkful/unit1/sqlite3/getting_started.db')\n",
    "with con:\n",
    "    cur = con.cursor()\n",
    "    cur.execute('SELECT name, state, year, warm_month, cold_month \\\n",
    "                 FROM cities\\\n",
    "                 INNER JOIN weather\\\n",
    "                     ON name = city;')\n",
    "    rows = cur.fetchall()\n",
    "    cols = [desc[0] for desc in cur.description]\n",
    "    cities_weather_df = pd.DataFrame(rows, columns=cols)\n",
    "cities_weather_df"
   ]
  },
  {
   "cell_type": "code",
   "execution_count": 10,
   "metadata": {
    "collapsed": false
   },
   "outputs": [
    {
     "name": "stdout",
     "output_type": "stream",
     "text": [
      "1\n",
      "2\n",
      "fizz\n",
      "3\n",
      "4\n",
      "buzz\n",
      "5\n",
      "fizz\n",
      "6\n",
      "7\n",
      "8\n",
      "fizz\n",
      "9\n",
      "buzz\n",
      "10\n",
      "11\n",
      "fizz\n",
      "12\n",
      "13\n",
      "14\n",
      "fizz\n",
      "buzz\n",
      "fizzbuzz\n",
      "16\n",
      "17\n",
      "fizz\n",
      "18\n",
      "19\n",
      "buzz\n",
      "20\n",
      "fizz\n",
      "21\n",
      "22\n",
      "23\n",
      "fizz\n",
      "24\n",
      "buzz\n",
      "25\n",
      "26\n",
      "fizz\n",
      "27\n",
      "28\n",
      "29\n",
      "fizz\n",
      "buzz\n",
      "fizzbuzz\n",
      "31\n",
      "32\n",
      "fizz\n",
      "33\n",
      "34\n",
      "buzz\n",
      "35\n",
      "fizz\n",
      "36\n",
      "37\n",
      "38\n",
      "fizz\n",
      "39\n",
      "buzz\n",
      "40\n",
      "41\n",
      "fizz\n",
      "42\n",
      "43\n",
      "44\n",
      "fizz\n",
      "buzz\n",
      "fizzbuzz\n",
      "46\n",
      "47\n",
      "fizz\n",
      "48\n",
      "49\n",
      "buzz\n",
      "50\n",
      "fizz\n",
      "51\n",
      "52\n",
      "53\n",
      "fizz\n",
      "54\n",
      "buzz\n",
      "55\n",
      "56\n",
      "fizz\n",
      "57\n",
      "58\n",
      "59\n",
      "fizz\n",
      "buzz\n",
      "fizzbuzz\n",
      "61\n",
      "62\n",
      "fizz\n",
      "63\n",
      "64\n",
      "buzz\n",
      "65\n",
      "fizz\n",
      "66\n",
      "67\n",
      "68\n",
      "fizz\n",
      "69\n",
      "buzz\n",
      "70\n",
      "71\n",
      "fizz\n",
      "72\n",
      "73\n",
      "74\n",
      "fizz\n",
      "buzz\n",
      "fizzbuzz\n",
      "76\n",
      "77\n",
      "fizz\n",
      "78\n",
      "79\n",
      "buzz\n",
      "80\n",
      "fizz\n",
      "81\n",
      "82\n",
      "83\n",
      "fizz\n",
      "84\n",
      "buzz\n",
      "85\n",
      "86\n",
      "fizz\n",
      "87\n",
      "88\n",
      "89\n",
      "fizz\n",
      "buzz\n",
      "fizzbuzz\n",
      "91\n",
      "92\n",
      "fizz\n",
      "93\n",
      "94\n",
      "buzz\n",
      "95\n",
      "fizz\n",
      "96\n",
      "97\n",
      "98\n",
      "fizz\n",
      "99\n",
      "buzz\n",
      "100\n"
     ]
    }
   ],
   "source": [
    "for i in range(1,101):\n",
    "    if i % 3 == 0:\n",
    "        print(\"fizz\")\n",
    "    if i % 5 == 0:\n",
    "        print(\"buzz\")\n",
    "    if i%3 == 0 and i%5 == 0:\n",
    "        print(\"fizzbuzz\")\n",
    "    else:\n",
    "        print(i)"
   ]
  },
  {
   "cell_type": "code",
   "execution_count": null,
   "metadata": {
    "collapsed": true
   },
   "outputs": [],
   "source": []
  }
 ],
 "metadata": {
  "kernelspec": {
   "display_name": "Python 3",
   "language": "python",
   "name": "python3"
  },
  "language_info": {
   "codemirror_mode": {
    "name": "ipython",
    "version": 3
   },
   "file_extension": ".py",
   "mimetype": "text/x-python",
   "name": "python",
   "nbconvert_exporter": "python",
   "pygments_lexer": "ipython3",
   "version": "3.4.3"
  }
 },
 "nbformat": 4,
 "nbformat_minor": 0
}
