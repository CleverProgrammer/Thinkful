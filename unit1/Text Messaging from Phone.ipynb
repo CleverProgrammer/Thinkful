{
 "cells": [
  {
   "cell_type": "code",
   "execution_count": 3,
   "metadata": {
    "collapsed": false
   },
   "outputs": [],
   "source": [
    "from twilio import rest"
   ]
  },
  {
   "cell_type": "code",
   "execution_count": 16,
   "metadata": {
    "collapsed": false
   },
   "outputs": [
    {
     "name": "stdout",
     "output_type": "stream",
     "text": [
      "SMf710cbd9ba8d4599b55d79382a0a208e\n"
     ]
    }
   ],
   "source": [
    "# Your Account Sid and Auth Token from twilio.com/user/account\n",
    "account_sid = \"AC22349ef1a076902f0312e4618de465b5\"\n",
    "auth_token  = \"7afa0932a5640830d861adc2bcca5a27\"\n",
    "client = rest.TwilioRestClient(account_sid, auth_token)\n",
    " \n",
    "message = client.messages.create(body=\"This is dope, son!;).\",\n",
    "    to=\"+12247257844\",    # Replace with your phone number\n",
    "    from_=\"+14155992671\") # Replace with your Twilio number\n",
    "print(message.sid)\n"
   ]
  },
  {
   "cell_type": "code",
   "execution_count": null,
   "metadata": {
    "collapsed": true
   },
   "outputs": [],
   "source": []
  }
 ],
 "metadata": {
  "kernelspec": {
   "display_name": "Python 3",
   "language": "python",
   "name": "python3"
  },
  "language_info": {
   "codemirror_mode": {
    "name": "ipython",
    "version": 3
   },
   "file_extension": ".py",
   "mimetype": "text/x-python",
   "name": "python",
   "nbconvert_exporter": "python",
   "pygments_lexer": "ipython3",
   "version": "3.4.3"
  }
 },
 "nbformat": 4,
 "nbformat_minor": 0
}
