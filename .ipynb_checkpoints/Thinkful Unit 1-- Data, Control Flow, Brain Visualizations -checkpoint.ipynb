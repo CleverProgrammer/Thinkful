{
 "cells": [
  {
   "cell_type": "markdown",
   "metadata": {},
   "source": [
    "# Easily Compare Data Types"
   ]
  },
  {
   "cell_type": "code",
   "execution_count": 1,
   "metadata": {
    "collapsed": false
   },
   "outputs": [
    {
     "name": "stdout",
     "output_type": "stream",
     "text": [
      "hello is NOT bool\n"
     ]
    }
   ],
   "source": [
    "def bool_or_not(t):\n",
    "    if type(t) == bool:\n",
    "        print(' %s is bool' %t)\n",
    "    else:\n",
    "        print('%s is NOT bool' %t)\n",
    "\n",
    "bool_or_not('hello')"
   ]
  },
  {
   "cell_type": "code",
   "execution_count": 5,
   "metadata": {
    "collapsed": true
   },
   "outputs": [],
   "source": [
    "from IPython.display import IFrame"
   ]
  },
  {
   "cell_type": "code",
   "execution_count": 13,
   "metadata": {
    "collapsed": false
   },
   "outputs": [
    {
     "data": {
      "text/html": [
       "\n",
       "        <iframe\n",
       "            width=\"853\"\n",
       "            height=\"480\"\n",
       "            src=\"https://coggle.it/diagram/VeAz8GonHq5Me0vE/fff7e54e53f32c8f42ad59c38bca7780c29072964e1179b594d769e53600c0d7\"\n",
       "            frameborder=\"0\"\n",
       "            allowfullscreen\n",
       "        ></iframe>\n",
       "        "
      ],
      "text/plain": [
       "<IPython.lib.display.IFrame at 0x10493d320>"
      ]
     },
     "execution_count": 13,
     "metadata": {},
     "output_type": "execute_result"
    }
   ],
   "source": [
    "IFrame('https://coggle.it/diagram/VeAz8GonHq5Me0vE/fff7e54e53f32c8f42ad59c38bca7780c29072964e1179b594d769e53600c0d7', width=853, height=480)"
   ]
  },
  {
   "cell_type": "code",
   "execution_count": 26,
   "metadata": {
    "collapsed": true
   },
   "outputs": [],
   "source": [
    "from IPython.display import Image"
   ]
  },
  {
   "cell_type": "code",
   "execution_count": 29,
   "metadata": {
    "collapsed": false
   },
   "outputs": [
    {
     "data": {
      "text/html": [
       "<img src=\"https://tf-curricula-prod.s3.amazonaws.com/curricula/b04b6f653b9d364d5612ac767527458a/DATA-001/v2/assets2/1.1.3_Get_To_Know_Pythons_Data_Types/Data_types_2.png\"/>"
      ],
      "text/plain": [
       "<IPython.core.display.Image object>"
      ]
     },
     "execution_count": 29,
     "metadata": {},
     "output_type": "execute_result"
    }
   ],
   "source": [
    "Image(url='https://tf-curricula-prod.s3.amazonaws.com/curricula/b04b6f653b9d364d5612ac767527458a/DATA-001/v2/assets2/1.1.3_Get_To_Know_Pythons_Data_Types/Data_types_2.png')"
   ]
  },
  {
   "cell_type": "markdown",
   "metadata": {},
   "source": [
    "# String Formatting"
   ]
  },
  {
   "cell_type": "markdown",
   "metadata": {},
   "source": [
    "<li>{}.format()\n",
    "<li>%s - represent literal\n",
    "<li>%d - represent digit"
   ]
  },
  {
   "cell_type": "code",
   "execution_count": 30,
   "metadata": {
    "collapsed": false
   },
   "outputs": [
    {
     "data": {
      "text/plain": [
       "'Yo what is up breh? I am just chilling'"
      ]
     },
     "execution_count": 30,
     "metadata": {},
     "output_type": "execute_result"
    }
   ],
   "source": [
    "\"{0} what is up {1}? I am just {2}\".format('Yo','breh',\n",
    "                                          'chilling')"
   ]
  },
  {
   "cell_type": "code",
   "execution_count": 45,
   "metadata": {
    "collapsed": false
   },
   "outputs": [
    {
     "name": "stdout",
     "output_type": "stream",
     "text": [
      "Reversed: [5, 4, 3, 2, 1]\n",
      "Deleted index 2: [1, 2, 4, 5]\n",
      "1 in li: True\n",
      "Stepping by 2: [0, 2, 4, 6, 8, 10, 12, 14, 16, 18]\n"
     ]
    }
   ],
   "source": [
    "x = [1,2,3,4,5]\n",
    "print( \"Reversed: %s\" %x[::-1])\n",
    "\n",
    "del x[2]\n",
    "print( \"Deleted index 2: %s\" %x)\n",
    "\n",
    "print (\"1 in li: %s\" %(1 in x))\n",
    "\n",
    "q = list(range(0,20,2))\n",
    "print (\"Stepping by 2: %s\" %(q))"
   ]
  },
  {
   "cell_type": "markdown",
   "metadata": {},
   "source": [
    "# Sets\n",
    "<li> &   -- Return similarities between sets\n",
    "<li> |   -- Return joint sets (set1 + set2)"
   ]
  },
  {
   "cell_type": "code",
   "execution_count": 46,
   "metadata": {
    "collapsed": false
   },
   "outputs": [
    {
     "data": {
      "text/plain": [
       "{1, 2, 3, 4, 5, 6, 7}"
      ]
     },
     "execution_count": 46,
     "metadata": {},
     "output_type": "execute_result"
    }
   ],
   "source": [
    "my_set = {1,2,2,3,4,5,6,7}\n",
    "my_set"
   ]
  },
  {
   "cell_type": "code",
   "execution_count": 47,
   "metadata": {
    "collapsed": false
   },
   "outputs": [
    {
     "data": {
      "text/plain": [
       "{6, 7, 8, 9, 10}"
      ]
     },
     "execution_count": 47,
     "metadata": {},
     "output_type": "execute_result"
    }
   ],
   "source": [
    "your_set = {6,7,8,9,10}\n",
    "your_set"
   ]
  },
  {
   "cell_type": "code",
   "execution_count": 48,
   "metadata": {
    "collapsed": false
   },
   "outputs": [
    {
     "data": {
      "text/plain": [
       "{6, 7}"
      ]
     },
     "execution_count": 48,
     "metadata": {},
     "output_type": "execute_result"
    }
   ],
   "source": [
    "# & command\n",
    "# Return similar values between sets\n",
    "my_set & your_set"
   ]
  },
  {
   "cell_type": "code",
   "execution_count": 49,
   "metadata": {
    "collapsed": false
   },
   "outputs": [
    {
     "data": {
      "text/plain": [
       "{1, 2, 3, 4, 5, 6, 7, 8, 9, 10}"
      ]
     },
     "execution_count": 49,
     "metadata": {},
     "output_type": "execute_result"
    }
   ],
   "source": [
    "# | return joint sets\n",
    "my_set | your_set"
   ]
  },
  {
   "cell_type": "code",
   "execution_count": 53,
   "metadata": {
    "collapsed": false
   },
   "outputs": [
    {
     "data": {
      "text/html": [
       "<img src=\"http://s29.postimg.org/86323s15j/Python_Data_Types.png\"/>"
      ],
      "text/plain": [
       "<IPython.core.display.Image object>"
      ]
     },
     "execution_count": 53,
     "metadata": {},
     "output_type": "execute_result"
    }
   ],
   "source": [
    "Image(url='http://s29.postimg.org/86323s15j/Python_Data_Types.png')"
   ]
  },
  {
   "cell_type": "code",
   "execution_count": 55,
   "metadata": {
    "collapsed": true
   },
   "outputs": [],
   "source": [
    "actors = {\n",
    "    \"Kyle MacLachlan\": \"Dale Cooper\",\n",
    "    \"Sheryl Lee\": \"Laura Palmer\",\n",
    "    \"Lara Flynn Boyle\": \"Donna Hayward\",\n",
    "    \"Sherilyn Fenn\" : \"Audrey Horne\"\n",
    "}"
   ]
  },
  {
   "cell_type": "code",
   "execution_count": 56,
   "metadata": {
    "collapsed": false
   },
   "outputs": [
    {
     "name": "stdout",
     "output_type": "stream",
     "text": [
      "Actor: Lara Flynn Boyle\n",
      "Role: Donna Hayward\n",
      "\n",
      "Actor: Sherilyn Fenn\n",
      "Role: Audrey Horne\n",
      "\n",
      "Actor: Kyle MacLachlan\n",
      "Role: Dale Cooper\n",
      "\n",
      "Actor: Sheryl Lee\n",
      "Role: Laura Palmer\n",
      "\n"
     ]
    }
   ],
   "source": [
    "for i in actors:\n",
    "    print (\"Actor: %s\" %i)\n",
    "    print (\"Role: %s\\n\" %actors[i])\n",
    "    \n",
    "# i will print the name of the actors\n",
    "# actors[i] will return the role of the actor."
   ]
  },
  {
   "cell_type": "markdown",
   "metadata": {},
   "source": [
    "**Use a while loop to solve the following problem: A slow, but determined, walker sets off from Leicester to cover the 102 miles to London at 2 miles per hour. Another walker sets off from London heading to Leicester going at 1 mile per hour. Where do they meet?**"
   ]
  },
  {
   "cell_type": "code",
   "execution_count": 61,
   "metadata": {
    "collapsed": false
   },
   "outputs": [
    {
     "name": "stdout",
     "output_type": "stream",
     "text": [
      "Leicester: 34\n",
      "London: 34\n",
      "They meet at: 34\n"
     ]
    }
   ],
   "source": [
    "Leicester = 102\n",
    "London = 0\n",
    "while London != Leicester:\n",
    "    Leicester -= 2\n",
    "    London += 1\n",
    "print (\"Leicester: %s\" %Leicester)\n",
    "print (\"London: %s\" %London)\n",
    "print (\"They meet at: %s\" %London)"
   ]
  },
  {
   "cell_type": "markdown",
   "metadata": {},
   "source": [
    "# Try Block Error Catching"
   ]
  },
  {
   "cell_type": "code",
   "execution_count": 66,
   "metadata": {
    "collapsed": false
   },
   "outputs": [
    {
     "name": "stdout",
     "output_type": "stream",
     "text": [
      "1\n"
     ]
    },
    {
     "ename": "ZeroDivisionError",
     "evalue": "division by zero",
     "output_type": "error",
     "traceback": [
      "\u001b[0;31m---------------------------------------------------------------------------\u001b[0m",
      "\u001b[0;31mZeroDivisionError\u001b[0m                         Traceback (most recent call last)",
      "\u001b[0;32m<ipython-input-66-5618efdf3e1d>\u001b[0m in \u001b[0;36m<module>\u001b[0;34m()\u001b[0m\n\u001b[1;32m      2\u001b[0m \u001b[0ma\u001b[0m \u001b[0;34m=\u001b[0m \u001b[0mint\u001b[0m\u001b[0;34m(\u001b[0m\u001b[0minput\u001b[0m\u001b[0;34m(\u001b[0m\u001b[0;34m)\u001b[0m\u001b[0;34m)\u001b[0m\u001b[0;34m\u001b[0m\u001b[0m\n\u001b[1;32m      3\u001b[0m \u001b[0mb\u001b[0m \u001b[0;34m=\u001b[0m \u001b[0;36m0\u001b[0m\u001b[0;34m\u001b[0m\u001b[0m\n\u001b[0;32m----> 4\u001b[0;31m \u001b[0ma\u001b[0m\u001b[0;34m/\u001b[0m\u001b[0mb\u001b[0m\u001b[0;34m\u001b[0m\u001b[0m\n\u001b[0m",
      "\u001b[0;31mZeroDivisionError\u001b[0m: division by zero"
     ]
    }
   ],
   "source": [
    "# Stupid Error-ful example\n",
    "a = int(input())\n",
    "b = 0\n",
    "a/b"
   ]
  },
  {
   "cell_type": "code",
   "execution_count": 65,
   "metadata": {
    "collapsed": false
   },
   "outputs": [
    {
     "name": "stdout",
     "output_type": "stream",
     "text": [
      "1\n",
      "Cannot divide by zero man. Come on.\n"
     ]
    }
   ],
   "source": [
    "# Better error example\n",
    "a = int(input())\n",
    "b = 0\n",
    "try:\n",
    "    a/b\n",
    "except ZeroDivisionError:\n",
    "    print(\"Cannot divide by zero man. Come on.\")"
   ]
  },
  {
   "cell_type": "code",
   "execution_count": 70,
   "metadata": {
    "collapsed": false
   },
   "outputs": [
    {
     "name": "stdout",
     "output_type": "stream",
     "text": [
      "Person does not exist\n"
     ]
    }
   ],
   "source": [
    "phone_book = {\n",
    "    \"Sarah Hughes\": \"01234 567890\",\n",
    "    \"Tim Taylor\": \"02345 678901\",\n",
    "    \"Sam Smith\":  \"03456 789012\"\n",
    "}\n",
    "\n",
    "try: phone_book['Jamie Theakston']\n",
    "except KeyError: print(\"Person does not exist\")"
   ]
  },
  {
   "cell_type": "markdown",
   "metadata": {},
   "source": [
    "### You can loop over dictionaries from the collections package keep running tallies. UNLIKE regular dictionaries"
   ]
  },
  {
   "cell_type": "code",
   "execution_count": 71,
   "metadata": {
    "collapsed": true
   },
   "outputs": [],
   "source": [
    "import collections"
   ]
  },
  {
   "cell_type": "code",
   "execution_count": 93,
   "metadata": {
    "collapsed": false
   },
   "outputs": [],
   "source": [
    "# Key is indexing by 1, Value is collecting number of\n",
    "# times a number is occurring.\n",
    "number_list = [1,1,2,2,2,2,3,3,4,4,5,5,5,5,5,5,6,7,8,8,8,8,9,9,9,9]\n",
    "count_dict = collections.defaultdict(int)\n",
    "for i in number_list:\n",
    "    count_dict[i] += 1"
   ]
  },
  {
   "cell_type": "code",
   "execution_count": 94,
   "metadata": {
    "collapsed": false
   },
   "outputs": [
    {
     "data": {
      "text/plain": [
       "defaultdict(<class 'int'>, {1: 1, 2: 4, 3: 2, 4: 2, 5: 6, 'st': 2, 7: 1, 8: 4, 9: 4, 6: 1})"
      ]
     },
     "execution_count": 94,
     "metadata": {},
     "output_type": "execute_result"
    }
   ],
   "source": [
    "count_dict"
   ]
  },
  {
   "cell_type": "markdown",
   "metadata": {},
   "source": [
    "<li> You can also simply use the function Counter below on collections to populate the dictionaries as well.\n",
    "<li>count_dict **==** new (because dictionary order does not matter)"
   ]
  },
  {
   "cell_type": "code",
   "execution_count": 87,
   "metadata": {
    "collapsed": false
   },
   "outputs": [
    {
     "data": {
      "text/plain": [
       "Counter({5: 6, 2: 4, 8: 4, 9: 4, 1: 2, 3: 2, 4: 2, 6: 1, 7: 1})"
      ]
     },
     "execution_count": 87,
     "metadata": {},
     "output_type": "execute_result"
    }
   ],
   "source": [
    "new = collections.Counter(number_list)\n",
    "new"
   ]
  },
  {
   "cell_type": "markdown",
   "metadata": {},
   "source": [
    "> [if `i` wasn't a key in the dictionary, Python created the key and set the value to 1. If the key was already in the dictionary, Python added 1 to the value.](https://courses.thinkful.com/data-001v2/assignment/1.1.4)"
   ]
  },
  {
   "cell_type": "code",
   "execution_count": 98,
   "metadata": {
    "collapsed": false
   },
   "outputs": [],
   "source": [
    "# Dictionary Tally\n",
    "tallies = ['rafeh','rafeh','qazi','sql','sql','sql']\n",
    "counting_dict = collections.defaultdict(int)\n",
    "#(int) is defining the VALUE type.\n",
    "for i in tallies:\n",
    "    # i == keys\n",
    "    # manipulate values --> counting_dict[i]\n",
    "    counting_dict[i] += 1\n"
   ]
  },
  {
   "cell_type": "code",
   "execution_count": 99,
   "metadata": {
    "collapsed": false
   },
   "outputs": [
    {
     "data": {
      "text/plain": [
       "defaultdict(<class 'int'>, {'rafeh': 2, 'qazi': 1, 'sql': 3})"
      ]
     },
     "execution_count": 99,
     "metadata": {},
     "output_type": "execute_result"
    }
   ],
   "source": [
    "counting_dict"
   ]
  },
  {
   "cell_type": "code",
   "execution_count": 101,
   "metadata": {
    "collapsed": false
   },
   "outputs": [
    {
     "data": {
      "text/plain": [
       "Counter({'sql': 3, 'rafeh': 2, 'qazi': 1})"
      ]
     },
     "execution_count": 101,
     "metadata": {},
     "output_type": "execute_result"
    }
   ],
   "source": [
    "better_counting_dict = collections.Counter(tallies)\n",
    "better_counting_dict"
   ]
  },
  {
   "cell_type": "markdown",
   "metadata": {},
   "source": [
    "** with open ('path/to/filename', 'rU') as inputFile **\n",
    "<li>'`with`' will call context manager which will help automatically close the file after indentations and processing.\n",
    "<li>'`rU`' will tell python to read from the the file. The 'U' stands for Universal Newlines, so it will appropriately handle for any platform Apple, Windows, or Linux.\n",
    "<li>`'w'` will be for writing the file in Python"
   ]
  },
  {
   "cell_type": "code",
   "execution_count": 121,
   "metadata": {
    "collapsed": false
   },
   "outputs": [
    {
     "name": "stdout",
     "output_type": "stream",
     "text": [
      "Continent,ElevationZone,UrbanRuralDesignation,Population1990,Population2000,Population2010,Population2100,LandArea\n",
      "\n",
      "Africa,Elevations > 20m or Non-Contiguous ,Rural,333302081,418265923,530184094,1249908321,23749644\n",
      "\n",
      "Africa,Elevations > 20m or Non-Contiguous ,Urban,157846329,210381843,266776037,504662423,204719\n",
      "\n",
      "Africa,Elevations Less Than or Equal To 10m ,Rural,18167003,22569516,28154645,76368900,172460\n",
      "\n",
      "Africa,Elevations Less Than or Equal To 10m ,Urban,22412955,28679117,36746774,94042536,13838\n",
      "\n",
      "Africa,Elevations Less Than or Equal To 12m ,Rural,20569411,25576481,31957186,85839163,202456\n",
      "\n",
      "Africa,Elevations Less Than or Equal To 12m ,Urban,25761403,32968917,42205337,105920405,16035\n",
      "\n",
      "Africa,Elevations Less Than or Equal To 1m,Rural,3052584,3891608,4785451,14152403,21939\n",
      "\n",
      "Africa,Elevations Less Than or Equal To 1m,Urban,4056678,4791461,5915752,21137853,2193\n",
      "\n",
      "Africa,Elevations Less Than or Equal To 20m ,Rural,27791636,34704704,43734340,118040942,342694\n",
      "\n",
      "Africa,Elevations Less Than or Equal To 20m ,Urban,37566072,47749797,60835348,145244129,23456\n",
      "\n",
      "Africa,Elevations Less Than or Equal To 3m,Rural,6178557,7763536,9586584,27430640,46301\n",
      "\n",
      "Africa,Elevations Less Than or Equal To 3m,Urban,7194770,8762218,11005850,34775942,4662\n",
      "\n",
      "Africa,Elevations Less Than or Equal To 5m,Rural,9969005,12408335,15403231,43327033,84084\n",
      "\n",
      "Africa,Elevations Less Than or Equal To 5m,Urban,11597788,14488902,18449258,53508839,7366\n",
      "\n",
      "Africa,Elevations Less Than or Equal To 7m,Rural,13595903,16884460,21018235,58101349,121581\n",
      "\n",
      "Africa,Elevations Less Than or Equal To 7m,Urban,16197359,20564492,26333878,71409170,10121\n",
      "\n",
      "Africa,Elevations Less Than or Equal To 9m,Rural,16858764,20937690,26100880,71204360,156291\n",
      "\n",
      "Africa,Elevations Less Than or Equal To 9m,Urban,20542430,26255213,33641605,87324590,12665\n",
      "\n",
      "Africa,Total National Population,Rural,361093713,452970623,573918429,1367949254,24092338\n",
      "\n",
      "Africa,Total National Population,Urban,195412402,258131640,327611385,649906552,228175\n",
      "\n",
      "Asia,Elevations > 20m or Non-Contiguous ,Rural,1680481883,1798416711,1974005089,2874557238,37883607\n",
      "\n",
      "Asia,Elevations > 20m or Non-Contiguous ,Urban,918668080,1175247232,1262609098,1764942637,1122788\n",
      "\n",
      "Asia,Elevations Less Than or Equal To 10m ,Rural,191278674,210541251,234663295,374695595,969683\n",
      "\n",
      "Asia,Elevations Less Than or Equal To 10m ,Urban,203398169,252379433,290492264,377327872,129278\n",
      "\n",
      "Asia,Elevations Less Than or Equal To 12m ,Rural,219960928,243052196,271741911,437367709,1128770\n",
      "\n",
      "Asia,Elevations Less Than or Equal To 12m ,Urban,233147526,289429187,333361953,434901291,149673\n",
      "\n",
      "Asia,Elevations Less Than or Equal To 1m,Rural,18459117,20808077,22164683,33476823,109974\n",
      "\n",
      "Asia,Elevations Less Than or Equal To 1m,Urban,15105001,19858184,21974625,27586527,12590\n",
      "\n",
      "Asia,Elevations Less Than or Equal To 20m ,Rural,299462435,331270619,371915099,603768417,1764932\n",
      "\n",
      "Asia,Elevations Less Than or Equal To 20m ,Urban,319318447,397909472,458321169,604216625,213823\n",
      "\n",
      "Asia,Elevations Less Than or Equal To 3m,Rural,48168060,53093971,57758563,85812360,266138\n",
      "\n",
      "Asia,Elevations Less Than or Equal To 3m,Urban,37555825,48341898,54512396,68677562,31423\n",
      "\n",
      "Asia,Elevations Less Than or Equal To 5m,Rural,96000422,104609114,114983028,175319939,478303\n",
      "\n",
      "Asia,Elevations Less Than or Equal To 5m,Urban,87109915,109542006,124916072,158748008,62383\n",
      "\n",
      "Asia,Elevations Less Than or Equal To 7m,Rural,139082069,152030350,168232444,262405032,697177\n",
      "\n",
      "Asia,Elevations Less Than or Equal To 7m,Urban,141792154,176453451,202546292,260137398,92410\n",
      "\n",
      "Asia,Elevations Less Than or Equal To 9m,Rural,175412216,192696616,214358663,340006165,886176\n",
      "\n",
      "Asia,Elevations Less Than or Equal To 9m,Urban,185617116,230392535,264967068,343068584,118075\n",
      "\n",
      "Asia,Total National Population,Rural,1979944334,2129687281,2345920129,3478325610,39648539\n",
      "\n",
      "Asia,Total National Population,Urban,1237986520,1573156714,1720930281,2369159274,1336611\n",
      "\n",
      "Oceania,Elevations > 20m or Non-Contiguous ,Rural,8427284,10127646,12434027,18743701,8174117\n",
      "\n",
      "Oceania,Elevations Less Than or Equal To 10m ,Rural,636248,747250,871503,1012881,126545\n",
      "\n",
      "Oceania,Elevations Less Than or Equal To 12m ,Rural,762204,897802,1051538,1218603,155196\n",
      "\n",
      "Oceania,Elevations Less Than or Equal To 1m,Rural,99919,115905,134633,128828,9146\n",
      "\n",
      "Oceania,Elevations Less Than or Equal To 20m ,Rural,1134007,1343603,1590022,1937585,267534\n",
      "\n",
      "Oceania,Elevations Less Than or Equal To 3m,Rural,164304,191743,222130,233985,22561\n",
      "\n",
      "Oceania,Elevations Less Than or Equal To 5m,Rural,287793,335546,388501,434716,51897\n",
      "\n",
      "Oceania,Elevations Less Than or Equal To 7m,Rural,428625,500441,580295,662121,83533\n",
      "\n",
      "Oceania,Elevations Less Than or Equal To 9m,Rural,568706,666939,776354,900481,110497\n",
      "\n",
      "Oceania,Total National Population,Rural,9561292,11471250,14024049,20681609,8441651\n",
      "\n",
      "Oceania,Elevations > 20m or Non-Contiguous ,Urban,12547162,14195786,16912718,18658175,39148\n",
      "\n",
      "Oceania,Elevations Less Than or Equal To 10m ,Urban,2200753,2532995,3003692,3293517,5852\n",
      "\n",
      "Oceania,Elevations Less Than or Equal To 12m ,Urban,2729119,3136967,3721347,4023841,7139\n",
      "\n",
      "Oceania,Elevations Less Than or Equal To 1m,Urban,92528,105767,125631,136478,227\n",
      "\n",
      "Oceania,Elevations Less Than or Equal To 20m ,Urban,4589488,5255982,6240084,6566734,11449\n",
      "\n",
      "Oceania,Elevations Less Than or Equal To 3m,Urban,310744,361508,430433,499388,881\n",
      "\n",
      "Oceania,Elevations Less Than or Equal To 5m,Urban,752050,874001,1038190,1179988,2222\n",
      "\n",
      "Oceania,Elevations Less Than or Equal To 7m,Urban,1342907,1552001,1841419,2048884,3708\n",
      "\n",
      "Oceania,Elevations Less Than or Equal To 9m,Urban,1945861,2240098,2656137,2937199,5173\n",
      "\n",
      "Oceania,Total National Population,Urban,17136649,19451769,23152802,25224909,50597\n",
      "\n",
      "Europe,Elevations > 20m or Non-Contiguous ,Rural,163359246,162706798,208303075,113649857,4627707\n",
      "\n",
      "Europe,Elevations > 20m or Non-Contiguous ,Urban,309270561,316003549,418732932,265691431,548471\n",
      "\n",
      "Europe,Elevations Less Than or Equal To 10m ,Rural,8921599,9344934,10191711,8029402,129830\n",
      "\n",
      "Europe,Elevations Less Than or Equal To 10m ,Urban,33776617,34884603,39019817,32965986,50897\n",
      "\n",
      "Europe,Elevations Less Than or Equal To 12m ,Rural,9812906,10282757,11223256,8779223,146041\n",
      "\n",
      "Europe,Elevations Less Than or Equal To 12m ,Urban,38167942,39417882,44201162,37110048,57906\n",
      "\n",
      "Europe,Elevations Less Than or Equal To 1m,Rural,3742831,3912040,4227031,3236008,50401\n",
      "\n",
      "Europe,Elevations Less Than or Equal To 1m,Urban,9954478,10380836,11579113,9648341,15628\n",
      "\n",
      "Europe,Elevations Less Than or Equal To 20m ,Rural,13208952,13851590,15226199,11697732,212558\n",
      "\n",
      "Europe,Elevations Less Than or Equal To 20m ,Urban,53512695,55319289,62521646,51814850,84008\n",
      "\n",
      "Europe,Elevations Less Than or Equal To 3m,Rural,5224425,5463529,5929681,4744031,72134\n",
      "\n",
      "Europe,Elevations Less Than or Equal To 3m,Urban,16234092,16801906,18647708,15853153,24784\n",
      "\n",
      "Europe,Elevations Less Than or Equal To 5m,Rural,6411169,6704539,7286949,5832084,89853\n",
      "\n",
      "Europe,Elevations Less Than or Equal To 5m,Urban,21755340,22473128,24902148,21290248,32735\n",
      "\n",
      "Europe,Elevations Less Than or Equal To 7m,Rural,7515264,7865709,8568306,6811908,106158\n",
      "\n",
      "Europe,Elevations Less Than or Equal To 7m,Urban,26861165,27736249,30779447,26298853,40204\n",
      "\n",
      "Europe,Elevations Less Than or Equal To 9m,Rural,8463637,8861773,9662812,7634002,121681\n",
      "\n",
      "Europe,Elevations Less Than or Equal To 9m,Urban,31613048,32647909,36469169,30887023,47442\n",
      "\n",
      "Europe,Total National Population,Rural,176568570,176558812,223529720,125348019,4840266\n",
      "\n",
      "Europe,Total National Population,Urban,362783257,371322835,481254575,317506277,632478\n",
      "\n",
      "North America,Elevations > 20m or Non-Contiguous ,Rural,113350248,128596426,128023212,255497778,19520575\n",
      "\n",
      "North America,Elevations > 20m or Non-Contiguous ,Urban,260535875,296757222,314603927,402225848,972417\n",
      "\n",
      "North America,Elevations Less Than or Equal To 10m ,Rural,4510499,5107953,4527895,8103077,536562\n",
      "\n",
      "North America,Elevations Less Than or Equal To 10m ,Urban,24575726,27509478,28219257,46670306,61651\n",
      "\n",
      "North America,Elevations Less Than or Equal To 12m ,Rural,5388410,6126378,5451414,9794501,605670\n",
      "\n",
      "North America,Elevations Less Than or Equal To 12m ,Urban,30668871,34389588,35375008,58139996,76003\n",
      "\n",
      "North America,Elevations Less Than or Equal To 1m,Rural,592705,666803,610997,1027386,171365\n",
      "\n",
      "North America,Elevations Less Than or Equal To 1m,Urban,1566679,1730214,1814077,2382101,5968\n",
      "\n",
      "North America,Elevations Less Than or Equal To 20m ,Rural,8380426,9640179,8701571,15548820,867403\n",
      "\n",
      "North America,Elevations Less Than or Equal To 20m ,Urban,47379912,52995004,54253029,83639047,115225\n",
      "\n",
      "North America,Elevations Less Than or Equal To 3m,Rural,1183749,1344383,1233602,2012079,252729\n",
      "\n",
      "North America,Elevations Less Than or Equal To 3m,Urban,4024295,4406582,4551369,6066943,12827\n",
      "\n",
      "North America,Elevations Less Than or Equal To 5m,Rural,2078406,2337609,2079421,3593976,341640\n",
      "\n",
      "North America,Elevations Less Than or Equal To 5m,Urban,7848219,8590398,8771636,11828205,22829\n",
      "\n",
      "North America,Elevations Less Than or Equal To 7m,Rural,3088571,3465549,3050583,5396471,425342\n",
      "\n",
      "North America,Elevations Less Than or Equal To 7m,Urban,13479682,14889220,15145037,21342474,36321\n",
      "\n",
      "North America,Elevations Less Than or Equal To 9m,Rural,4038490,4562798,4039761,7143160,499762\n",
      "\n",
      "North America,Elevations Less Than or Equal To 9m,Urban,20649659,23006285,23449955,38174996,51825\n",
      "\n",
      "North America,Total National Population,Rural,121730674,138236608,136724785,271046607,20387978\n",
      "\n",
      "North America,Total National Population,Urban,307915785,349752222,368856952,485864890,1087642\n",
      "\n",
      "South America,Elevations > 20m or Non-Contiguous ,Rural,105821441,119567258,131717443,223382699,15247746\n",
      "\n",
      "South America,Elevations > 20m or Non-Contiguous ,Urban,146797669,176550823,203339934,329625178,270241\n",
      "\n",
      "South America,Elevations Less Than or Equal To 10m ,Rural,3707829,4283574,4703764,8943181,228599\n",
      "\n",
      "South America,Elevations Less Than or Equal To 10m ,Urban,14465697,17036372,19621238,32574367,19343\n",
      "\n",
      "South America,Elevations Less Than or Equal To 12m ,Rural,4291797,4967927,5459057,10353931,266951\n",
      "\n",
      "South America,Elevations Less Than or Equal To 12m ,Urban,17264014,20333114,23397554,38844410,22783\n",
      "\n",
      "South America,Elevations Less Than or Equal To 1m,Rural,473008,561960,619126,1091701,20582\n",
      "\n",
      "South America,Elevations Less Than or Equal To 1m,Urban,709558,868060,1009758,1591369,1159\n",
      "\n",
      "South America,Elevations Less Than or Equal To 20m ,Rural,6529092,7584065,8338764,15819940,452502\n",
      "\n",
      "South America,Elevations Less Than or Equal To 20m ,Urban,27065733,31912544,36628423,59958936,34982\n",
      "\n",
      "South America,Elevations Less Than or Equal To 3m,Rural,943950,1106559,1214846,2218252,55898\n",
      "\n",
      "South America,Elevations Less Than or Equal To 3m,Urban,2117574,2538559,2938229,4406100,3758\n",
      "\n",
      "South America,Elevations Less Than or Equal To 5m,Rural,1804718,2093408,2291934,4244576,110866\n",
      "\n",
      "South America,Elevations Less Than or Equal To 5m,Urban,5101423,6089933,7038516,11400038,8354\n",
      "\n",
      "South America,Elevations Less Than or Equal To 7m,Rural,2680636,3089887,3387405,6416774,165073\n",
      "\n",
      "South America,Elevations Less Than or Equal To 7m,Urban,9357959,11074365,12771388,21107053,13236\n",
      "\n",
      "South America,Elevations Less Than or Equal To 9m,Rural,3373239,3888725,4267061,8057467,208002\n",
      "\n",
      "South America,Elevations Less Than or Equal To 9m,Urban,12822897,15110534,17402616,28930098,17430\n",
      "\n",
      "South America,Total National Population,Rural,112350531,127151325,140056209,239202641,15711683\n",
      "\n",
      "South America,Total National Population,Urban,173863402,208463363,239968353,389584115,306223\n",
      "\n"
     ]
    }
   ],
   "source": [
    "with open('dropbox/github/Thinkful/data/lecz-urban-rural-population-land-area-estimates_continent-90m.csv', 'rU') as inputFile:\n",
    "    for line in inputFile:\n",
    "        print(line)"
   ]
  },
  {
   "cell_type": "markdown",
   "metadata": {},
   "source": [
    ">At this point, the file cursor we created when we first opened the file is now at the end of the file. To get the file contents again, we'll need to repeat the open() command to reset the cursor. If we were to run the loop again, we'd get no output from the loop."
   ]
  },
  {
   "cell_type": "code",
   "execution_count": 127,
   "metadata": {
    "collapsed": false
   },
   "outputs": [
    {
     "name": "stdout",
     "output_type": "stream",
     "text": [
      "Africa,Elevations > 20m or Non-Contiguous ,Rural,333302081,418265923,530184094,1249908321,23749644\n",
      "\n",
      "Africa,Elevations > 20m or Non-Contiguous ,Urban,157846329,210381843,266776037,504662423,204719\n",
      "\n",
      "Africa,Elevations Less Than or Equal To 10m ,Rural,18167003,22569516,28154645,76368900,172460\n",
      "\n",
      "Africa,Elevations Less Than or Equal To 10m ,Urban,22412955,28679117,36746774,94042536,13838\n",
      "\n",
      "Africa,Elevations Less Than or Equal To 12m ,Rural,20569411,25576481,31957186,85839163,202456\n",
      "\n",
      "Africa,Elevations Less Than or Equal To 12m ,Urban,25761403,32968917,42205337,105920405,16035\n",
      "\n",
      "Africa,Elevations Less Than or Equal To 1m,Rural,3052584,3891608,4785451,14152403,21939\n",
      "\n",
      "Africa,Elevations Less Than or Equal To 1m,Urban,4056678,4791461,5915752,21137853,2193\n",
      "\n",
      "Africa,Elevations Less Than or Equal To 20m ,Rural,27791636,34704704,43734340,118040942,342694\n",
      "\n",
      "Africa,Elevations Less Than or Equal To 20m ,Urban,37566072,47749797,60835348,145244129,23456\n",
      "\n",
      "Africa,Elevations Less Than or Equal To 3m,Rural,6178557,7763536,9586584,27430640,46301\n",
      "\n",
      "Africa,Elevations Less Than or Equal To 3m,Urban,7194770,8762218,11005850,34775942,4662\n",
      "\n",
      "Africa,Elevations Less Than or Equal To 5m,Rural,9969005,12408335,15403231,43327033,84084\n",
      "\n",
      "Africa,Elevations Less Than or Equal To 5m,Urban,11597788,14488902,18449258,53508839,7366\n",
      "\n",
      "Africa,Elevations Less Than or Equal To 7m,Rural,13595903,16884460,21018235,58101349,121581\n",
      "\n",
      "Africa,Elevations Less Than or Equal To 7m,Urban,16197359,20564492,26333878,71409170,10121\n",
      "\n",
      "Africa,Elevations Less Than or Equal To 9m,Rural,16858764,20937690,26100880,71204360,156291\n",
      "\n",
      "Africa,Elevations Less Than or Equal To 9m,Urban,20542430,26255213,33641605,87324590,12665\n",
      "\n",
      "Africa,Total National Population,Rural,361093713,452970623,573918429,1367949254,24092338\n",
      "\n",
      "Africa,Total National Population,Urban,195412402,258131640,327611385,649906552,228175\n",
      "\n",
      "Asia,Elevations > 20m or Non-Contiguous ,Rural,1680481883,1798416711,1974005089,2874557238,37883607\n",
      "\n",
      "Asia,Elevations > 20m or Non-Contiguous ,Urban,918668080,1175247232,1262609098,1764942637,1122788\n",
      "\n",
      "Asia,Elevations Less Than or Equal To 10m ,Rural,191278674,210541251,234663295,374695595,969683\n",
      "\n",
      "Asia,Elevations Less Than or Equal To 10m ,Urban,203398169,252379433,290492264,377327872,129278\n",
      "\n",
      "Asia,Elevations Less Than or Equal To 12m ,Rural,219960928,243052196,271741911,437367709,1128770\n",
      "\n",
      "Asia,Elevations Less Than or Equal To 12m ,Urban,233147526,289429187,333361953,434901291,149673\n",
      "\n",
      "Asia,Elevations Less Than or Equal To 1m,Rural,18459117,20808077,22164683,33476823,109974\n",
      "\n",
      "Asia,Elevations Less Than or Equal To 1m,Urban,15105001,19858184,21974625,27586527,12590\n",
      "\n",
      "Asia,Elevations Less Than or Equal To 20m ,Rural,299462435,331270619,371915099,603768417,1764932\n",
      "\n",
      "Asia,Elevations Less Than or Equal To 20m ,Urban,319318447,397909472,458321169,604216625,213823\n",
      "\n",
      "Asia,Elevations Less Than or Equal To 3m,Rural,48168060,53093971,57758563,85812360,266138\n",
      "\n",
      "Asia,Elevations Less Than or Equal To 3m,Urban,37555825,48341898,54512396,68677562,31423\n",
      "\n",
      "Asia,Elevations Less Than or Equal To 5m,Rural,96000422,104609114,114983028,175319939,478303\n",
      "\n",
      "Asia,Elevations Less Than or Equal To 5m,Urban,87109915,109542006,124916072,158748008,62383\n",
      "\n",
      "Asia,Elevations Less Than or Equal To 7m,Rural,139082069,152030350,168232444,262405032,697177\n",
      "\n",
      "Asia,Elevations Less Than or Equal To 7m,Urban,141792154,176453451,202546292,260137398,92410\n",
      "\n",
      "Asia,Elevations Less Than or Equal To 9m,Rural,175412216,192696616,214358663,340006165,886176\n",
      "\n",
      "Asia,Elevations Less Than or Equal To 9m,Urban,185617116,230392535,264967068,343068584,118075\n",
      "\n",
      "Asia,Total National Population,Rural,1979944334,2129687281,2345920129,3478325610,39648539\n",
      "\n",
      "Asia,Total National Population,Urban,1237986520,1573156714,1720930281,2369159274,1336611\n",
      "\n",
      "Oceania,Elevations > 20m or Non-Contiguous ,Rural,8427284,10127646,12434027,18743701,8174117\n",
      "\n",
      "Oceania,Elevations Less Than or Equal To 10m ,Rural,636248,747250,871503,1012881,126545\n",
      "\n",
      "Oceania,Elevations Less Than or Equal To 12m ,Rural,762204,897802,1051538,1218603,155196\n",
      "\n",
      "Oceania,Elevations Less Than or Equal To 1m,Rural,99919,115905,134633,128828,9146\n",
      "\n",
      "Oceania,Elevations Less Than or Equal To 20m ,Rural,1134007,1343603,1590022,1937585,267534\n",
      "\n",
      "Oceania,Elevations Less Than or Equal To 3m,Rural,164304,191743,222130,233985,22561\n",
      "\n",
      "Oceania,Elevations Less Than or Equal To 5m,Rural,287793,335546,388501,434716,51897\n",
      "\n",
      "Oceania,Elevations Less Than or Equal To 7m,Rural,428625,500441,580295,662121,83533\n",
      "\n",
      "Oceania,Elevations Less Than or Equal To 9m,Rural,568706,666939,776354,900481,110497\n",
      "\n",
      "Oceania,Total National Population,Rural,9561292,11471250,14024049,20681609,8441651\n",
      "\n",
      "Oceania,Elevations > 20m or Non-Contiguous ,Urban,12547162,14195786,16912718,18658175,39148\n",
      "\n",
      "Oceania,Elevations Less Than or Equal To 10m ,Urban,2200753,2532995,3003692,3293517,5852\n",
      "\n",
      "Oceania,Elevations Less Than or Equal To 12m ,Urban,2729119,3136967,3721347,4023841,7139\n",
      "\n",
      "Oceania,Elevations Less Than or Equal To 1m,Urban,92528,105767,125631,136478,227\n",
      "\n",
      "Oceania,Elevations Less Than or Equal To 20m ,Urban,4589488,5255982,6240084,6566734,11449\n",
      "\n",
      "Oceania,Elevations Less Than or Equal To 3m,Urban,310744,361508,430433,499388,881\n",
      "\n",
      "Oceania,Elevations Less Than or Equal To 5m,Urban,752050,874001,1038190,1179988,2222\n",
      "\n",
      "Oceania,Elevations Less Than or Equal To 7m,Urban,1342907,1552001,1841419,2048884,3708\n",
      "\n",
      "Oceania,Elevations Less Than or Equal To 9m,Urban,1945861,2240098,2656137,2937199,5173\n",
      "\n",
      "Oceania,Total National Population,Urban,17136649,19451769,23152802,25224909,50597\n",
      "\n",
      "Europe,Elevations > 20m or Non-Contiguous ,Rural,163359246,162706798,208303075,113649857,4627707\n",
      "\n",
      "Europe,Elevations > 20m or Non-Contiguous ,Urban,309270561,316003549,418732932,265691431,548471\n",
      "\n",
      "Europe,Elevations Less Than or Equal To 10m ,Rural,8921599,9344934,10191711,8029402,129830\n",
      "\n",
      "Europe,Elevations Less Than or Equal To 10m ,Urban,33776617,34884603,39019817,32965986,50897\n",
      "\n",
      "Europe,Elevations Less Than or Equal To 12m ,Rural,9812906,10282757,11223256,8779223,146041\n",
      "\n",
      "Europe,Elevations Less Than or Equal To 12m ,Urban,38167942,39417882,44201162,37110048,57906\n",
      "\n",
      "Europe,Elevations Less Than or Equal To 1m,Rural,3742831,3912040,4227031,3236008,50401\n",
      "\n",
      "Europe,Elevations Less Than or Equal To 1m,Urban,9954478,10380836,11579113,9648341,15628\n",
      "\n",
      "Europe,Elevations Less Than or Equal To 20m ,Rural,13208952,13851590,15226199,11697732,212558\n",
      "\n",
      "Europe,Elevations Less Than or Equal To 20m ,Urban,53512695,55319289,62521646,51814850,84008\n",
      "\n",
      "Europe,Elevations Less Than or Equal To 3m,Rural,5224425,5463529,5929681,4744031,72134\n",
      "\n",
      "Europe,Elevations Less Than or Equal To 3m,Urban,16234092,16801906,18647708,15853153,24784\n",
      "\n",
      "Europe,Elevations Less Than or Equal To 5m,Rural,6411169,6704539,7286949,5832084,89853\n",
      "\n",
      "Europe,Elevations Less Than or Equal To 5m,Urban,21755340,22473128,24902148,21290248,32735\n",
      "\n",
      "Europe,Elevations Less Than or Equal To 7m,Rural,7515264,7865709,8568306,6811908,106158\n",
      "\n",
      "Europe,Elevations Less Than or Equal To 7m,Urban,26861165,27736249,30779447,26298853,40204\n",
      "\n",
      "Europe,Elevations Less Than or Equal To 9m,Rural,8463637,8861773,9662812,7634002,121681\n",
      "\n",
      "Europe,Elevations Less Than or Equal To 9m,Urban,31613048,32647909,36469169,30887023,47442\n",
      "\n",
      "Europe,Total National Population,Rural,176568570,176558812,223529720,125348019,4840266\n",
      "\n",
      "Europe,Total National Population,Urban,362783257,371322835,481254575,317506277,632478\n",
      "\n",
      "North America,Elevations > 20m or Non-Contiguous ,Rural,113350248,128596426,128023212,255497778,19520575\n",
      "\n",
      "North America,Elevations > 20m or Non-Contiguous ,Urban,260535875,296757222,314603927,402225848,972417\n",
      "\n",
      "North America,Elevations Less Than or Equal To 10m ,Rural,4510499,5107953,4527895,8103077,536562\n",
      "\n",
      "North America,Elevations Less Than or Equal To 10m ,Urban,24575726,27509478,28219257,46670306,61651\n",
      "\n",
      "North America,Elevations Less Than or Equal To 12m ,Rural,5388410,6126378,5451414,9794501,605670\n",
      "\n",
      "North America,Elevations Less Than or Equal To 12m ,Urban,30668871,34389588,35375008,58139996,76003\n",
      "\n",
      "North America,Elevations Less Than or Equal To 1m,Rural,592705,666803,610997,1027386,171365\n",
      "\n",
      "North America,Elevations Less Than or Equal To 1m,Urban,1566679,1730214,1814077,2382101,5968\n",
      "\n",
      "North America,Elevations Less Than or Equal To 20m ,Rural,8380426,9640179,8701571,15548820,867403\n",
      "\n",
      "North America,Elevations Less Than or Equal To 20m ,Urban,47379912,52995004,54253029,83639047,115225\n",
      "\n",
      "North America,Elevations Less Than or Equal To 3m,Rural,1183749,1344383,1233602,2012079,252729\n",
      "\n",
      "North America,Elevations Less Than or Equal To 3m,Urban,4024295,4406582,4551369,6066943,12827\n",
      "\n",
      "North America,Elevations Less Than or Equal To 5m,Rural,2078406,2337609,2079421,3593976,341640\n",
      "\n",
      "North America,Elevations Less Than or Equal To 5m,Urban,7848219,8590398,8771636,11828205,22829\n",
      "\n",
      "North America,Elevations Less Than or Equal To 7m,Rural,3088571,3465549,3050583,5396471,425342\n",
      "\n",
      "North America,Elevations Less Than or Equal To 7m,Urban,13479682,14889220,15145037,21342474,36321\n",
      "\n",
      "North America,Elevations Less Than or Equal To 9m,Rural,4038490,4562798,4039761,7143160,499762\n",
      "\n",
      "North America,Elevations Less Than or Equal To 9m,Urban,20649659,23006285,23449955,38174996,51825\n",
      "\n",
      "North America,Total National Population,Rural,121730674,138236608,136724785,271046607,20387978\n",
      "\n",
      "North America,Total National Population,Urban,307915785,349752222,368856952,485864890,1087642\n",
      "\n",
      "South America,Elevations > 20m or Non-Contiguous ,Rural,105821441,119567258,131717443,223382699,15247746\n",
      "\n",
      "South America,Elevations > 20m or Non-Contiguous ,Urban,146797669,176550823,203339934,329625178,270241\n",
      "\n",
      "South America,Elevations Less Than or Equal To 10m ,Rural,3707829,4283574,4703764,8943181,228599\n",
      "\n",
      "South America,Elevations Less Than or Equal To 10m ,Urban,14465697,17036372,19621238,32574367,19343\n",
      "\n",
      "South America,Elevations Less Than or Equal To 12m ,Rural,4291797,4967927,5459057,10353931,266951\n",
      "\n",
      "South America,Elevations Less Than or Equal To 12m ,Urban,17264014,20333114,23397554,38844410,22783\n",
      "\n",
      "South America,Elevations Less Than or Equal To 1m,Rural,473008,561960,619126,1091701,20582\n",
      "\n",
      "South America,Elevations Less Than or Equal To 1m,Urban,709558,868060,1009758,1591369,1159\n",
      "\n",
      "South America,Elevations Less Than or Equal To 20m ,Rural,6529092,7584065,8338764,15819940,452502\n",
      "\n",
      "South America,Elevations Less Than or Equal To 20m ,Urban,27065733,31912544,36628423,59958936,34982\n",
      "\n",
      "South America,Elevations Less Than or Equal To 3m,Rural,943950,1106559,1214846,2218252,55898\n",
      "\n",
      "South America,Elevations Less Than or Equal To 3m,Urban,2117574,2538559,2938229,4406100,3758\n",
      "\n",
      "South America,Elevations Less Than or Equal To 5m,Rural,1804718,2093408,2291934,4244576,110866\n",
      "\n",
      "South America,Elevations Less Than or Equal To 5m,Urban,5101423,6089933,7038516,11400038,8354\n",
      "\n",
      "South America,Elevations Less Than or Equal To 7m,Rural,2680636,3089887,3387405,6416774,165073\n",
      "\n",
      "South America,Elevations Less Than or Equal To 7m,Urban,9357959,11074365,12771388,21107053,13236\n",
      "\n",
      "South America,Elevations Less Than or Equal To 9m,Rural,3373239,3888725,4267061,8057467,208002\n",
      "\n",
      "South America,Elevations Less Than or Equal To 9m,Urban,12822897,15110534,17402616,28930098,17430\n",
      "\n",
      "South America,Total National Population,Rural,112350531,127151325,140056209,239202641,15711683\n",
      "\n",
      "South America,Total National Population,Urban,173863402,208463363,239968353,389584115,306223\n",
      "\n"
     ]
    }
   ],
   "source": [
    "with open('dropbox/github/Thinkful/data/lecz-urban-rural-population-land-area-estimates_continent-90m.csv', 'rU') as inputFile:\n",
    "    header = next(inputFile) #iterates to the next value)\n",
    "    for line in inputFile:\n",
    "        print(line)"
   ]
  },
  {
   "cell_type": "markdown",
   "metadata": {},
   "source": [
    ">We add the rstrip() to remove any trailing or leading spaces. Notice that we use that first and then call split(). You also notice that line is now a list rather than a string. This means we can reference the elements using the index just like with the lists we worked with earlier."
   ]
  },
  {
   "cell_type": "code",
   "execution_count": 135,
   "metadata": {
    "collapsed": false
   },
   "outputs": [
    {
     "name": "stdout",
     "output_type": "stream",
     "text": [
      "['Africa', 'Elevations > 20m or Non-Contiguous ', 'Rural', '333302081', '418265923', '530184094', '1249908321', '23749644']\n",
      "['Africa', 'Elevations > 20m or Non-Contiguous ', 'Urban', '157846329', '210381843', '266776037', '504662423', '204719']\n",
      "['Africa', 'Elevations Less Than or Equal To 10m ', 'Rural', '18167003', '22569516', '28154645', '76368900', '172460']\n",
      "['Africa', 'Elevations Less Than or Equal To 10m ', 'Urban', '22412955', '28679117', '36746774', '94042536', '13838']\n",
      "['Africa', 'Elevations Less Than or Equal To 12m ', 'Rural', '20569411', '25576481', '31957186', '85839163', '202456']\n",
      "['Africa', 'Elevations Less Than or Equal To 12m ', 'Urban', '25761403', '32968917', '42205337', '105920405', '16035']\n",
      "['Africa', 'Elevations Less Than or Equal To 1m', 'Rural', '3052584', '3891608', '4785451', '14152403', '21939']\n",
      "['Africa', 'Elevations Less Than or Equal To 1m', 'Urban', '4056678', '4791461', '5915752', '21137853', '2193']\n",
      "['Africa', 'Elevations Less Than or Equal To 20m ', 'Rural', '27791636', '34704704', '43734340', '118040942', '342694']\n",
      "['Africa', 'Elevations Less Than or Equal To 20m ', 'Urban', '37566072', '47749797', '60835348', '145244129', '23456']\n",
      "['Africa', 'Elevations Less Than or Equal To 3m', 'Rural', '6178557', '7763536', '9586584', '27430640', '46301']\n",
      "['Africa', 'Elevations Less Than or Equal To 3m', 'Urban', '7194770', '8762218', '11005850', '34775942', '4662']\n",
      "['Africa', 'Elevations Less Than or Equal To 5m', 'Rural', '9969005', '12408335', '15403231', '43327033', '84084']\n",
      "['Africa', 'Elevations Less Than or Equal To 5m', 'Urban', '11597788', '14488902', '18449258', '53508839', '7366']\n",
      "['Africa', 'Elevations Less Than or Equal To 7m', 'Rural', '13595903', '16884460', '21018235', '58101349', '121581']\n",
      "['Africa', 'Elevations Less Than or Equal To 7m', 'Urban', '16197359', '20564492', '26333878', '71409170', '10121']\n",
      "['Africa', 'Elevations Less Than or Equal To 9m', 'Rural', '16858764', '20937690', '26100880', '71204360', '156291']\n",
      "['Africa', 'Elevations Less Than or Equal To 9m', 'Urban', '20542430', '26255213', '33641605', '87324590', '12665']\n",
      "['Africa', 'Total National Population', 'Rural', '361093713', '452970623', '573918429', '1367949254', '24092338']\n",
      "['Africa', 'Total National Population', 'Urban', '195412402', '258131640', '327611385', '649906552', '228175']\n",
      "['Asia', 'Elevations > 20m or Non-Contiguous ', 'Rural', '1680481883', '1798416711', '1974005089', '2874557238', '37883607']\n",
      "['Asia', 'Elevations > 20m or Non-Contiguous ', 'Urban', '918668080', '1175247232', '1262609098', '1764942637', '1122788']\n",
      "['Asia', 'Elevations Less Than or Equal To 10m ', 'Rural', '191278674', '210541251', '234663295', '374695595', '969683']\n",
      "['Asia', 'Elevations Less Than or Equal To 10m ', 'Urban', '203398169', '252379433', '290492264', '377327872', '129278']\n",
      "['Asia', 'Elevations Less Than or Equal To 12m ', 'Rural', '219960928', '243052196', '271741911', '437367709', '1128770']\n",
      "['Asia', 'Elevations Less Than or Equal To 12m ', 'Urban', '233147526', '289429187', '333361953', '434901291', '149673']\n",
      "['Asia', 'Elevations Less Than or Equal To 1m', 'Rural', '18459117', '20808077', '22164683', '33476823', '109974']\n",
      "['Asia', 'Elevations Less Than or Equal To 1m', 'Urban', '15105001', '19858184', '21974625', '27586527', '12590']\n",
      "['Asia', 'Elevations Less Than or Equal To 20m ', 'Rural', '299462435', '331270619', '371915099', '603768417', '1764932']\n",
      "['Asia', 'Elevations Less Than or Equal To 20m ', 'Urban', '319318447', '397909472', '458321169', '604216625', '213823']\n",
      "['Asia', 'Elevations Less Than or Equal To 3m', 'Rural', '48168060', '53093971', '57758563', '85812360', '266138']\n",
      "['Asia', 'Elevations Less Than or Equal To 3m', 'Urban', '37555825', '48341898', '54512396', '68677562', '31423']\n",
      "['Asia', 'Elevations Less Than or Equal To 5m', 'Rural', '96000422', '104609114', '114983028', '175319939', '478303']\n",
      "['Asia', 'Elevations Less Than or Equal To 5m', 'Urban', '87109915', '109542006', '124916072', '158748008', '62383']\n",
      "['Asia', 'Elevations Less Than or Equal To 7m', 'Rural', '139082069', '152030350', '168232444', '262405032', '697177']\n",
      "['Asia', 'Elevations Less Than or Equal To 7m', 'Urban', '141792154', '176453451', '202546292', '260137398', '92410']\n",
      "['Asia', 'Elevations Less Than or Equal To 9m', 'Rural', '175412216', '192696616', '214358663', '340006165', '886176']\n",
      "['Asia', 'Elevations Less Than or Equal To 9m', 'Urban', '185617116', '230392535', '264967068', '343068584', '118075']\n",
      "['Asia', 'Total National Population', 'Rural', '1979944334', '2129687281', '2345920129', '3478325610', '39648539']\n",
      "['Asia', 'Total National Population', 'Urban', '1237986520', '1573156714', '1720930281', '2369159274', '1336611']\n",
      "['Oceania', 'Elevations > 20m or Non-Contiguous ', 'Rural', '8427284', '10127646', '12434027', '18743701', '8174117']\n",
      "['Oceania', 'Elevations Less Than or Equal To 10m ', 'Rural', '636248', '747250', '871503', '1012881', '126545']\n",
      "['Oceania', 'Elevations Less Than or Equal To 12m ', 'Rural', '762204', '897802', '1051538', '1218603', '155196']\n",
      "['Oceania', 'Elevations Less Than or Equal To 1m', 'Rural', '99919', '115905', '134633', '128828', '9146']\n",
      "['Oceania', 'Elevations Less Than or Equal To 20m ', 'Rural', '1134007', '1343603', '1590022', '1937585', '267534']\n",
      "['Oceania', 'Elevations Less Than or Equal To 3m', 'Rural', '164304', '191743', '222130', '233985', '22561']\n",
      "['Oceania', 'Elevations Less Than or Equal To 5m', 'Rural', '287793', '335546', '388501', '434716', '51897']\n",
      "['Oceania', 'Elevations Less Than or Equal To 7m', 'Rural', '428625', '500441', '580295', '662121', '83533']\n",
      "['Oceania', 'Elevations Less Than or Equal To 9m', 'Rural', '568706', '666939', '776354', '900481', '110497']\n",
      "['Oceania', 'Total National Population', 'Rural', '9561292', '11471250', '14024049', '20681609', '8441651']\n",
      "['Oceania', 'Elevations > 20m or Non-Contiguous ', 'Urban', '12547162', '14195786', '16912718', '18658175', '39148']\n",
      "['Oceania', 'Elevations Less Than or Equal To 10m ', 'Urban', '2200753', '2532995', '3003692', '3293517', '5852']\n",
      "['Oceania', 'Elevations Less Than or Equal To 12m ', 'Urban', '2729119', '3136967', '3721347', '4023841', '7139']\n",
      "['Oceania', 'Elevations Less Than or Equal To 1m', 'Urban', '92528', '105767', '125631', '136478', '227']\n",
      "['Oceania', 'Elevations Less Than or Equal To 20m ', 'Urban', '4589488', '5255982', '6240084', '6566734', '11449']\n",
      "['Oceania', 'Elevations Less Than or Equal To 3m', 'Urban', '310744', '361508', '430433', '499388', '881']\n",
      "['Oceania', 'Elevations Less Than or Equal To 5m', 'Urban', '752050', '874001', '1038190', '1179988', '2222']\n",
      "['Oceania', 'Elevations Less Than or Equal To 7m', 'Urban', '1342907', '1552001', '1841419', '2048884', '3708']\n",
      "['Oceania', 'Elevations Less Than or Equal To 9m', 'Urban', '1945861', '2240098', '2656137', '2937199', '5173']\n",
      "['Oceania', 'Total National Population', 'Urban', '17136649', '19451769', '23152802', '25224909', '50597']\n",
      "['Europe', 'Elevations > 20m or Non-Contiguous ', 'Rural', '163359246', '162706798', '208303075', '113649857', '4627707']\n",
      "['Europe', 'Elevations > 20m or Non-Contiguous ', 'Urban', '309270561', '316003549', '418732932', '265691431', '548471']\n",
      "['Europe', 'Elevations Less Than or Equal To 10m ', 'Rural', '8921599', '9344934', '10191711', '8029402', '129830']\n",
      "['Europe', 'Elevations Less Than or Equal To 10m ', 'Urban', '33776617', '34884603', '39019817', '32965986', '50897']\n",
      "['Europe', 'Elevations Less Than or Equal To 12m ', 'Rural', '9812906', '10282757', '11223256', '8779223', '146041']\n",
      "['Europe', 'Elevations Less Than or Equal To 12m ', 'Urban', '38167942', '39417882', '44201162', '37110048', '57906']\n",
      "['Europe', 'Elevations Less Than or Equal To 1m', 'Rural', '3742831', '3912040', '4227031', '3236008', '50401']\n",
      "['Europe', 'Elevations Less Than or Equal To 1m', 'Urban', '9954478', '10380836', '11579113', '9648341', '15628']\n",
      "['Europe', 'Elevations Less Than or Equal To 20m ', 'Rural', '13208952', '13851590', '15226199', '11697732', '212558']\n",
      "['Europe', 'Elevations Less Than or Equal To 20m ', 'Urban', '53512695', '55319289', '62521646', '51814850', '84008']\n",
      "['Europe', 'Elevations Less Than or Equal To 3m', 'Rural', '5224425', '5463529', '5929681', '4744031', '72134']\n",
      "['Europe', 'Elevations Less Than or Equal To 3m', 'Urban', '16234092', '16801906', '18647708', '15853153', '24784']\n",
      "['Europe', 'Elevations Less Than or Equal To 5m', 'Rural', '6411169', '6704539', '7286949', '5832084', '89853']\n",
      "['Europe', 'Elevations Less Than or Equal To 5m', 'Urban', '21755340', '22473128', '24902148', '21290248', '32735']\n",
      "['Europe', 'Elevations Less Than or Equal To 7m', 'Rural', '7515264', '7865709', '8568306', '6811908', '106158']\n",
      "['Europe', 'Elevations Less Than or Equal To 7m', 'Urban', '26861165', '27736249', '30779447', '26298853', '40204']\n",
      "['Europe', 'Elevations Less Than or Equal To 9m', 'Rural', '8463637', '8861773', '9662812', '7634002', '121681']\n",
      "['Europe', 'Elevations Less Than or Equal To 9m', 'Urban', '31613048', '32647909', '36469169', '30887023', '47442']\n",
      "['Europe', 'Total National Population', 'Rural', '176568570', '176558812', '223529720', '125348019', '4840266']\n",
      "['Europe', 'Total National Population', 'Urban', '362783257', '371322835', '481254575', '317506277', '632478']\n",
      "['North America', 'Elevations > 20m or Non-Contiguous ', 'Rural', '113350248', '128596426', '128023212', '255497778', '19520575']\n",
      "['North America', 'Elevations > 20m or Non-Contiguous ', 'Urban', '260535875', '296757222', '314603927', '402225848', '972417']\n",
      "['North America', 'Elevations Less Than or Equal To 10m ', 'Rural', '4510499', '5107953', '4527895', '8103077', '536562']\n",
      "['North America', 'Elevations Less Than or Equal To 10m ', 'Urban', '24575726', '27509478', '28219257', '46670306', '61651']\n",
      "['North America', 'Elevations Less Than or Equal To 12m ', 'Rural', '5388410', '6126378', '5451414', '9794501', '605670']\n",
      "['North America', 'Elevations Less Than or Equal To 12m ', 'Urban', '30668871', '34389588', '35375008', '58139996', '76003']\n",
      "['North America', 'Elevations Less Than or Equal To 1m', 'Rural', '592705', '666803', '610997', '1027386', '171365']\n",
      "['North America', 'Elevations Less Than or Equal To 1m', 'Urban', '1566679', '1730214', '1814077', '2382101', '5968']\n",
      "['North America', 'Elevations Less Than or Equal To 20m ', 'Rural', '8380426', '9640179', '8701571', '15548820', '867403']\n",
      "['North America', 'Elevations Less Than or Equal To 20m ', 'Urban', '47379912', '52995004', '54253029', '83639047', '115225']\n",
      "['North America', 'Elevations Less Than or Equal To 3m', 'Rural', '1183749', '1344383', '1233602', '2012079', '252729']\n",
      "['North America', 'Elevations Less Than or Equal To 3m', 'Urban', '4024295', '4406582', '4551369', '6066943', '12827']\n",
      "['North America', 'Elevations Less Than or Equal To 5m', 'Rural', '2078406', '2337609', '2079421', '3593976', '341640']\n",
      "['North America', 'Elevations Less Than or Equal To 5m', 'Urban', '7848219', '8590398', '8771636', '11828205', '22829']\n",
      "['North America', 'Elevations Less Than or Equal To 7m', 'Rural', '3088571', '3465549', '3050583', '5396471', '425342']\n",
      "['North America', 'Elevations Less Than or Equal To 7m', 'Urban', '13479682', '14889220', '15145037', '21342474', '36321']\n",
      "['North America', 'Elevations Less Than or Equal To 9m', 'Rural', '4038490', '4562798', '4039761', '7143160', '499762']\n",
      "['North America', 'Elevations Less Than or Equal To 9m', 'Urban', '20649659', '23006285', '23449955', '38174996', '51825']\n",
      "['North America', 'Total National Population', 'Rural', '121730674', '138236608', '136724785', '271046607', '20387978']\n",
      "['North America', 'Total National Population', 'Urban', '307915785', '349752222', '368856952', '485864890', '1087642']\n",
      "['South America', 'Elevations > 20m or Non-Contiguous ', 'Rural', '105821441', '119567258', '131717443', '223382699', '15247746']\n",
      "['South America', 'Elevations > 20m or Non-Contiguous ', 'Urban', '146797669', '176550823', '203339934', '329625178', '270241']\n",
      "['South America', 'Elevations Less Than or Equal To 10m ', 'Rural', '3707829', '4283574', '4703764', '8943181', '228599']\n",
      "['South America', 'Elevations Less Than or Equal To 10m ', 'Urban', '14465697', '17036372', '19621238', '32574367', '19343']\n",
      "['South America', 'Elevations Less Than or Equal To 12m ', 'Rural', '4291797', '4967927', '5459057', '10353931', '266951']\n",
      "['South America', 'Elevations Less Than or Equal To 12m ', 'Urban', '17264014', '20333114', '23397554', '38844410', '22783']\n",
      "['South America', 'Elevations Less Than or Equal To 1m', 'Rural', '473008', '561960', '619126', '1091701', '20582']\n",
      "['South America', 'Elevations Less Than or Equal To 1m', 'Urban', '709558', '868060', '1009758', '1591369', '1159']\n",
      "['South America', 'Elevations Less Than or Equal To 20m ', 'Rural', '6529092', '7584065', '8338764', '15819940', '452502']\n",
      "['South America', 'Elevations Less Than or Equal To 20m ', 'Urban', '27065733', '31912544', '36628423', '59958936', '34982']\n",
      "['South America', 'Elevations Less Than or Equal To 3m', 'Rural', '943950', '1106559', '1214846', '2218252', '55898']\n",
      "['South America', 'Elevations Less Than or Equal To 3m', 'Urban', '2117574', '2538559', '2938229', '4406100', '3758']\n",
      "['South America', 'Elevations Less Than or Equal To 5m', 'Rural', '1804718', '2093408', '2291934', '4244576', '110866']\n",
      "['South America', 'Elevations Less Than or Equal To 5m', 'Urban', '5101423', '6089933', '7038516', '11400038', '8354']\n",
      "['South America', 'Elevations Less Than or Equal To 7m', 'Rural', '2680636', '3089887', '3387405', '6416774', '165073']\n",
      "['South America', 'Elevations Less Than or Equal To 7m', 'Urban', '9357959', '11074365', '12771388', '21107053', '13236']\n",
      "['South America', 'Elevations Less Than or Equal To 9m', 'Rural', '3373239', '3888725', '4267061', '8057467', '208002']\n",
      "['South America', 'Elevations Less Than or Equal To 9m', 'Urban', '12822897', '15110534', '17402616', '28930098', '17430']\n",
      "['South America', 'Total National Population', 'Rural', '112350531', '127151325', '140056209', '239202641', '15711683']\n",
      "['South America', 'Total National Population', 'Urban', '173863402', '208463363', '239968353', '389584115', '306223']\n"
     ]
    }
   ],
   "source": [
    "with open('dropbox/github/Thinkful/data/lecz-urban-rural-population-land-area-estimates_continent-90m.csv', 'rU') as inputFile:\n",
    "    header = next(inputFile)\n",
    "    for line in inputFile:\n",
    "        line = line.rstrip().split(',')\n",
    "        print(line)"
   ]
  },
  {
   "cell_type": "code",
   "execution_count": 149,
   "metadata": {
    "collapsed": false
   },
   "outputs": [
    {
     "name": "stdout",
     "output_type": "stream",
     "text": [
      "['Africa', 'Total National Population', 'Rural', '361093713', '452970623', '573918429', '1367949254', '24092338']\n",
      "['Africa', 'Total National Population', 'Urban', '195412402', '258131640', '327611385', '649906552', '228175']\n",
      "['Asia', 'Total National Population', 'Rural', '1979944334', '2129687281', '2345920129', '3478325610', '39648539']\n",
      "['Asia', 'Total National Population', 'Urban', '1237986520', '1573156714', '1720930281', '2369159274', '1336611']\n",
      "['Oceania', 'Total National Population', 'Rural', '9561292', '11471250', '14024049', '20681609', '8441651']\n",
      "['Oceania', 'Total National Population', 'Urban', '17136649', '19451769', '23152802', '25224909', '50597']\n",
      "['Europe', 'Total National Population', 'Rural', '176568570', '176558812', '223529720', '125348019', '4840266']\n",
      "['Europe', 'Total National Population', 'Urban', '362783257', '371322835', '481254575', '317506277', '632478']\n",
      "['North America', 'Total National Population', 'Rural', '121730674', '138236608', '136724785', '271046607', '20387978']\n",
      "['North America', 'Total National Population', 'Urban', '307915785', '349752222', '368856952', '485864890', '1087642']\n",
      "['South America', 'Total National Population', 'Rural', '112350531', '127151325', '140056209', '239202641', '15711683']\n",
      "['South America', 'Total National Population', 'Urban', '173863402', '208463363', '239968353', '389584115', '306223']\n"
     ]
    }
   ],
   "source": [
    "\n",
    "with open('dropbox/github/Thinkful/data/lecz-urban-rural-\\\n",
    "population-land-area-estimates_continent-90m.\\\n",
    "csv', 'rU') as inputFile:\n",
    "    header = next(inputFile)\n",
    "    for line in inputFile:\n",
    "        line = line.rstrip().split(',')\n",
    "        if line[1] == 'Total National Population':\n",
    "            print(line)"
   ]
  },
  {
   "cell_type": "code",
   "execution_count": 152,
   "metadata": {
    "collapsed": false
   },
   "outputs": [
    {
     "name": "stdout",
     "output_type": "stream",
     "text": [
      "['Africa', 'Total National Population', 'Rural', '361093713', '452970623', '573918429', '1367949254', '24092338']\n",
      "['Africa', 'Total National Population', 'Urban', '195412402', '258131640', '327611385', '649906552', '228175']\n",
      "['Asia', 'Total National Population', 'Rural', '1979944334', '2129687281', '2345920129', '3478325610', '39648539']\n",
      "['Asia', 'Total National Population', 'Urban', '1237986520', '1573156714', '1720930281', '2369159274', '1336611']\n",
      "['Oceania', 'Total National Population', 'Rural', '9561292', '11471250', '14024049', '20681609', '8441651']\n",
      "['Oceania', 'Total National Population', 'Urban', '17136649', '19451769', '23152802', '25224909', '50597']\n",
      "['Europe', 'Total National Population', 'Rural', '176568570', '176558812', '223529720', '125348019', '4840266']\n",
      "['Europe', 'Total National Population', 'Urban', '362783257', '371322835', '481254575', '317506277', '632478']\n",
      "['North America', 'Total National Population', 'Rural', '121730674', '138236608', '136724785', '271046607', '20387978']\n",
      "['North America', 'Total National Population', 'Urban', '307915785', '349752222', '368856952', '485864890', '1087642']\n",
      "['South America', 'Total National Population', 'Rural', '112350531', '127151325', '140056209', '239202641', '15711683']\n",
      "['South America', 'Total National Population', 'Urban', '173863402', '208463363', '239968353', '389584115', '306223']\n"
     ]
    }
   ],
   "source": [
    "inputFile = open('dropbox/github/thinkful/data/\\\n",
    "lecz-urban-rural-population-land-area-estimates_continent\\\n",
    "-90m.csv', 'r')\n",
    "\n",
    "header = next(inputFile)\n",
    "\n",
    "for line in inputFile:\n",
    "    line = line.rstrip().split(',')\n",
    "    if line[1] == 'Total National Population':\n",
    "        print(line)\n",
    "inputFile.close()"
   ]
  },
  {
   "cell_type": "code",
   "execution_count": 153,
   "metadata": {
    "collapsed": false
   },
   "outputs": [
    {
     "name": "stdout",
     "output_type": "stream",
     "text": [
      "['Continent', 'ElevationZone', 'UrbanRuralDesignation', 'Population1990', 'Population2000', 'Population2010', 'Population2100', 'LandArea']\n"
     ]
    }
   ],
   "source": [
    "header = header.rstrip().split(',')\n",
    "print(header)"
   ]
  },
  {
   "cell_type": "code",
   "execution_count": 157,
   "metadata": {
    "collapsed": false
   },
   "outputs": [
    {
     "name": "stdout",
     "output_type": "stream",
     "text": [
      "Africa 573918429 <class 'str'>\n",
      "Africa 327611385 <class 'str'>\n",
      "Asia 2345920129 <class 'str'>\n",
      "Asia 1720930281 <class 'str'>\n",
      "Oceania 14024049 <class 'str'>\n",
      "Oceania 23152802 <class 'str'>\n",
      "Europe 223529720 <class 'str'>\n",
      "Europe 481254575 <class 'str'>\n",
      "North America 136724785 <class 'str'>\n",
      "North America 368856952 <class 'str'>\n",
      "South America 140056209 <class 'str'>\n",
      "South America 239968353 <class 'str'>\n"
     ]
    }
   ],
   "source": [
    "with open('dropbox/github/thinkful/data/\\\n",
    "lecz-urban-rural-population-land-area-estimates_continent\\\n",
    "-90m.csv', 'rU') as inputFile:\n",
    "    header = next(inputFile)\n",
    "    for line in inputFile:\n",
    "        line = line.rstrip().split(',')\n",
    "        if line[1] == 'Total National Population':\n",
    "            print( line[0], line[5], type(line[5]) )"
   ]
  },
  {
   "cell_type": "code",
   "execution_count": 163,
   "metadata": {
    "collapsed": false
   },
   "outputs": [
    {
     "name": "stdout",
     "output_type": "stream",
     "text": [
      "Africa 573918429 <class 'int'>\n",
      "Africa 327611385 <class 'int'>\n",
      "Asia 2345920129 <class 'int'>\n",
      "Asia 1720930281 <class 'int'>\n",
      "Oceania 14024049 <class 'int'>\n",
      "Oceania 23152802 <class 'int'>\n",
      "Europe 223529720 <class 'int'>\n",
      "Europe 481254575 <class 'int'>\n",
      "North America 136724785 <class 'int'>\n",
      "North America 368856952 <class 'int'>\n",
      "South America 140056209 <class 'int'>\n",
      "South America 239968353 <class 'int'>\n"
     ]
    }
   ],
   "source": [
    "with open('dropbox/github/thinkful/data/\\\n",
    "lecz-urban-rural-population-land-area-estimates_continent\\\n",
    "-90m.csv', 'rU') as inputFile:\n",
    "    header = next(inputFile) #pops the headline\n",
    "    for line in inputFile:\n",
    "        line = line.rstrip().split(',')\n",
    "        line[5] = int(line[5])\n",
    "        if line[1] == 'Total National Population':\n",
    "            print( line[0], line[5], type(line[5]) )"
   ]
  },
  {
   "cell_type": "code",
   "execution_count": 164,
   "metadata": {
    "collapsed": true
   },
   "outputs": [],
   "source": [
    "import collections"
   ]
  },
  {
   "cell_type": "code",
   "execution_count": 168,
   "metadata": {
    "collapsed": false
   },
   "outputs": [],
   "source": [
    "population_dict = collections.defaultdict(int)\n",
    "with open('dropbox/github/thinkful/data/lecz-urban-\\\n",
    "rural-population-land-area-estimates_continent-90m.\\\n",
    "csv', 'rU') as inputFile:\n",
    "    header = next(inputFile)\n",
    "    for line in inputFile:\n",
    "        line = line.rstrip().split(',')\n",
    "        line[5] = int(line[5])\n",
    "        if line[1] == 'Total National Population':\n",
    "            population_dict[line[0]] += line[5]"
   ]
  },
  {
   "cell_type": "markdown",
   "metadata": {},
   "source": [
    "Magic--> ` population_dict[line[0]] += line[5]` \n",
    "that is setting the value and the key is picked automatically."
   ]
  },
  {
   "cell_type": "code",
   "execution_count": 169,
   "metadata": {
    "collapsed": false
   },
   "outputs": [
    {
     "data": {
      "text/plain": [
       "defaultdict(<class 'int'>, {'Asia': 4066850410, 'Europe': 704784295, 'South America': 380024562, 'Oceania': 37176851, 'North America': 505581737, 'Africa': 901529814})"
      ]
     },
     "execution_count": 169,
     "metadata": {},
     "output_type": "execute_result"
    }
   ],
   "source": [
    "population_dict"
   ]
  },
  {
   "cell_type": "code",
   "execution_count": 170,
   "metadata": {
    "collapsed": true
   },
   "outputs": [],
   "source": [
    "from collections import defaultdict"
   ]
  },
  {
   "cell_type": "code",
   "execution_count": 173,
   "metadata": {
    "collapsed": false
   },
   "outputs": [
    {
     "data": {
      "text/plain": [
       "defaultdict(<class 'int'>, {})"
      ]
     },
     "execution_count": 173,
     "metadata": {},
     "output_type": "execute_result"
    }
   ],
   "source": [
    "population_dict = defaultdict(int)\n",
    "population_dict"
   ]
  },
  {
   "cell_type": "code",
   "execution_count": 175,
   "metadata": {
    "collapsed": false
   },
   "outputs": [
    {
     "ename": "FileNotFoundError",
     "evalue": "[Errno 2] No such file or directory: 'tmp/my_data.csv'",
     "output_type": "error",
     "traceback": [
      "\u001b[0;31m---------------------------------------------------------------------------\u001b[0m",
      "\u001b[0;31mFileNotFoundError\u001b[0m                         Traceback (most recent call last)",
      "\u001b[0;32m<ipython-input-175-8e43ecd0ee11>\u001b[0m in \u001b[0;36m<module>\u001b[0;34m()\u001b[0m\n\u001b[0;32m----> 1\u001b[0;31m \u001b[0minputFule\u001b[0m \u001b[0;34m=\u001b[0m \u001b[0mopen\u001b[0m\u001b[0;34m(\u001b[0m\u001b[0;34m'tmp/my_data.csv'\u001b[0m\u001b[0;34m,\u001b[0m\u001b[0;34m'r'\u001b[0m\u001b[0;34m)\u001b[0m\u001b[0;34m\u001b[0m\u001b[0m\n\u001b[0m",
      "\u001b[0;31mFileNotFoundError\u001b[0m: [Errno 2] No such file or directory: 'tmp/my_data.csv'"
     ]
    }
   ],
   "source": [
    "inputFule = open('tmp/my_data.csv','r')"
   ]
  },
  {
   "cell_type": "code",
   "execution_count": null,
   "metadata": {
    "collapsed": true
   },
   "outputs": [],
   "source": []
  }
 ],
 "metadata": {
  "kernelspec": {
   "display_name": "Python 3",
   "language": "python",
   "name": "python3"
  },
  "language_info": {
   "codemirror_mode": {
    "name": "ipython",
    "version": 3
   },
   "file_extension": ".py",
   "mimetype": "text/x-python",
   "name": "python",
   "nbconvert_exporter": "python",
   "pygments_lexer": "ipython3",
   "version": "3.4.3"
  }
 },
 "nbformat": 4,
 "nbformat_minor": 0
}
