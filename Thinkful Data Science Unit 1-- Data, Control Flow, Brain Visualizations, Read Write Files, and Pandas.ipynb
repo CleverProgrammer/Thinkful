{
 "cells": [
  {
   "cell_type": "markdown",
   "metadata": {},
   "source": [
    "# Easily Compare Data Types"
   ]
  },
  {
   "cell_type": "code",
   "execution_count": 1,
   "metadata": {
    "collapsed": false
   },
   "outputs": [
    {
     "name": "stdout",
     "output_type": "stream",
     "text": [
      "hello is NOT bool\n"
     ]
    }
   ],
   "source": [
    "def bool_or_not(t):\n",
    "    if type(t) == bool:\n",
    "        print(' %s is bool' %t)\n",
    "    else:\n",
    "        print('%s is NOT bool' %t)\n",
    "\n",
    "bool_or_not('hello')"
   ]
  },
  {
   "cell_type": "code",
   "execution_count": 26,
   "metadata": {
    "collapsed": true
   },
   "outputs": [],
   "source": [
    "from IPython.display import Image"
   ]
  },
  {
   "cell_type": "code",
   "execution_count": 29,
   "metadata": {
    "collapsed": false
   },
   "outputs": [
    {
     "data": {
      "text/html": [
       "<img src=\"https://tf-curricula-prod.s3.amazonaws.com/curricula/b04b6f653b9d364d5612ac767527458a/DATA-001/v2/assets2/1.1.3_Get_To_Know_Pythons_Data_Types/Data_types_2.png\"/>"
      ],
      "text/plain": [
       "<IPython.core.display.Image object>"
      ]
     },
     "execution_count": 29,
     "metadata": {},
     "output_type": "execute_result"
    }
   ],
   "source": [
    "Image(url='https://tf-curricula-prod.s3.amazonaws.com/curricula/b04b6f653b9d364d5612ac767527458a/DATA-001/v2/assets2/1.1.3_Get_To_Know_Pythons_Data_Types/Data_types_2.png')"
   ]
  },
  {
   "cell_type": "markdown",
   "metadata": {},
   "source": [
    "# String Formatting"
   ]
  },
  {
   "cell_type": "markdown",
   "metadata": {},
   "source": [
    "<li>{}.format()\n",
    "<li>%s - represent literal\n",
    "<li>%d - represent digit"
   ]
  },
  {
   "cell_type": "code",
   "execution_count": 30,
   "metadata": {
    "collapsed": false
   },
   "outputs": [
    {
     "data": {
      "text/plain": [
       "'Yo what is up breh? I am just chilling'"
      ]
     },
     "execution_count": 30,
     "metadata": {},
     "output_type": "execute_result"
    }
   ],
   "source": [
    "\"{0} what is up {1}? I am just {2}\".format('Yo','breh',\n",
    "                                          'chilling')"
   ]
  },
  {
   "cell_type": "code",
   "execution_count": 45,
   "metadata": {
    "collapsed": false
   },
   "outputs": [
    {
     "name": "stdout",
     "output_type": "stream",
     "text": [
      "Reversed: [5, 4, 3, 2, 1]\n",
      "Deleted index 2: [1, 2, 4, 5]\n",
      "1 in li: True\n",
      "Stepping by 2: [0, 2, 4, 6, 8, 10, 12, 14, 16, 18]\n"
     ]
    }
   ],
   "source": [
    "x = [1,2,3,4,5]\n",
    "print( \"Reversed: %s\" %x[::-1])\n",
    "\n",
    "del x[2]\n",
    "print( \"Deleted index 2: %s\" %x)\n",
    "\n",
    "print (\"1 in li: %s\" %(1 in x))\n",
    "\n",
    "q = list(range(0,20,2))\n",
    "print (\"Stepping by 2: %s\" %(q))"
   ]
  },
  {
   "cell_type": "markdown",
   "metadata": {},
   "source": [
    "# Sets\n",
    "<li> &   -- Return similarities between sets\n",
    "<li> |   -- Return joint sets (set1 + set2)"
   ]
  },
  {
   "cell_type": "code",
   "execution_count": 46,
   "metadata": {
    "collapsed": false
   },
   "outputs": [
    {
     "data": {
      "text/plain": [
       "{1, 2, 3, 4, 5, 6, 7}"
      ]
     },
     "execution_count": 46,
     "metadata": {},
     "output_type": "execute_result"
    }
   ],
   "source": [
    "my_set = {1,2,2,3,4,5,6,7}\n",
    "my_set"
   ]
  },
  {
   "cell_type": "code",
   "execution_count": 47,
   "metadata": {
    "collapsed": false
   },
   "outputs": [
    {
     "data": {
      "text/plain": [
       "{6, 7, 8, 9, 10}"
      ]
     },
     "execution_count": 47,
     "metadata": {},
     "output_type": "execute_result"
    }
   ],
   "source": [
    "your_set = {6,7,8,9,10}\n",
    "your_set"
   ]
  },
  {
   "cell_type": "code",
   "execution_count": 48,
   "metadata": {
    "collapsed": false
   },
   "outputs": [
    {
     "data": {
      "text/plain": [
       "{6, 7}"
      ]
     },
     "execution_count": 48,
     "metadata": {},
     "output_type": "execute_result"
    }
   ],
   "source": [
    "# & command\n",
    "# Return similar values between sets\n",
    "my_set & your_set"
   ]
  },
  {
   "cell_type": "code",
   "execution_count": 49,
   "metadata": {
    "collapsed": false
   },
   "outputs": [
    {
     "data": {
      "text/plain": [
       "{1, 2, 3, 4, 5, 6, 7, 8, 9, 10}"
      ]
     },
     "execution_count": 49,
     "metadata": {},
     "output_type": "execute_result"
    }
   ],
   "source": [
    "# | return joint sets\n",
    "my_set | your_set"
   ]
  },
  {
   "cell_type": "code",
   "execution_count": 53,
   "metadata": {
    "collapsed": false
   },
   "outputs": [
    {
     "data": {
      "text/html": [
       "<img src=\"http://s29.postimg.org/86323s15j/Python_Data_Types.png\"/>"
      ],
      "text/plain": [
       "<IPython.core.display.Image object>"
      ]
     },
     "execution_count": 53,
     "metadata": {},
     "output_type": "execute_result"
    }
   ],
   "source": [
    "Image(url='http://s29.postimg.org/86323s15j/Python_Data_Types.png')"
   ]
  },
  {
   "cell_type": "code",
   "execution_count": 55,
   "metadata": {
    "collapsed": true
   },
   "outputs": [],
   "source": [
    "actors = {\n",
    "    \"Kyle MacLachlan\": \"Dale Cooper\",\n",
    "    \"Sheryl Lee\": \"Laura Palmer\",\n",
    "    \"Lara Flynn Boyle\": \"Donna Hayward\",\n",
    "    \"Sherilyn Fenn\" : \"Audrey Horne\"\n",
    "}"
   ]
  },
  {
   "cell_type": "code",
   "execution_count": 56,
   "metadata": {
    "collapsed": false
   },
   "outputs": [
    {
     "name": "stdout",
     "output_type": "stream",
     "text": [
      "Actor: Lara Flynn Boyle\n",
      "Role: Donna Hayward\n",
      "\n",
      "Actor: Sherilyn Fenn\n",
      "Role: Audrey Horne\n",
      "\n",
      "Actor: Kyle MacLachlan\n",
      "Role: Dale Cooper\n",
      "\n",
      "Actor: Sheryl Lee\n",
      "Role: Laura Palmer\n",
      "\n"
     ]
    }
   ],
   "source": [
    "for i in actors:\n",
    "    print (\"Actor: %s\" %i)\n",
    "    print (\"Role: %s\\n\" %actors[i])\n",
    "    \n",
    "# i will print the name of the actors\n",
    "# actors[i] will return the role of the actor."
   ]
  },
  {
   "cell_type": "markdown",
   "metadata": {},
   "source": [
    "**Use a while loop to solve the following problem: A slow, but determined, walker sets off from Leicester to cover the 102 miles to London at 2 miles per hour. Another walker sets off from London heading to Leicester going at 1 mile per hour. Where do they meet?**"
   ]
  },
  {
   "cell_type": "code",
   "execution_count": 61,
   "metadata": {
    "collapsed": false
   },
   "outputs": [
    {
     "name": "stdout",
     "output_type": "stream",
     "text": [
      "Leicester: 34\n",
      "London: 34\n",
      "They meet at: 34\n"
     ]
    }
   ],
   "source": [
    "Leicester = 102\n",
    "London = 0\n",
    "while London != Leicester:\n",
    "    Leicester -= 2\n",
    "    London += 1\n",
    "print (\"Leicester: %s\" %Leicester)\n",
    "print (\"London: %s\" %London)\n",
    "print (\"They meet at: %s\" %London)"
   ]
  },
  {
   "cell_type": "markdown",
   "metadata": {},
   "source": [
    "# Try Block Error Catching"
   ]
  },
  {
   "cell_type": "code",
   "execution_count": 66,
   "metadata": {
    "collapsed": false
   },
   "outputs": [
    {
     "name": "stdout",
     "output_type": "stream",
     "text": [
      "1\n"
     ]
    },
    {
     "ename": "ZeroDivisionError",
     "evalue": "division by zero",
     "output_type": "error",
     "traceback": [
      "\u001b[0;31m---------------------------------------------------------------------------\u001b[0m",
      "\u001b[0;31mZeroDivisionError\u001b[0m                         Traceback (most recent call last)",
      "\u001b[0;32m<ipython-input-66-5618efdf3e1d>\u001b[0m in \u001b[0;36m<module>\u001b[0;34m()\u001b[0m\n\u001b[1;32m      2\u001b[0m \u001b[0ma\u001b[0m \u001b[0;34m=\u001b[0m \u001b[0mint\u001b[0m\u001b[0;34m(\u001b[0m\u001b[0minput\u001b[0m\u001b[0;34m(\u001b[0m\u001b[0;34m)\u001b[0m\u001b[0;34m)\u001b[0m\u001b[0;34m\u001b[0m\u001b[0m\n\u001b[1;32m      3\u001b[0m \u001b[0mb\u001b[0m \u001b[0;34m=\u001b[0m \u001b[0;36m0\u001b[0m\u001b[0;34m\u001b[0m\u001b[0m\n\u001b[0;32m----> 4\u001b[0;31m \u001b[0ma\u001b[0m\u001b[0;34m/\u001b[0m\u001b[0mb\u001b[0m\u001b[0;34m\u001b[0m\u001b[0m\n\u001b[0m",
      "\u001b[0;31mZeroDivisionError\u001b[0m: division by zero"
     ]
    }
   ],
   "source": [
    "# Stupid Error-ful example\n",
    "a = int(input())\n",
    "b = 0\n",
    "a/b"
   ]
  },
  {
   "cell_type": "code",
   "execution_count": 65,
   "metadata": {
    "collapsed": false
   },
   "outputs": [
    {
     "name": "stdout",
     "output_type": "stream",
     "text": [
      "1\n",
      "Cannot divide by zero man. Come on.\n"
     ]
    }
   ],
   "source": [
    "# Better error example\n",
    "a = int(input())\n",
    "b = 0\n",
    "try:\n",
    "    a/b\n",
    "except ZeroDivisionError:\n",
    "    print(\"Cannot divide by zero man. Come on.\")"
   ]
  },
  {
   "cell_type": "code",
   "execution_count": 70,
   "metadata": {
    "collapsed": false
   },
   "outputs": [
    {
     "name": "stdout",
     "output_type": "stream",
     "text": [
      "Person does not exist\n"
     ]
    }
   ],
   "source": [
    "phone_book = {\n",
    "    \"Sarah Hughes\": \"01234 567890\",\n",
    "    \"Tim Taylor\": \"02345 678901\",\n",
    "    \"Sam Smith\":  \"03456 789012\"\n",
    "}\n",
    "\n",
    "try: phone_book['Jamie Theakston']\n",
    "except KeyError: print(\"Person does not exist\")"
   ]
  },
  {
   "cell_type": "markdown",
   "metadata": {},
   "source": [
    "### You can loop over dictionaries from the collections package keep running tallies. UNLIKE regular dictionaries"
   ]
  },
  {
   "cell_type": "code",
   "execution_count": 71,
   "metadata": {
    "collapsed": true
   },
   "outputs": [],
   "source": [
    "import collections"
   ]
  },
  {
   "cell_type": "code",
   "execution_count": 93,
   "metadata": {
    "collapsed": false
   },
   "outputs": [],
   "source": [
    "# Key is indexing by 1, Value is collecting number of\n",
    "# times a number is occurring.\n",
    "number_list = [1,1,2,2,2,2,3,3,4,4,5,5,5,5,5,5,6,7,8,8,8,8,9,9,9,9]\n",
    "count_dict = collections.defaultdict(int)\n",
    "for i in number_list:\n",
    "    count_dict[i] += 1"
   ]
  },
  {
   "cell_type": "code",
   "execution_count": 94,
   "metadata": {
    "collapsed": false
   },
   "outputs": [
    {
     "data": {
      "text/plain": [
       "defaultdict(<class 'int'>, {1: 1, 2: 4, 3: 2, 4: 2, 5: 6, 'st': 2, 7: 1, 8: 4, 9: 4, 6: 1})"
      ]
     },
     "execution_count": 94,
     "metadata": {},
     "output_type": "execute_result"
    }
   ],
   "source": [
    "count_dict"
   ]
  },
  {
   "cell_type": "markdown",
   "metadata": {},
   "source": [
    "<li> You can also simply use the function Counter below on collections to populate the dictionaries as well.\n",
    "<li>count_dict **==** new (because dictionary order does not matter)"
   ]
  },
  {
   "cell_type": "code",
   "execution_count": 87,
   "metadata": {
    "collapsed": false
   },
   "outputs": [
    {
     "data": {
      "text/plain": [
       "Counter({5: 6, 2: 4, 8: 4, 9: 4, 1: 2, 3: 2, 4: 2, 6: 1, 7: 1})"
      ]
     },
     "execution_count": 87,
     "metadata": {},
     "output_type": "execute_result"
    }
   ],
   "source": [
    "new = collections.Counter(number_list)\n",
    "new"
   ]
  },
  {
   "cell_type": "markdown",
   "metadata": {},
   "source": [
    "> [if `i` wasn't a key in the dictionary, Python created the key and set the value to 1. If the key was already in the dictionary, Python added 1 to the value.](https://courses.thinkful.com/data-001v2/assignment/1.1.4)"
   ]
  },
  {
   "cell_type": "code",
   "execution_count": 98,
   "metadata": {
    "collapsed": false
   },
   "outputs": [],
   "source": [
    "# Dictionary Tally\n",
    "tallies = ['rafeh','rafeh','qazi','sql','sql','sql']\n",
    "counting_dict = collections.defaultdict(int)\n",
    "#(int) is defining the VALUE type.\n",
    "for i in tallies:\n",
    "    # i == keys\n",
    "    # manipulate values --> counting_dict[i]\n",
    "    counting_dict[i] += 1\n"
   ]
  },
  {
   "cell_type": "code",
   "execution_count": 99,
   "metadata": {
    "collapsed": false
   },
   "outputs": [
    {
     "data": {
      "text/plain": [
       "defaultdict(<class 'int'>, {'rafeh': 2, 'qazi': 1, 'sql': 3})"
      ]
     },
     "execution_count": 99,
     "metadata": {},
     "output_type": "execute_result"
    }
   ],
   "source": [
    "counting_dict"
   ]
  },
  {
   "cell_type": "code",
   "execution_count": 101,
   "metadata": {
    "collapsed": false
   },
   "outputs": [
    {
     "data": {
      "text/plain": [
       "Counter({'sql': 3, 'rafeh': 2, 'qazi': 1})"
      ]
     },
     "execution_count": 101,
     "metadata": {},
     "output_type": "execute_result"
    }
   ],
   "source": [
    "better_counting_dict = collections.Counter(tallies)\n",
    "better_counting_dict"
   ]
  },
  {
   "cell_type": "markdown",
   "metadata": {
    "collapsed": true
   },
   "source": [
    "# Functions"
   ]
  },
  {
   "cell_type": "code",
   "execution_count": 3,
   "metadata": {
    "collapsed": false
   },
   "outputs": [
    {
     "data": {
      "text/plain": [
       "7"
      ]
     },
     "execution_count": 3,
     "metadata": {},
     "output_type": "execute_result"
    }
   ],
   "source": [
    "def addition(a,b):\n",
    "    return a + b\n",
    "addition(5,2)"
   ]
  },
  {
   "cell_type": "code",
   "execution_count": 21,
   "metadata": {
    "collapsed": false,
    "scrolled": true
   },
   "outputs": [
    {
     "name": "stdout",
     "output_type": "stream",
     "text": [
      "Message logged: Adding 1 and 2 = 3\n",
      "Message logged: Adding 2 and 3 = 5\n",
      "Message logged: Adding 3 and 5 = 8\n",
      "Message logged: Adding 5 and 8 = 13\n"
     ]
    },
    {
     "data": {
      "text/plain": [
       "13"
      ]
     },
     "execution_count": 21,
     "metadata": {},
     "output_type": "execute_result"
    }
   ],
   "source": [
    "from datetime import datetime\n",
    "import logging\n",
    "\n",
    "def log_handler(msg):\n",
    "    \"\"\"Sends msg to the logging platform\"\"\"\n",
    "    date = str(datetime.now())\n",
    "    msg = date + \" - \" + msg\n",
    "    return logging.info(msg)\n",
    "\n",
    "def log(msg):\n",
    "    \"\"\"A convenience function. Adds msg to the logs with log_handler\"\"\"\n",
    "    msg = str(msg)\n",
    "    print(\"Message logged: \" + msg)\n",
    "    return log_handler(msg)\n",
    "\n",
    "def addition(a,b):\n",
    "    \"\"\"Adds two numbers and logs the result\"\"\"\n",
    "    x = a + b\n",
    "    log(\"Adding {0} and {1} = {2}\".format(a, b, x))\n",
    "    return x\n",
    "\n",
    "addition(1, 2)\n",
    "addition(2, 3)\n",
    "addition(5, addition(3,5))"
   ]
  },
  {
   "cell_type": "code",
   "execution_count": 6,
   "metadata": {
    "collapsed": false
   },
   "outputs": [
    {
     "data": {
      "text/plain": [
       "'2015-08-28 19:38:06.951715'"
      ]
     },
     "execution_count": 6,
     "metadata": {},
     "output_type": "execute_result"
    }
   ],
   "source": [
    "str(datetime.now())"
   ]
  },
  {
   "cell_type": "markdown",
   "metadata": {},
   "source": [
    "# Baking a Cake\n",
    "Writing an algorithm is a lot like writing a recipe. You have a list of ingredients, like a list of variables and a dataset; you have a list of instructions, like a list of functions and commands to run in a script. Take the following recipe for brownies:\n",
    "\n",
    "Ingredients:\n",
    "\n",
    "<li>1/2 cup butter\n",
    "<li>1 cup sugar\n",
    "<li>2 eggs\n",
    "<li>1 tsp vanilla extract\n",
    "<li>1/2 cup cocoa\n",
    "<li>1/2 cup flour\n",
    "\n",
    "Directions:\n",
    "\n",
    "<li>If butter is not soft, then melt butter.\n",
    "\n",
    "<li>Blend melted butter and sugar until mixture has creamy consistency, about 3 minutes\n",
    "\n",
    "<li>Add eggs and vanilla; stir\n",
    "\n",
    "<li>Add cocoa and flour; mix until well blended, about 4 minutes\n",
    "\n",
    "<li>Pour into greased round glass cake pan\n",
    "\n",
    "<li>Bake in oven 350 degrees for 30 minutes"
   ]
  },
  {
   "cell_type": "code",
   "execution_count": 26,
   "metadata": {
    "collapsed": false
   },
   "outputs": [
    {
     "name": "stdout",
     "output_type": "stream",
     "text": [
      "Melting butter.\n",
      "Adding butter to the bowl.\n",
      "Adding sugar to the bowl.\n",
      "Mixing ['butter', 'sugar'].\n",
      "Mixing ['butter', 'sugar'].\n",
      "Mixing ['butter', 'sugar'].\n",
      "Adding eggs to the bowl.\n",
      "Adding vanilla to the bowl.\n",
      "Mixing ['butter', 'sugar', 'eggs', 'vanilla'].\n",
      "Adding cocoa to the bowl.\n",
      "Adding flour to the bowl.\n",
      "Baking ['butter', 'sugar', 'eggs', 'vanilla', 'cocoa', 'flour'] at 350.\n",
      "Baking ['butter', 'sugar', 'eggs', 'vanilla', 'cocoa', 'flour'] at 350.\n",
      "Baking ['butter', 'sugar', 'eggs', 'vanilla', 'cocoa', 'flour'] at 350.\n",
      "Baking ['butter', 'sugar', 'eggs', 'vanilla', 'cocoa', 'flour'] at 350.\n",
      "Baking ['butter', 'sugar', 'eggs', 'vanilla', 'cocoa', 'flour'] at 350.\n",
      "Baking ['butter', 'sugar', 'eggs', 'vanilla', 'cocoa', 'flour'] at 350.\n",
      "Baking ['butter', 'sugar', 'eggs', 'vanilla', 'cocoa', 'flour'] at 350.\n",
      "Baking ['butter', 'sugar', 'eggs', 'vanilla', 'cocoa', 'flour'] at 350.\n",
      "Baking ['butter', 'sugar', 'eggs', 'vanilla', 'cocoa', 'flour'] at 350.\n",
      "Baking ['butter', 'sugar', 'eggs', 'vanilla', 'cocoa', 'flour'] at 350.\n",
      "Baking ['butter', 'sugar', 'eggs', 'vanilla', 'cocoa', 'flour'] at 350.\n",
      "Baking ['butter', 'sugar', 'eggs', 'vanilla', 'cocoa', 'flour'] at 350.\n",
      "Baking ['butter', 'sugar', 'eggs', 'vanilla', 'cocoa', 'flour'] at 350.\n",
      "Baking ['butter', 'sugar', 'eggs', 'vanilla', 'cocoa', 'flour'] at 350.\n",
      "Baking ['butter', 'sugar', 'eggs', 'vanilla', 'cocoa', 'flour'] at 350.\n",
      "Baking ['butter', 'sugar', 'eggs', 'vanilla', 'cocoa', 'flour'] at 350.\n",
      "Baking ['butter', 'sugar', 'eggs', 'vanilla', 'cocoa', 'flour'] at 350.\n",
      "Baking ['butter', 'sugar', 'eggs', 'vanilla', 'cocoa', 'flour'] at 350.\n",
      "Baking ['butter', 'sugar', 'eggs', 'vanilla', 'cocoa', 'flour'] at 350.\n",
      "Baking ['butter', 'sugar', 'eggs', 'vanilla', 'cocoa', 'flour'] at 350.\n",
      "Baking ['butter', 'sugar', 'eggs', 'vanilla', 'cocoa', 'flour'] at 350.\n",
      "Baking ['butter', 'sugar', 'eggs', 'vanilla', 'cocoa', 'flour'] at 350.\n",
      "Baking ['butter', 'sugar', 'eggs', 'vanilla', 'cocoa', 'flour'] at 350.\n",
      "Baking ['butter', 'sugar', 'eggs', 'vanilla', 'cocoa', 'flour'] at 350.\n",
      "Baking ['butter', 'sugar', 'eggs', 'vanilla', 'cocoa', 'flour'] at 350.\n",
      "Baking ['butter', 'sugar', 'eggs', 'vanilla', 'cocoa', 'flour'] at 350.\n",
      "Baking ['butter', 'sugar', 'eggs', 'vanilla', 'cocoa', 'flour'] at 350.\n",
      "Baking ['butter', 'sugar', 'eggs', 'vanilla', 'cocoa', 'flour'] at 350.\n",
      "Baking ['butter', 'sugar', 'eggs', 'vanilla', 'cocoa', 'flour'] at 350.\n",
      "Baking ['butter', 'sugar', 'eggs', 'vanilla', 'cocoa', 'flour'] at 350.\n",
      "cake is done!\n"
     ]
    }
   ],
   "source": [
    "ingredients = {\n",
    "    \"butter\" : (\"butter\", 118.3),\n",
    "    \"sugar\"  : (\"sugar\", 236.6),\n",
    "    \"vanilla\" : (\"vanilla\", 4.929),\n",
    "    \"eggs\"   : (\"eggs\", 2),\n",
    "    \"cocoa\"  : (\"cocoa\", 118.3),\n",
    "    \"flour\"  : (\"flour\", 118.3)\n",
    "}\n",
    "\n",
    "# The butter was refrigerated, so it's not soft yet.\n",
    "butter_soft = False\n",
    "\n",
    "bowl = []\n",
    "\n",
    "# To make the cake, we'll need the following functions\n",
    "def melt(this):\n",
    "    print(\"Melting {0}.\".format(this))\n",
    "    \n",
    "def bake(this, temp):\n",
    "    print(\"Baking {0} at {1}.\".format(this,temp))\n",
    "    \n",
    "def mix(this):\n",
    "    print(\"Mixing {0}.\".format(this))\n",
    "    \n",
    "def add_to_bowl(ingredient):\n",
    "    print(\"Adding {0} to the bowl.\".format(ingredient))\n",
    "    return bowl.append(ingredient)\n",
    "\n",
    "##### Start the algorithm! ######\n",
    "\n",
    "if butter_soft != True:\n",
    "    melt(ingredients[\"butter\"][0])\n",
    "    butter_soft = True\n",
    "    \n",
    "add_to_bowl(ingredients[\"butter\"][0])\n",
    "add_to_bowl(ingredients[\"sugar\"][0])\n",
    "\n",
    "mixing_time = 0\n",
    "mixture_creamy = False\n",
    "\n",
    "# Mix until creamy\n",
    "while mixture_creamy == False:\n",
    "    mix(bowl)\n",
    "    mixing_time += 1\n",
    "    if mixing_time == 3:\n",
    "        mixture_creamy = True\n",
    "        \n",
    "add_to_bowl(ingredients[\"eggs\"][0])\n",
    "add_to_bowl(ingredients[\"vanilla\"][0])\n",
    "\n",
    "mix(bowl)\n",
    "\n",
    "add_to_bowl(ingredients[\"cocoa\"][0])\n",
    "add_to_bowl(ingredients[\"flour\"][0])\n",
    "\n",
    "blended = False\n",
    "blend_time = 0\n",
    "while blended == True:\n",
    "    mix(bowl)\n",
    "    blend_time += 1\n",
    "    if blend_time == 4:\n",
    "        blended = True\n",
    "\n",
    "cake_pan = bowl #dump all the bowl ingredients into cake_pan\n",
    "\n",
    "cooking_temp = 350\n",
    "cooking_time = 30\n",
    "\n",
    "for minute in range(0, cooking_time):\n",
    "    bake(cake_pan, cooking_temp)\n",
    "    \n",
    "print(\"cake is done!\")\n",
    "    \n",
    "    \n"
   ]
  },
  {
   "cell_type": "markdown",
   "metadata": {},
   "source": [
    "# Recursion"
   ]
  },
  {
   "cell_type": "code",
   "execution_count": 39,
   "metadata": {
    "collapsed": false
   },
   "outputs": [
    {
     "name": "stdout",
     "output_type": "stream",
     "text": [
      "n: 6\n",
      "n: 5\n",
      "n: 4\n",
      "n: 3\n",
      "n: 2\n",
      "n: 1\n",
      "n: 1\n",
      "fibonacci(n-1): 1\n",
      "n: 0\n",
      "n: 0\n",
      "fibonacci(n-2): 0\n",
      "n: 1\n",
      "n: 1\n",
      "n: 0\n",
      "n: 0\n",
      "fibonacci(n-1): 1\n",
      "n: 1\n",
      "n: 1\n",
      "fibonacci(n-2): 1\n",
      "n: 2\n",
      "n: 1\n",
      "n: 1\n",
      "fibonacci(n-1): 1\n",
      "n: 0\n",
      "n: 0\n",
      "fibonacci(n-2): 0\n",
      "n: 1\n",
      "n: 1\n",
      "n: 0\n",
      "n: 0\n",
      "n: 1\n",
      "n: 1\n",
      "fibonacci(n-1): 2\n",
      "n: 2\n",
      "n: 1\n",
      "n: 1\n",
      "fibonacci(n-1): 1\n",
      "n: 0\n",
      "n: 0\n",
      "fibonacci(n-2): 0\n",
      "n: 1\n",
      "n: 1\n",
      "n: 0\n",
      "n: 0\n",
      "fibonacci(n-2): 1\n",
      "n: 3\n",
      "n: 2\n",
      "n: 1\n",
      "n: 1\n",
      "fibonacci(n-1): 1\n",
      "n: 0\n",
      "n: 0\n",
      "fibonacci(n-2): 0\n",
      "n: 1\n",
      "n: 1\n",
      "n: 0\n",
      "n: 0\n",
      "fibonacci(n-1): 1\n",
      "n: 1\n",
      "n: 1\n",
      "fibonacci(n-2): 1\n",
      "n: 2\n",
      "n: 1\n",
      "n: 1\n",
      "fibonacci(n-1): 1\n",
      "n: 0\n",
      "n: 0\n",
      "fibonacci(n-2): 0\n",
      "n: 1\n",
      "n: 1\n",
      "n: 0\n",
      "n: 0\n",
      "n: 1\n",
      "n: 1\n",
      "n: 2\n",
      "n: 1\n",
      "n: 1\n",
      "fibonacci(n-1): 1\n",
      "n: 0\n",
      "n: 0\n",
      "fibonacci(n-2): 0\n",
      "n: 1\n",
      "n: 1\n",
      "n: 0\n",
      "n: 0\n",
      "fibonacci(n-1): 3\n",
      "n: 3\n",
      "n: 2\n",
      "n: 1\n",
      "n: 1\n",
      "fibonacci(n-1): 1\n",
      "n: 0\n",
      "n: 0\n",
      "fibonacci(n-2): 0\n",
      "n: 1\n",
      "n: 1\n",
      "n: 0\n",
      "n: 0\n",
      "fibonacci(n-1): 1\n",
      "n: 1\n",
      "n: 1\n",
      "fibonacci(n-2): 1\n",
      "n: 2\n",
      "n: 1\n",
      "n: 1\n",
      "fibonacci(n-1): 1\n",
      "n: 0\n",
      "n: 0\n",
      "fibonacci(n-2): 0\n",
      "n: 1\n",
      "n: 1\n",
      "n: 0\n",
      "n: 0\n",
      "n: 1\n",
      "n: 1\n",
      "fibonacci(n-2): 2\n",
      "n: 4\n",
      "n: 3\n",
      "n: 2\n",
      "n: 1\n",
      "n: 1\n",
      "fibonacci(n-1): 1\n",
      "n: 0\n",
      "n: 0\n",
      "fibonacci(n-2): 0\n",
      "n: 1\n",
      "n: 1\n",
      "n: 0\n",
      "n: 0\n",
      "fibonacci(n-1): 1\n",
      "n: 1\n",
      "n: 1\n",
      "fibonacci(n-2): 1\n",
      "n: 2\n",
      "n: 1\n",
      "n: 1\n",
      "fibonacci(n-1): 1\n",
      "n: 0\n",
      "n: 0\n",
      "fibonacci(n-2): 0\n",
      "n: 1\n",
      "n: 1\n",
      "n: 0\n",
      "n: 0\n",
      "n: 1\n",
      "n: 1\n",
      "fibonacci(n-1): 2\n",
      "n: 2\n",
      "n: 1\n",
      "n: 1\n",
      "fibonacci(n-1): 1\n",
      "n: 0\n",
      "n: 0\n",
      "fibonacci(n-2): 0\n",
      "n: 1\n",
      "n: 1\n",
      "n: 0\n",
      "n: 0\n",
      "fibonacci(n-2): 1\n",
      "n: 3\n",
      "n: 2\n",
      "n: 1\n",
      "n: 1\n",
      "fibonacci(n-1): 1\n",
      "n: 0\n",
      "n: 0\n",
      "fibonacci(n-2): 0\n",
      "n: 1\n",
      "n: 1\n",
      "n: 0\n",
      "n: 0\n",
      "fibonacci(n-1): 1\n",
      "n: 1\n",
      "n: 1\n",
      "fibonacci(n-2): 1\n",
      "n: 2\n",
      "n: 1\n",
      "n: 1\n",
      "fibonacci(n-1): 1\n",
      "n: 0\n",
      "n: 0\n",
      "fibonacci(n-2): 0\n",
      "n: 1\n",
      "n: 1\n",
      "n: 0\n",
      "n: 0\n",
      "n: 1\n",
      "n: 1\n",
      "n: 2\n",
      "n: 1\n",
      "n: 1\n",
      "fibonacci(n-1): 1\n",
      "n: 0\n",
      "n: 0\n",
      "fibonacci(n-2): 0\n",
      "n: 1\n",
      "n: 1\n",
      "n: 0\n",
      "n: 0\n",
      "n: 3\n",
      "n: 2\n",
      "n: 1\n",
      "n: 1\n",
      "fibonacci(n-1): 1\n",
      "n: 0\n",
      "n: 0\n",
      "fibonacci(n-2): 0\n",
      "n: 1\n",
      "n: 1\n",
      "n: 0\n",
      "n: 0\n",
      "fibonacci(n-1): 1\n",
      "n: 1\n",
      "n: 1\n",
      "fibonacci(n-2): 1\n",
      "n: 2\n",
      "n: 1\n",
      "n: 1\n",
      "fibonacci(n-1): 1\n",
      "n: 0\n",
      "n: 0\n",
      "fibonacci(n-2): 0\n",
      "n: 1\n",
      "n: 1\n",
      "n: 0\n",
      "n: 0\n",
      "n: 1\n",
      "n: 1\n",
      "fibonacci(n-1): 5\n",
      "n: 4\n",
      "n: 3\n",
      "n: 2\n",
      "n: 1\n",
      "n: 1\n",
      "fibonacci(n-1): 1\n",
      "n: 0\n",
      "n: 0\n",
      "fibonacci(n-2): 0\n",
      "n: 1\n",
      "n: 1\n",
      "n: 0\n",
      "n: 0\n",
      "fibonacci(n-1): 1\n",
      "n: 1\n",
      "n: 1\n",
      "fibonacci(n-2): 1\n",
      "n: 2\n",
      "n: 1\n",
      "n: 1\n",
      "fibonacci(n-1): 1\n",
      "n: 0\n",
      "n: 0\n",
      "fibonacci(n-2): 0\n",
      "n: 1\n",
      "n: 1\n",
      "n: 0\n",
      "n: 0\n",
      "n: 1\n",
      "n: 1\n",
      "fibonacci(n-1): 2\n",
      "n: 2\n",
      "n: 1\n",
      "n: 1\n",
      "fibonacci(n-1): 1\n",
      "n: 0\n",
      "n: 0\n",
      "fibonacci(n-2): 0\n",
      "n: 1\n",
      "n: 1\n",
      "n: 0\n",
      "n: 0\n",
      "fibonacci(n-2): 1\n",
      "n: 3\n",
      "n: 2\n",
      "n: 1\n",
      "n: 1\n",
      "fibonacci(n-1): 1\n",
      "n: 0\n",
      "n: 0\n",
      "fibonacci(n-2): 0\n",
      "n: 1\n",
      "n: 1\n",
      "n: 0\n",
      "n: 0\n",
      "fibonacci(n-1): 1\n",
      "n: 1\n",
      "n: 1\n",
      "fibonacci(n-2): 1\n",
      "n: 2\n",
      "n: 1\n",
      "n: 1\n",
      "fibonacci(n-1): 1\n",
      "n: 0\n",
      "n: 0\n",
      "fibonacci(n-2): 0\n",
      "n: 1\n",
      "n: 1\n",
      "n: 0\n",
      "n: 0\n",
      "n: 1\n",
      "n: 1\n",
      "n: 2\n",
      "n: 1\n",
      "n: 1\n",
      "fibonacci(n-1): 1\n",
      "n: 0\n",
      "n: 0\n",
      "fibonacci(n-2): 0\n",
      "n: 1\n",
      "n: 1\n",
      "n: 0\n",
      "n: 0\n",
      "fibonacci(n-2): 3\n",
      "n: 5\n",
      "n: 4\n",
      "n: 3\n",
      "n: 2\n",
      "n: 1\n",
      "n: 1\n",
      "fibonacci(n-1): 1\n",
      "n: 0\n",
      "n: 0\n",
      "fibonacci(n-2): 0\n",
      "n: 1\n",
      "n: 1\n",
      "n: 0\n",
      "n: 0\n",
      "fibonacci(n-1): 1\n",
      "n: 1\n",
      "n: 1\n",
      "fibonacci(n-2): 1\n",
      "n: 2\n",
      "n: 1\n",
      "n: 1\n",
      "fibonacci(n-1): 1\n",
      "n: 0\n",
      "n: 0\n",
      "fibonacci(n-2): 0\n",
      "n: 1\n",
      "n: 1\n",
      "n: 0\n",
      "n: 0\n",
      "n: 1\n",
      "n: 1\n",
      "fibonacci(n-1): 2\n",
      "n: 2\n",
      "n: 1\n",
      "n: 1\n",
      "fibonacci(n-1): 1\n",
      "n: 0\n",
      "n: 0\n",
      "fibonacci(n-2): 0\n",
      "n: 1\n",
      "n: 1\n",
      "n: 0\n",
      "n: 0\n",
      "fibonacci(n-2): 1\n",
      "n: 3\n",
      "n: 2\n",
      "n: 1\n",
      "n: 1\n",
      "fibonacci(n-1): 1\n",
      "n: 0\n",
      "n: 0\n",
      "fibonacci(n-2): 0\n",
      "n: 1\n",
      "n: 1\n",
      "n: 0\n",
      "n: 0\n",
      "fibonacci(n-1): 1\n",
      "n: 1\n",
      "n: 1\n",
      "fibonacci(n-2): 1\n",
      "n: 2\n",
      "n: 1\n",
      "n: 1\n",
      "fibonacci(n-1): 1\n",
      "n: 0\n",
      "n: 0\n",
      "fibonacci(n-2): 0\n",
      "n: 1\n",
      "n: 1\n",
      "n: 0\n",
      "n: 0\n",
      "n: 1\n",
      "n: 1\n",
      "n: 2\n",
      "n: 1\n",
      "n: 1\n",
      "fibonacci(n-1): 1\n",
      "n: 0\n",
      "n: 0\n",
      "fibonacci(n-2): 0\n",
      "n: 1\n",
      "n: 1\n",
      "n: 0\n",
      "n: 0\n",
      "fibonacci(n-1): 3\n",
      "n: 3\n",
      "n: 2\n",
      "n: 1\n",
      "n: 1\n",
      "fibonacci(n-1): 1\n",
      "n: 0\n",
      "n: 0\n",
      "fibonacci(n-2): 0\n",
      "n: 1\n",
      "n: 1\n",
      "n: 0\n",
      "n: 0\n",
      "fibonacci(n-1): 1\n",
      "n: 1\n",
      "n: 1\n",
      "fibonacci(n-2): 1\n",
      "n: 2\n",
      "n: 1\n",
      "n: 1\n",
      "fibonacci(n-1): 1\n",
      "n: 0\n",
      "n: 0\n",
      "fibonacci(n-2): 0\n",
      "n: 1\n",
      "n: 1\n",
      "n: 0\n",
      "n: 0\n",
      "n: 1\n",
      "n: 1\n",
      "fibonacci(n-2): 2\n",
      "n: 4\n",
      "n: 3\n",
      "n: 2\n",
      "n: 1\n",
      "n: 1\n",
      "fibonacci(n-1): 1\n",
      "n: 0\n",
      "n: 0\n",
      "fibonacci(n-2): 0\n",
      "n: 1\n",
      "n: 1\n",
      "n: 0\n",
      "n: 0\n",
      "fibonacci(n-1): 1\n",
      "n: 1\n",
      "n: 1\n",
      "fibonacci(n-2): 1\n",
      "n: 2\n",
      "n: 1\n",
      "n: 1\n",
      "fibonacci(n-1): 1\n",
      "n: 0\n",
      "n: 0\n",
      "fibonacci(n-2): 0\n",
      "n: 1\n",
      "n: 1\n",
      "n: 0\n",
      "n: 0\n",
      "n: 1\n",
      "n: 1\n",
      "fibonacci(n-1): 2\n",
      "n: 2\n",
      "n: 1\n",
      "n: 1\n",
      "fibonacci(n-1): 1\n",
      "n: 0\n",
      "n: 0\n",
      "fibonacci(n-2): 0\n",
      "n: 1\n",
      "n: 1\n",
      "n: 0\n",
      "n: 0\n",
      "fibonacci(n-2): 1\n",
      "n: 3\n",
      "n: 2\n",
      "n: 1\n",
      "n: 1\n",
      "fibonacci(n-1): 1\n",
      "n: 0\n",
      "n: 0\n",
      "fibonacci(n-2): 0\n",
      "n: 1\n",
      "n: 1\n",
      "n: 0\n",
      "n: 0\n",
      "fibonacci(n-1): 1\n",
      "n: 1\n",
      "n: 1\n",
      "fibonacci(n-2): 1\n",
      "n: 2\n",
      "n: 1\n",
      "n: 1\n",
      "fibonacci(n-1): 1\n",
      "n: 0\n",
      "n: 0\n",
      "fibonacci(n-2): 0\n",
      "n: 1\n",
      "n: 1\n",
      "n: 0\n",
      "n: 0\n",
      "n: 1\n",
      "n: 1\n",
      "n: 2\n",
      "n: 1\n",
      "n: 1\n",
      "fibonacci(n-1): 1\n",
      "n: 0\n",
      "n: 0\n",
      "fibonacci(n-2): 0\n",
      "n: 1\n",
      "n: 1\n",
      "n: 0\n",
      "n: 0\n",
      "n: 3\n",
      "n: 2\n",
      "n: 1\n",
      "n: 1\n",
      "fibonacci(n-1): 1\n",
      "n: 0\n",
      "n: 0\n",
      "fibonacci(n-2): 0\n",
      "n: 1\n",
      "n: 1\n",
      "n: 0\n",
      "n: 0\n",
      "fibonacci(n-1): 1\n",
      "n: 1\n",
      "n: 1\n",
      "fibonacci(n-2): 1\n",
      "n: 2\n",
      "n: 1\n",
      "n: 1\n",
      "fibonacci(n-1): 1\n",
      "n: 0\n",
      "n: 0\n",
      "fibonacci(n-2): 0\n",
      "n: 1\n",
      "n: 1\n",
      "n: 0\n",
      "n: 0\n",
      "n: 1\n",
      "n: 1\n",
      "n: 4\n",
      "n: 3\n",
      "n: 2\n",
      "n: 1\n",
      "n: 1\n",
      "fibonacci(n-1): 1\n",
      "n: 0\n",
      "n: 0\n",
      "fibonacci(n-2): 0\n",
      "n: 1\n",
      "n: 1\n",
      "n: 0\n",
      "n: 0\n",
      "fibonacci(n-1): 1\n",
      "n: 1\n",
      "n: 1\n",
      "fibonacci(n-2): 1\n",
      "n: 2\n",
      "n: 1\n",
      "n: 1\n",
      "fibonacci(n-1): 1\n",
      "n: 0\n",
      "n: 0\n",
      "fibonacci(n-2): 0\n",
      "n: 1\n",
      "n: 1\n",
      "n: 0\n",
      "n: 0\n",
      "n: 1\n",
      "n: 1\n",
      "fibonacci(n-1): 2\n",
      "n: 2\n",
      "n: 1\n",
      "n: 1\n",
      "fibonacci(n-1): 1\n",
      "n: 0\n",
      "n: 0\n",
      "fibonacci(n-2): 0\n",
      "n: 1\n",
      "n: 1\n",
      "n: 0\n",
      "n: 0\n",
      "fibonacci(n-2): 1\n",
      "n: 3\n",
      "n: 2\n",
      "n: 1\n",
      "n: 1\n",
      "fibonacci(n-1): 1\n",
      "n: 0\n",
      "n: 0\n",
      "fibonacci(n-2): 0\n",
      "n: 1\n",
      "n: 1\n",
      "n: 0\n",
      "n: 0\n",
      "fibonacci(n-1): 1\n",
      "n: 1\n",
      "n: 1\n",
      "fibonacci(n-2): 1\n",
      "n: 2\n",
      "n: 1\n",
      "n: 1\n",
      "fibonacci(n-1): 1\n",
      "n: 0\n",
      "n: 0\n",
      "fibonacci(n-2): 0\n",
      "n: 1\n",
      "n: 1\n",
      "n: 0\n",
      "n: 0\n",
      "n: 1\n",
      "n: 1\n",
      "n: 2\n",
      "n: 1\n",
      "n: 1\n",
      "fibonacci(n-1): 1\n",
      "n: 0\n",
      "n: 0\n",
      "fibonacci(n-2): 0\n",
      "n: 1\n",
      "n: 1\n",
      "n: 0\n",
      "n: 0\n"
     ]
    },
    {
     "data": {
      "text/plain": [
       "8"
      ]
     },
     "execution_count": 39,
     "metadata": {},
     "output_type": "execute_result"
    }
   ],
   "source": [
    "# fn   = fn-1 + fn-2\n",
    "# f(0) = 0\n",
    "# f(1) = 0\n",
    "# f(2) = f(1) + f(0) = 1\n",
    "# f(3) = f(2) + f(1) = 2\n",
    "# f(4) = f(3) + f(2) = 3\n",
    "# f(5) = f(4) + f(3) = 5\n",
    "# f(6) = f(5) + f(4) = 8\n",
    "# f(7) = f(6) + f(5) = 13\n",
    "# f(8) = f(7) + f(6) = 21\n",
    "# f(9) = f(8) + f(7) = 34\n",
    "# f(10)= f(9) + f(8) = 55\n",
    "# f(11)= f(10)+ f(9) = 89\n",
    "# f(11)= f(10)+ f(9) = 144\n",
    "def fibonacci(n):\n",
    "    print (\"n: %d\" %n)\n",
    "    if n < 2:\n",
    "        print (\"n: %d\" %n)\n",
    "        return n\n",
    "    else:\n",
    "        print ('fibonacci(n-1): %d' %fibonacci(n-1))\n",
    "        print ('fibonacci(n-2): %d' %fibonacci(n-2))\n",
    "        return fibonacci(n-1) + fibonacci(n-2)\n",
    "\n",
    "fibonacci(6)\n",
    "\n",
    "# Solving steps for fibonacci(7)\n",
    "# 7 is not < 2\n",
    "# fibonacci(6) ?\n",
    "# 6 is not < 2\n",
    "# fibonacci(5) ?\n",
    "# 5 is not < 2\n",
    "# fibonacci(4) ?\n",
    "# 4 is not < 2\n",
    "# fibonacci(3) ?\n",
    "# 3 is not < 2\n",
    "# fibonacci(2) ?\n",
    "# 2 is not < 2\n",
    "# fibonacci(1) ?\n",
    "# 1 IS < 2\n",
    "# return 1\n",
    "# fibonacci(1) == 1\n",
    "# \n",
    "    "
   ]
  },
  {
   "cell_type": "code",
   "execution_count": 35,
   "metadata": {
    "collapsed": false
   },
   "outputs": [],
   "source": [
    "#def factorial(n):\n",
    " #   if n<1:\n",
    "  #      return n\n",
    "   # else:\n",
    "    #    return factorial(n) * factorial(n-1)\n",
    "    \n"
   ]
  },
  {
   "cell_type": "markdown",
   "metadata": {},
   "source": [
    "##Can you write a FizzBuzz algorithm? It goes like this:\n",
    "<li>Loop through all the integers from 1 to 100\n",
    "<li>If the number is divisible by 3, print \"Fizz\"\n",
    "<li>If the number is divisible by 5, print \"Buzz\"\n",
    "<li>If the number is divisible by both, print \"FizzBuzz\"\n",
    "<li>If the number is divisible by neither, print the number"
   ]
  },
  {
   "cell_type": "code",
   "execution_count": 59,
   "metadata": {
    "collapsed": false
   },
   "outputs": [
    {
     "name": "stdout",
     "output_type": "stream",
     "text": [
      "1\n",
      "2\n",
      "Fizz\n",
      "4\n",
      "Buzz\n",
      "Fizz\n",
      "7\n",
      "8\n",
      "Fizz\n",
      "Buzz\n",
      "11\n",
      "Fizz\n",
      "13\n",
      "14\n",
      "FizzBuzz\n",
      "16\n",
      "17\n",
      "Fizz\n",
      "19\n",
      "Buzz\n",
      "Fizz\n",
      "22\n",
      "23\n",
      "Fizz\n",
      "Buzz\n",
      "26\n",
      "Fizz\n",
      "28\n",
      "29\n",
      "FizzBuzz\n",
      "31\n",
      "32\n",
      "Fizz\n",
      "34\n",
      "Buzz\n",
      "Fizz\n",
      "37\n",
      "38\n",
      "Fizz\n",
      "Buzz\n",
      "41\n",
      "Fizz\n",
      "43\n",
      "44\n",
      "FizzBuzz\n",
      "46\n",
      "47\n",
      "Fizz\n",
      "49\n",
      "Buzz\n",
      "Fizz\n",
      "52\n",
      "53\n",
      "Fizz\n",
      "Buzz\n",
      "56\n",
      "Fizz\n",
      "58\n",
      "59\n",
      "FizzBuzz\n",
      "61\n",
      "62\n",
      "Fizz\n",
      "64\n",
      "Buzz\n",
      "Fizz\n",
      "67\n",
      "68\n",
      "Fizz\n",
      "Buzz\n",
      "71\n",
      "Fizz\n",
      "73\n",
      "74\n",
      "FizzBuzz\n",
      "76\n",
      "77\n",
      "Fizz\n",
      "79\n",
      "Buzz\n",
      "Fizz\n",
      "82\n",
      "83\n",
      "Fizz\n",
      "Buzz\n",
      "86\n",
      "Fizz\n",
      "88\n",
      "89\n",
      "FizzBuzz\n",
      "91\n",
      "92\n",
      "Fizz\n",
      "94\n",
      "Buzz\n",
      "Fizz\n",
      "97\n",
      "98\n",
      "Fizz\n",
      "Buzz\n"
     ]
    }
   ],
   "source": [
    "# online one-line solution --> for i in range(1,101): print(\"Fizz\"*(i%3==0) + \"Buzz\"*(i%5==0) or i)\n",
    "\n",
    "def FizzBuzz():\n",
    "    for i in range(1, 101):\n",
    "        if (i % 3 == 0) and (i % 5 == 0):\n",
    "            print(\"FizzBuzz\")\n",
    "        elif i % 3 == 0:\n",
    "            print(\"Fizz\")\n",
    "        elif i % 5 == 0:\n",
    "            print(\"Buzz\")\n",
    "        else:\n",
    "            print(i)\n",
    "        \n",
    "FizzBuzz()"
   ]
  },
  {
   "cell_type": "code",
   "execution_count": 42,
   "metadata": {
    "collapsed": false,
    "scrolled": false
   },
   "outputs": [
    {
     "data": {
      "text/plain": [
       "True"
      ]
     },
     "execution_count": 42,
     "metadata": {},
     "output_type": "execute_result"
    }
   ],
   "source": [
    "0 % 5 == 0"
   ]
  },
  {
   "cell_type": "code",
   "execution_count": 55,
   "metadata": {
    "collapsed": false
   },
   "outputs": [
    {
     "name": "stdout",
     "output_type": "stream",
     "text": [
      "101902\n"
     ]
    }
   ],
   "source": [
    "def appendsums(lst):\n",
    "    \n",
    "    for i in range(25):\n",
    "        s = sum(lst[-3:])\n",
    "        lst.append(s)\n",
    "    return lst\n",
    "\n",
    "sum_three = [0,1,2]\n",
    "appendsums(sum_three)\n",
    "print(sum_three[20])"
   ]
  },
  {
   "cell_type": "code",
   "execution_count": 56,
   "metadata": {
    "collapsed": false
   },
   "outputs": [
    {
     "data": {
      "text/plain": [
       "float"
      ]
     },
     "execution_count": 56,
     "metadata": {},
     "output_type": "execute_result"
    }
   ],
   "source": [
    "p = 3.14\n",
    "type(p)"
   ]
  },
  {
   "cell_type": "code",
   "execution_count": null,
   "metadata": {
    "collapsed": true
   },
   "outputs": [],
   "source": []
  }
 ],
 "metadata": {
  "kernelspec": {
   "display_name": "Python 3",
   "language": "python",
   "name": "python3"
  },
  "language_info": {
   "codemirror_mode": {
    "name": "ipython",
    "version": 3
   },
   "file_extension": ".py",
   "mimetype": "text/x-python",
   "name": "python",
   "nbconvert_exporter": "python",
   "pygments_lexer": "ipython3",
   "version": "3.4.3"
  }
 },
 "nbformat": 4,
 "nbformat_minor": 0
}
