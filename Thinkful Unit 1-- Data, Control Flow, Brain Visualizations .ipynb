{
 "cells": [
  {
   "cell_type": "markdown",
   "metadata": {},
   "source": [
    "# Easily Compare Data Types"
   ]
  },
  {
   "cell_type": "code",
   "execution_count": 1,
   "metadata": {
    "collapsed": false
   },
   "outputs": [
    {
     "name": "stdout",
     "output_type": "stream",
     "text": [
      "hello is NOT bool\n"
     ]
    }
   ],
   "source": [
    "def bool_or_not(t):\n",
    "    if type(t) == bool:\n",
    "        print(' %s is bool' %t)\n",
    "    else:\n",
    "        print('%s is NOT bool' %t)\n",
    "\n",
    "bool_or_not('hello')"
   ]
  },
  {
   "cell_type": "code",
   "execution_count": 5,
   "metadata": {
    "collapsed": true
   },
   "outputs": [],
   "source": [
    "from IPython.display import IFrame"
   ]
  },
  {
   "cell_type": "code",
   "execution_count": 13,
   "metadata": {
    "collapsed": false
   },
   "outputs": [
    {
     "data": {
      "text/html": [
       "\n",
       "        <iframe\n",
       "            width=\"853\"\n",
       "            height=\"480\"\n",
       "            src=\"https://coggle.it/diagram/VeAz8GonHq5Me0vE/fff7e54e53f32c8f42ad59c38bca7780c29072964e1179b594d769e53600c0d7\"\n",
       "            frameborder=\"0\"\n",
       "            allowfullscreen\n",
       "        ></iframe>\n",
       "        "
      ],
      "text/plain": [
       "<IPython.lib.display.IFrame at 0x10493d320>"
      ]
     },
     "execution_count": 13,
     "metadata": {},
     "output_type": "execute_result"
    }
   ],
   "source": [
    "IFrame('https://coggle.it/diagram/VeAz8GonHq5Me0vE/fff7e54e53f32c8f42ad59c38bca7780c29072964e1179b594d769e53600c0d7', width=853, height=480)"
   ]
  },
  {
   "cell_type": "code",
   "execution_count": 26,
   "metadata": {
    "collapsed": true
   },
   "outputs": [],
   "source": [
    "from IPython.display import Image"
   ]
  },
  {
   "cell_type": "code",
   "execution_count": 29,
   "metadata": {
    "collapsed": false
   },
   "outputs": [
    {
     "data": {
      "text/html": [
       "<img src=\"https://tf-curricula-prod.s3.amazonaws.com/curricula/b04b6f653b9d364d5612ac767527458a/DATA-001/v2/assets2/1.1.3_Get_To_Know_Pythons_Data_Types/Data_types_2.png\"/>"
      ],
      "text/plain": [
       "<IPython.core.display.Image object>"
      ]
     },
     "execution_count": 29,
     "metadata": {},
     "output_type": "execute_result"
    }
   ],
   "source": [
    "Image(url='https://tf-curricula-prod.s3.amazonaws.com/curricula/b04b6f653b9d364d5612ac767527458a/DATA-001/v2/assets2/1.1.3_Get_To_Know_Pythons_Data_Types/Data_types_2.png')"
   ]
  },
  {
   "cell_type": "markdown",
   "metadata": {},
   "source": [
    "# String Formatting"
   ]
  },
  {
   "cell_type": "markdown",
   "metadata": {},
   "source": [
    "<li>{}.format()\n",
    "<li>%s - represent literal\n",
    "<li>%d - represent digit"
   ]
  },
  {
   "cell_type": "code",
   "execution_count": 30,
   "metadata": {
    "collapsed": false
   },
   "outputs": [
    {
     "data": {
      "text/plain": [
       "'Yo what is up breh? I am just chilling'"
      ]
     },
     "execution_count": 30,
     "metadata": {},
     "output_type": "execute_result"
    }
   ],
   "source": [
    "\"{0} what is up {1}? I am just {2}\".format('Yo','breh',\n",
    "                                          'chilling')"
   ]
  },
  {
   "cell_type": "code",
   "execution_count": 45,
   "metadata": {
    "collapsed": false
   },
   "outputs": [
    {
     "name": "stdout",
     "output_type": "stream",
     "text": [
      "Reversed: [5, 4, 3, 2, 1]\n",
      "Deleted index 2: [1, 2, 4, 5]\n",
      "1 in li: True\n",
      "Stepping by 2: [0, 2, 4, 6, 8, 10, 12, 14, 16, 18]\n"
     ]
    }
   ],
   "source": [
    "x = [1,2,3,4,5]\n",
    "print( \"Reversed: %s\" %x[::-1])\n",
    "\n",
    "del x[2]\n",
    "print( \"Deleted index 2: %s\" %x)\n",
    "\n",
    "print (\"1 in li: %s\" %(1 in x))\n",
    "\n",
    "q = list(range(0,20,2))\n",
    "print (\"Stepping by 2: %s\" %(q))"
   ]
  },
  {
   "cell_type": "markdown",
   "metadata": {},
   "source": [
    "# Sets\n",
    "<li> &   -- Return similarities between sets\n",
    "<li> |   -- Return joint sets (set1 + set2)"
   ]
  },
  {
   "cell_type": "code",
   "execution_count": 46,
   "metadata": {
    "collapsed": false
   },
   "outputs": [
    {
     "data": {
      "text/plain": [
       "{1, 2, 3, 4, 5, 6, 7}"
      ]
     },
     "execution_count": 46,
     "metadata": {},
     "output_type": "execute_result"
    }
   ],
   "source": [
    "my_set = {1,2,2,3,4,5,6,7}\n",
    "my_set"
   ]
  },
  {
   "cell_type": "code",
   "execution_count": 47,
   "metadata": {
    "collapsed": false
   },
   "outputs": [
    {
     "data": {
      "text/plain": [
       "{6, 7, 8, 9, 10}"
      ]
     },
     "execution_count": 47,
     "metadata": {},
     "output_type": "execute_result"
    }
   ],
   "source": [
    "your_set = {6,7,8,9,10}\n",
    "your_set"
   ]
  },
  {
   "cell_type": "code",
   "execution_count": 48,
   "metadata": {
    "collapsed": false
   },
   "outputs": [
    {
     "data": {
      "text/plain": [
       "{6, 7}"
      ]
     },
     "execution_count": 48,
     "metadata": {},
     "output_type": "execute_result"
    }
   ],
   "source": [
    "# & command\n",
    "# Return similar values between sets\n",
    "my_set & your_set"
   ]
  },
  {
   "cell_type": "code",
   "execution_count": 49,
   "metadata": {
    "collapsed": false
   },
   "outputs": [
    {
     "data": {
      "text/plain": [
       "{1, 2, 3, 4, 5, 6, 7, 8, 9, 10}"
      ]
     },
     "execution_count": 49,
     "metadata": {},
     "output_type": "execute_result"
    }
   ],
   "source": [
    "# | return joint sets\n",
    "my_set | your_set"
   ]
  },
  {
   "cell_type": "code",
   "execution_count": 53,
   "metadata": {
    "collapsed": false
   },
   "outputs": [
    {
     "data": {
      "text/html": [
       "<img src=\"http://s29.postimg.org/86323s15j/Python_Data_Types.png\"/>"
      ],
      "text/plain": [
       "<IPython.core.display.Image object>"
      ]
     },
     "execution_count": 53,
     "metadata": {},
     "output_type": "execute_result"
    }
   ],
   "source": [
    "Image(url='http://s29.postimg.org/86323s15j/Python_Data_Types.png')"
   ]
  },
  {
   "cell_type": "code",
   "execution_count": 55,
   "metadata": {
    "collapsed": true
   },
   "outputs": [],
   "source": [
    "actors = {\n",
    "    \"Kyle MacLachlan\": \"Dale Cooper\",\n",
    "    \"Sheryl Lee\": \"Laura Palmer\",\n",
    "    \"Lara Flynn Boyle\": \"Donna Hayward\",\n",
    "    \"Sherilyn Fenn\" : \"Audrey Horne\"\n",
    "}"
   ]
  },
  {
   "cell_type": "code",
   "execution_count": 56,
   "metadata": {
    "collapsed": false
   },
   "outputs": [
    {
     "name": "stdout",
     "output_type": "stream",
     "text": [
      "Actor: Lara Flynn Boyle\n",
      "Role: Donna Hayward\n",
      "\n",
      "Actor: Sherilyn Fenn\n",
      "Role: Audrey Horne\n",
      "\n",
      "Actor: Kyle MacLachlan\n",
      "Role: Dale Cooper\n",
      "\n",
      "Actor: Sheryl Lee\n",
      "Role: Laura Palmer\n",
      "\n"
     ]
    }
   ],
   "source": [
    "for i in actors:\n",
    "    print (\"Actor: %s\" %i)\n",
    "    print (\"Role: %s\\n\" %actors[i])\n",
    "    \n",
    "# i will print the name of the actors\n",
    "# actors[i] will return the role of the actor."
   ]
  },
  {
   "cell_type": "markdown",
   "metadata": {},
   "source": [
    "**Use a while loop to solve the following problem: A slow, but determined, walker sets off from Leicester to cover the 102 miles to London at 2 miles per hour. Another walker sets off from London heading to Leicester going at 1 mile per hour. Where do they meet?**"
   ]
  },
  {
   "cell_type": "code",
   "execution_count": 61,
   "metadata": {
    "collapsed": false
   },
   "outputs": [
    {
     "name": "stdout",
     "output_type": "stream",
     "text": [
      "Leicester: 34\n",
      "London: 34\n",
      "They meet at: 34\n"
     ]
    }
   ],
   "source": [
    "Leicester = 102\n",
    "London = 0\n",
    "while London != Leicester:\n",
    "    Leicester -= 2\n",
    "    London += 1\n",
    "print (\"Leicester: %s\" %Leicester)\n",
    "print (\"London: %s\" %London)\n",
    "print (\"They meet at: %s\" %London)"
   ]
  },
  {
   "cell_type": "markdown",
   "metadata": {},
   "source": [
    "# Try Block Error Catching"
   ]
  },
  {
   "cell_type": "code",
   "execution_count": 66,
   "metadata": {
    "collapsed": false
   },
   "outputs": [
    {
     "name": "stdout",
     "output_type": "stream",
     "text": [
      "1\n"
     ]
    },
    {
     "ename": "ZeroDivisionError",
     "evalue": "division by zero",
     "output_type": "error",
     "traceback": [
      "\u001b[0;31m---------------------------------------------------------------------------\u001b[0m",
      "\u001b[0;31mZeroDivisionError\u001b[0m                         Traceback (most recent call last)",
      "\u001b[0;32m<ipython-input-66-5618efdf3e1d>\u001b[0m in \u001b[0;36m<module>\u001b[0;34m()\u001b[0m\n\u001b[1;32m      2\u001b[0m \u001b[0ma\u001b[0m \u001b[0;34m=\u001b[0m \u001b[0mint\u001b[0m\u001b[0;34m(\u001b[0m\u001b[0minput\u001b[0m\u001b[0;34m(\u001b[0m\u001b[0;34m)\u001b[0m\u001b[0;34m)\u001b[0m\u001b[0;34m\u001b[0m\u001b[0m\n\u001b[1;32m      3\u001b[0m \u001b[0mb\u001b[0m \u001b[0;34m=\u001b[0m \u001b[0;36m0\u001b[0m\u001b[0;34m\u001b[0m\u001b[0m\n\u001b[0;32m----> 4\u001b[0;31m \u001b[0ma\u001b[0m\u001b[0;34m/\u001b[0m\u001b[0mb\u001b[0m\u001b[0;34m\u001b[0m\u001b[0m\n\u001b[0m",
      "\u001b[0;31mZeroDivisionError\u001b[0m: division by zero"
     ]
    }
   ],
   "source": [
    "# Stupid Error-ful example\n",
    "a = int(input())\n",
    "b = 0\n",
    "a/b"
   ]
  },
  {
   "cell_type": "code",
   "execution_count": 65,
   "metadata": {
    "collapsed": false
   },
   "outputs": [
    {
     "name": "stdout",
     "output_type": "stream",
     "text": [
      "1\n",
      "Cannot divide by zero man. Come on.\n"
     ]
    }
   ],
   "source": [
    "# Better error example\n",
    "a = int(input())\n",
    "b = 0\n",
    "try:\n",
    "    a/b\n",
    "except ZeroDivisionError:\n",
    "    print(\"Cannot divide by zero man. Come on.\")"
   ]
  },
  {
   "cell_type": "code",
   "execution_count": 70,
   "metadata": {
    "collapsed": false
   },
   "outputs": [
    {
     "name": "stdout",
     "output_type": "stream",
     "text": [
      "Person does not exist\n"
     ]
    }
   ],
   "source": [
    "phone_book = {\n",
    "    \"Sarah Hughes\": \"01234 567890\",\n",
    "    \"Tim Taylor\": \"02345 678901\",\n",
    "    \"Sam Smith\":  \"03456 789012\"\n",
    "}\n",
    "\n",
    "try: phone_book['Jamie Theakston']\n",
    "except KeyError: print(\"Person does not exist\")"
   ]
  },
  {
   "cell_type": "markdown",
   "metadata": {},
   "source": [
    "### You can loop over dictionaries from the collections package keep running tallies. UNLIKE regular dictionaries"
   ]
  },
  {
   "cell_type": "code",
   "execution_count": 71,
   "metadata": {
    "collapsed": true
   },
   "outputs": [],
   "source": [
    "import collections"
   ]
  },
  {
   "cell_type": "code",
   "execution_count": 93,
   "metadata": {
    "collapsed": false
   },
   "outputs": [],
   "source": [
    "# Key is indexing by 1, Value is collecting number of\n",
    "# times a number is occurring.\n",
    "number_list = [1,1,2,2,2,2,3,3,4,4,5,5,5,5,5,5,6,7,8,8,8,8,9,9,9,9]\n",
    "count_dict = collections.defaultdict(int)\n",
    "for i in number_list:\n",
    "    count_dict[i] += 1"
   ]
  },
  {
   "cell_type": "code",
   "execution_count": 94,
   "metadata": {
    "collapsed": false
   },
   "outputs": [
    {
     "data": {
      "text/plain": [
       "defaultdict(<class 'int'>, {1: 1, 2: 4, 3: 2, 4: 2, 5: 6, 'st': 2, 7: 1, 8: 4, 9: 4, 6: 1})"
      ]
     },
     "execution_count": 94,
     "metadata": {},
     "output_type": "execute_result"
    }
   ],
   "source": [
    "count_dict"
   ]
  },
  {
   "cell_type": "markdown",
   "metadata": {},
   "source": [
    "<li> You can also simply use the function Counter below on collections to populate the dictionaries as well.\n",
    "<li>count_dict **==** new (because dictionary order does not matter)"
   ]
  },
  {
   "cell_type": "code",
   "execution_count": 87,
   "metadata": {
    "collapsed": false
   },
   "outputs": [
    {
     "data": {
      "text/plain": [
       "Counter({5: 6, 2: 4, 8: 4, 9: 4, 1: 2, 3: 2, 4: 2, 6: 1, 7: 1})"
      ]
     },
     "execution_count": 87,
     "metadata": {},
     "output_type": "execute_result"
    }
   ],
   "source": [
    "new = collections.Counter(number_list)\n",
    "new"
   ]
  },
  {
   "cell_type": "markdown",
   "metadata": {},
   "source": [
    "> [if `i` wasn't a key in the dictionary, Python created the key and set the value to 1. If the key was already in the dictionary, Python added 1 to the value.](https://courses.thinkful.com/data-001v2/assignment/1.1.4)"
   ]
  },
  {
   "cell_type": "code",
   "execution_count": 98,
   "metadata": {
    "collapsed": false
   },
   "outputs": [],
   "source": [
    "# Dictionary Tally\n",
    "tallies = ['rafeh','rafeh','qazi','sql','sql','sql']\n",
    "counting_dict = collections.defaultdict(int)\n",
    "#(int) is defining the VALUE type.\n",
    "for i in tallies:\n",
    "    # i == keys\n",
    "    # manipulate values --> counting_dict[i]\n",
    "    counting_dict[i] += 1\n"
   ]
  },
  {
   "cell_type": "code",
   "execution_count": 99,
   "metadata": {
    "collapsed": false
   },
   "outputs": [
    {
     "data": {
      "text/plain": [
       "defaultdict(<class 'int'>, {'rafeh': 2, 'qazi': 1, 'sql': 3})"
      ]
     },
     "execution_count": 99,
     "metadata": {},
     "output_type": "execute_result"
    }
   ],
   "source": [
    "counting_dict"
   ]
  },
  {
   "cell_type": "code",
   "execution_count": 101,
   "metadata": {
    "collapsed": false
   },
   "outputs": [
    {
     "data": {
      "text/plain": [
       "Counter({'sql': 3, 'rafeh': 2, 'qazi': 1})"
      ]
     },
     "execution_count": 101,
     "metadata": {},
     "output_type": "execute_result"
    }
   ],
   "source": [
    "better_counting_dict = collections.Counter(tallies)\n",
    "better_counting_dict"
   ]
  },
  {
   "cell_type": "code",
   "execution_count": null,
   "metadata": {
    "collapsed": true
   },
   "outputs": [],
   "source": [
    "a"
   ]
  }
 ],
 "metadata": {
  "kernelspec": {
   "display_name": "Python 3",
   "language": "python",
   "name": "python3"
  },
  "language_info": {
   "codemirror_mode": {
    "name": "ipython",
    "version": 3
   },
   "file_extension": ".py",
   "mimetype": "text/x-python",
   "name": "python",
   "nbconvert_exporter": "python",
   "pygments_lexer": "ipython3",
   "version": "3.4.3"
  }
 },
 "nbformat": 4,
 "nbformat_minor": 0
}
